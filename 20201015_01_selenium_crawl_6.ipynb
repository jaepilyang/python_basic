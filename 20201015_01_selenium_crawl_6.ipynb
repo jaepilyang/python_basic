{
 "cells": [
  {
   "cell_type": "code",
   "execution_count": 1,
   "metadata": {},
   "outputs": [],
   "source": [
    "# 대한민국 100대 통계지표\n",
    "# http://ecos.bok.or.kr/jsp/vis/keystat/#/key"
   ]
  },
  {
   "cell_type": "code",
   "execution_count": 2,
   "metadata": {},
   "outputs": [],
   "source": [
    "# 1. '국민소득, 경기, 기업경영' 항목의 경제지표 타이틀을 출력\n",
    "# 2. '국민소득, 경기, 기업경영' 항목의 경제지표 중 임의의 한 경제지표를 입력 받은 후\n",
    "# 3. 선택한 경제지표의 상세 정보를 페이지로 이동\n",
    "# 4. 연도별 경제지표 표를 크로링해서 출력"
   ]
  },
  {
   "cell_type": "code",
   "execution_count": 4,
   "metadata": {},
   "outputs": [],
   "source": [
    "from selenium import webdriver\n",
    "from bs4 import BeautifulSoup as bs\n",
    "import time\n",
    "import requests"
   ]
  },
  {
   "cell_type": "code",
   "execution_count": 5,
   "metadata": {},
   "outputs": [],
   "source": [
    "driver = webdriver.Chrome('./chromedriver')\n",
    "driver.get('http://ecos.bok.or.kr/jsp/vis/keystat/#/key')"
   ]
  },
  {
   "cell_type": "code",
   "execution_count": 31,
   "metadata": {
    "collapsed": true
   },
   "outputs": [
    {
     "data": {
      "text/plain": [
       "[<selenium.webdriver.remote.webelement.WebElement (session=\"821ff06e9e7eae9901bee1bf9adb6d3f\", element=\"5664f311-75fb-47f3-b3c3-aa1bc4a2de83\")>,\n",
       " <selenium.webdriver.remote.webelement.WebElement (session=\"821ff06e9e7eae9901bee1bf9adb6d3f\", element=\"52fecfca-3753-45c0-be7f-5610c09468ad\")>,\n",
       " <selenium.webdriver.remote.webelement.WebElement (session=\"821ff06e9e7eae9901bee1bf9adb6d3f\", element=\"b3c0b67d-5af9-46b5-a531-4bbad19601f9\")>,\n",
       " <selenium.webdriver.remote.webelement.WebElement (session=\"821ff06e9e7eae9901bee1bf9adb6d3f\", element=\"e1a53d1f-16a2-4baa-b8f2-c4c702050160\")>,\n",
       " <selenium.webdriver.remote.webelement.WebElement (session=\"821ff06e9e7eae9901bee1bf9adb6d3f\", element=\"e35e2a9b-ede1-4c38-9ddc-b6460a528774\")>,\n",
       " <selenium.webdriver.remote.webelement.WebElement (session=\"821ff06e9e7eae9901bee1bf9adb6d3f\", element=\"4174accf-b0bc-4687-8927-bd1ed3c99683\")>,\n",
       " <selenium.webdriver.remote.webelement.WebElement (session=\"821ff06e9e7eae9901bee1bf9adb6d3f\", element=\"ba7a266a-5580-4aa5-939b-e18427286c5b\")>,\n",
       " <selenium.webdriver.remote.webelement.WebElement (session=\"821ff06e9e7eae9901bee1bf9adb6d3f\", element=\"3dacd4d7-5c52-426d-ab20-da7e3009da07\")>,\n",
       " <selenium.webdriver.remote.webelement.WebElement (session=\"821ff06e9e7eae9901bee1bf9adb6d3f\", element=\"6693554b-0b2c-4056-bb03-21ace290d360\")>,\n",
       " <selenium.webdriver.remote.webelement.WebElement (session=\"821ff06e9e7eae9901bee1bf9adb6d3f\", element=\"5447d4d0-23d9-4513-a658-572fd8f6f3e4\")>,\n",
       " <selenium.webdriver.remote.webelement.WebElement (session=\"821ff06e9e7eae9901bee1bf9adb6d3f\", element=\"66753c90-2eff-460c-a268-c18b72d6aaf6\")>,\n",
       " <selenium.webdriver.remote.webelement.WebElement (session=\"821ff06e9e7eae9901bee1bf9adb6d3f\", element=\"32856056-4ff1-4039-87f6-507137e76c35\")>,\n",
       " <selenium.webdriver.remote.webelement.WebElement (session=\"821ff06e9e7eae9901bee1bf9adb6d3f\", element=\"ce6ae34f-e09d-4a95-91df-5de02bb7eec3\")>,\n",
       " <selenium.webdriver.remote.webelement.WebElement (session=\"821ff06e9e7eae9901bee1bf9adb6d3f\", element=\"2a69556a-40b3-4d9a-9d6d-303e9d3d1f61\")>,\n",
       " <selenium.webdriver.remote.webelement.WebElement (session=\"821ff06e9e7eae9901bee1bf9adb6d3f\", element=\"ed781eec-6f74-4336-b91c-f855f8843d02\")>,\n",
       " <selenium.webdriver.remote.webelement.WebElement (session=\"821ff06e9e7eae9901bee1bf9adb6d3f\", element=\"2c2d54c6-49d3-4557-97fd-2fee2870b390\")>,\n",
       " <selenium.webdriver.remote.webelement.WebElement (session=\"821ff06e9e7eae9901bee1bf9adb6d3f\", element=\"b8dc107c-f087-4c69-a866-c584ebf9994e\")>,\n",
       " <selenium.webdriver.remote.webelement.WebElement (session=\"821ff06e9e7eae9901bee1bf9adb6d3f\", element=\"8236d17a-d4b5-4a98-a3a7-48187e682030\")>]"
      ]
     },
     "execution_count": 31,
     "metadata": {},
     "output_type": "execute_result"
    }
   ],
   "source": [
    "elems = driver.find_elements_by_css_selector('a.a-c1-list.ng-binding')\n",
    "elems"
   ]
  },
  {
   "cell_type": "code",
   "execution_count": 32,
   "metadata": {
    "collapsed": true
   },
   "outputs": [
    {
     "name": "stdout",
     "output_type": "stream",
     "text": [
      "경제성장률(실질, 계절조정 전기대비) ('20.2/4)\n",
      "민간소비증감률(실질, 계절조정 전기대비) ('20.2/4)\n",
      "설비투자증감률(실질, 계절조정 전기대비) ('20.2/4)\n",
      "건설투자증감률(실질, 계절조정 전기대비) ('20.2/4)\n",
      "GDP(명목, 계절조정) ('20.2/4)\n",
      "GDP디플레이터 ('20.2/4)\n",
      "1인당GNI ('19)\n",
      "총저축률 ('20.2/4)\n",
      "국내총투자율 ('20.2/4)\n",
      "수출입의 대 GNI 비율 ('19)\n",
      "제조업업황실적BSI ('20.09)\n",
      "소비자심리지수 ('20.09)\n",
      "경제심리지수 ('20.09)\n",
      "경기동행지수순환변동치 ('20.08)\n",
      "경기선행지수순환변동치 ('20.08)\n",
      "제조업부채비율 ('18)\n",
      "제조업매출액세전순이익률 ('18)\n",
      "제조업매출액증감률 ('18)\n"
     ]
    }
   ],
   "source": [
    "for e in elems:\n",
    "    print(e.text)"
   ]
  },
  {
   "cell_type": "code",
   "execution_count": 27,
   "metadata": {},
   "outputs": [],
   "source": [
    "# '국민소득, 경기, 기업경영' section의 지표를 선택하고 상세 페이지에서 상세 정보 출력"
   ]
  },
  {
   "cell_type": "code",
   "execution_count": 33,
   "metadata": {},
   "outputs": [
    {
     "name": "stdout",
     "output_type": "stream",
     "text": [
      "'국민소득, 경기, 기업경영' 관련 경제지표를 선택하세요 총저축률 ('20.2/4)\n"
     ]
    }
   ],
   "source": [
    "eco_index = input(\"'국민소득, 경기, 기업경영' 관련 경제지표를 선택하세요 \")"
   ]
  },
  {
   "cell_type": "code",
   "execution_count": 35,
   "metadata": {},
   "outputs": [],
   "source": [
    "for e in elems:\n",
    "    if eco_index == e.text:\n",
    "        e.click()\n",
    "        break"
   ]
  },
  {
   "cell_type": "code",
   "execution_count": 36,
   "metadata": {},
   "outputs": [],
   "source": [
    "html = driver.page_source"
   ]
  },
  {
   "cell_type": "code",
   "execution_count": 37,
   "metadata": {},
   "outputs": [],
   "source": [
    "soup = bs(html, 'html.parser')"
   ]
  },
  {
   "cell_type": "code",
   "execution_count": 41,
   "metadata": {},
   "outputs": [
    {
     "data": {
      "text/plain": [
       "20"
      ]
     },
     "execution_count": 41,
     "metadata": {},
     "output_type": "execute_result"
    }
   ],
   "source": [
    "tags = soup.select('tr.ng-scope')\n",
    "len(tags)"
   ]
  },
  {
   "cell_type": "code",
   "execution_count": 45,
   "metadata": {
    "collapsed": true
   },
   "outputs": [
    {
     "name": "stdout",
     "output_type": "stream",
     "text": [
      "['2015.3/4', '36.9', '0.8']\n",
      "['2015.4/4', '35.8', '-1.1']\n",
      "['2016.1/4', '37.0', '1.2']\n",
      "['2016.2/4', '37.2', '0.2']\n",
      "['2016.3/4', '36.2', '-1.0']\n",
      "['2016.4/4', '36.9', '0.7']\n",
      "['2017.1/4', '37.3', '0.4']\n",
      "['2017.2/4', '36.6', '-0.7']\n",
      "['2017.3/4', '37.7', '1.1']\n",
      "['2017.4/4', '36.7', '-1.0']\n",
      "['2018.1/4', '35.9', '-0.8']\n",
      "['2018.2/4', '36.0', '0.1']\n",
      "['2018.3/4', '36.3', '0.3']\n",
      "['2018.4/4', '35.5', '-0.8']\n",
      "['2019.1/4', '34.7', '-0.8']\n",
      "['2019.2/4', '34.7', '0.0']\n",
      "['2019.3/4', '35.0', '0.3']\n",
      "['2019.4/4', '34.4', '-0.6']\n",
      "['2020.1/4', '36.0', '1.6']\n",
      "['2020.2/4', '34.5', '-1.5']\n"
     ]
    }
   ],
   "source": [
    "result = []\n",
    "for t in tags:\n",
    "    print(t.text.split('\\n')[1:4])\n",
    "    result.append(t.text.split('\\n')[1:4])"
   ]
  },
  {
   "cell_type": "code",
   "execution_count": 48,
   "metadata": {
    "collapsed": true
   },
   "outputs": [
    {
     "data": {
      "text/html": [
       "<div>\n",
       "<style scoped>\n",
       "    .dataframe tbody tr th:only-of-type {\n",
       "        vertical-align: middle;\n",
       "    }\n",
       "\n",
       "    .dataframe tbody tr th {\n",
       "        vertical-align: top;\n",
       "    }\n",
       "\n",
       "    .dataframe thead th {\n",
       "        text-align: right;\n",
       "    }\n",
       "</style>\n",
       "<table border=\"1\" class=\"dataframe\">\n",
       "  <thead>\n",
       "    <tr style=\"text-align: right;\">\n",
       "      <th></th>\n",
       "      <th>시점</th>\n",
       "      <th>지표</th>\n",
       "      <th>전기대비증감</th>\n",
       "    </tr>\n",
       "  </thead>\n",
       "  <tbody>\n",
       "    <tr>\n",
       "      <th>0</th>\n",
       "      <td>2015.3/4</td>\n",
       "      <td>36.9</td>\n",
       "      <td>0.8</td>\n",
       "    </tr>\n",
       "    <tr>\n",
       "      <th>1</th>\n",
       "      <td>2015.4/4</td>\n",
       "      <td>35.8</td>\n",
       "      <td>-1.1</td>\n",
       "    </tr>\n",
       "    <tr>\n",
       "      <th>2</th>\n",
       "      <td>2016.1/4</td>\n",
       "      <td>37.0</td>\n",
       "      <td>1.2</td>\n",
       "    </tr>\n",
       "    <tr>\n",
       "      <th>3</th>\n",
       "      <td>2016.2/4</td>\n",
       "      <td>37.2</td>\n",
       "      <td>0.2</td>\n",
       "    </tr>\n",
       "    <tr>\n",
       "      <th>4</th>\n",
       "      <td>2016.3/4</td>\n",
       "      <td>36.2</td>\n",
       "      <td>-1.0</td>\n",
       "    </tr>\n",
       "  </tbody>\n",
       "</table>\n",
       "</div>"
      ],
      "text/plain": [
       "         시점    지표 전기대비증감\n",
       "0  2015.3/4  36.9    0.8\n",
       "1  2015.4/4  35.8   -1.1\n",
       "2  2016.1/4  37.0    1.2\n",
       "3  2016.2/4  37.2    0.2\n",
       "4  2016.3/4  36.2   -1.0"
      ]
     },
     "execution_count": 48,
     "metadata": {},
     "output_type": "execute_result"
    }
   ],
   "source": [
    "import pandas as pd\n",
    "\n",
    "df = pd.DataFrame(result, columns = ['시점', '지표', '전기대비증감'])\n",
    "df.head()"
   ]
  },
  {
   "cell_type": "code",
   "execution_count": 50,
   "metadata": {
    "collapsed": true
   },
   "outputs": [
    {
     "data": {
      "text/plain": [
       "0     36.9\n",
       "1     35.8\n",
       "2     37.0\n",
       "3     37.2\n",
       "4     36.2\n",
       "5     36.9\n",
       "6     37.3\n",
       "7     36.6\n",
       "8     37.7\n",
       "9     36.7\n",
       "10    35.9\n",
       "11    36.0\n",
       "12    36.3\n",
       "13    35.5\n",
       "14    34.7\n",
       "15    34.7\n",
       "16    35.0\n",
       "17    34.4\n",
       "18    36.0\n",
       "19    34.5\n",
       "Name: 지표, dtype: object"
      ]
     },
     "execution_count": 50,
     "metadata": {},
     "output_type": "execute_result"
    }
   ],
   "source": [
    "df['지표']"
   ]
  },
  {
   "cell_type": "code",
   "execution_count": 51,
   "metadata": {
    "collapsed": true
   },
   "outputs": [
    {
     "data": {
      "text/plain": [
       "[<matplotlib.lines.Line2D at 0x27b8dc0d1c0>]"
      ]
     },
     "execution_count": 51,
     "metadata": {},
     "output_type": "execute_result"
    },
    {
     "data": {
      "image/png": "[encoded data removed]",
      "text/plain": [
       "<Figure size 432x288 with 1 Axes>"
      ]
     },
     "metadata": {
      "needs_background": "light"
     },
     "output_type": "display_data"
    }
   ],
   "source": [
    "import matplotlib.pyplot as plt\n",
    "plt.plot(df['지표'].values)"
   ]
  },
  {
   "cell_type": "code",
   "execution_count": null,
   "metadata": {},
   "outputs": [],
   "source": []
  }
 ],
 "metadata": {
  "kernelspec": {
   "display_name": "Python 3",
   "language": "python",
   "name": "python3"
  },
  "language_info": {
   "codemirror_mode": {
    "name": "ipython",
    "version": 3
   },
   "file_extension": ".py",
   "mimetype": "text/x-python",
   "name": "python",
   "nbconvert_exporter": "python",
   "pygments_lexer": "ipython3",
   "version": "3.8.3"
  }
 },
 "nbformat": 4,
 "nbformat_minor": 4
}
