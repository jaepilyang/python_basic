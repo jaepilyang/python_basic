{
 "cells": [
  {
   "cell_type": "code",
   "execution_count": 1,
   "metadata": {},
   "outputs": [],
   "source": [
    "# 여행 검색 결과페이지의 첫 번째 콘텐츠페이지의 본문 이미지 다운로드"
   ]
  },
  {
   "cell_type": "code",
   "execution_count": 17,
   "metadata": {},
   "outputs": [],
   "source": [
    "from selenium import webdriver\n",
    "from bs4 import BeautifulSoup as bs\n",
    "import time\n",
    "import requests\n",
    "import os"
   ]
  },
  {
   "cell_type": "code",
   "execution_count": 3,
   "metadata": {},
   "outputs": [
    {
     "name": "stdout",
     "output_type": "stream",
     "text": [
      "크롤링할 키워드를 입력하세요.여행\n"
     ]
    }
   ],
   "source": [
    "search_text = input('크롤링할 키워드를 입력하세요.')\n",
    "\n",
    "driver = webdriver.Chrome('./chromedriver') # working directory에 있으면 따로 경로지정 안 해두 됨\n",
    "driver.set_window_size(800, 1000)\n",
    "driver.get('https://korean.visitkorea.or.kr')\n",
    "time.sleep(1)"
   ]
  },
  {
   "cell_type": "code",
   "execution_count": 4,
   "metadata": {},
   "outputs": [],
   "source": [
    "driver.find_element_by_id('chkForm01').click() # 팝업 닫기\n",
    "elem = driver.find_element_by_id('inp_search')# 검색창 접근\n",
    "elem.send_keys(search_text) # 검색창 입력\n",
    "driver.find_element_by_class_name('btn_search2').click() # 검색버튼 입력\n",
    "time.sleep(1)"
   ]
  },
  {
   "cell_type": "code",
   "execution_count": 5,
   "metadata": {},
   "outputs": [],
   "source": [
    "driver.find_element_by_xpath('//*[@id=\"contents\"]/div/div[1]/ul/li[1]/div[2]/div/a').click()"
   ]
  },
  {
   "cell_type": "code",
   "execution_count": 6,
   "metadata": {},
   "outputs": [],
   "source": [
    "html = driver.page_source\n",
    "soup = bs(html, 'html.parser')\n",
    "\n",
    "#contents > div:nth-child(2) > div.box_txtPhoto > div.img_typeBox.type2.clfix > div:nth-child(1) > button > img"
   ]
  },
  {
   "cell_type": "code",
   "execution_count": 9,
   "metadata": {},
   "outputs": [
    {
     "data": {
      "text/plain": [
       "'https://cdn.visitkorea.or.kr/img/call?cmd=VIEW&id=e392a05d-9278-43d0-bd45-605b25aeba83'"
      ]
     },
     "execution_count": 9,
     "metadata": {},
     "output_type": "execute_result"
    }
   ],
   "source": [
    "img_url = soup.select('#contents > div:nth-child(2) > div.box_txtPhoto > div.img_typeBox.type2.clfix > div:nth-child(1) > button > img')[0]['src']\n",
    "img_url"
   ]
  },
  {
   "cell_type": "code",
   "execution_count": 26,
   "metadata": {},
   "outputs": [],
   "source": [
    "tags = soup.select('div.img_typeBox')"
   ]
  },
  {
   "cell_type": "code",
   "execution_count": 27,
   "metadata": {},
   "outputs": [
    {
     "data": {
      "text/plain": [
       "'https://cdn.visitkorea.or.kr/img/call?cmd=VIEW&id=e392a05d-9278-43d0-bd45-605b25aeba83'"
      ]
     },
     "execution_count": 27,
     "metadata": {},
     "output_type": "execute_result"
    }
   ],
   "source": [
    "tags[0].select('img')[0]['src']"
   ]
  },
  {
   "cell_type": "code",
   "execution_count": 28,
   "metadata": {},
   "outputs": [],
   "source": [
    "img_list = []\n",
    "for t in tags:\n",
    "    img_list.append(t.select('img')[0]['src'])"
   ]
  },
  {
   "cell_type": "code",
   "execution_count": 29,
   "metadata": {
    "collapsed": true
   },
   "outputs": [
    {
     "data": {
      "text/plain": [
       "['https://cdn.visitkorea.or.kr/img/call?cmd=VIEW&id=e392a05d-9278-43d0-bd45-605b25aeba83',\n",
       " 'https://cdn.visitkorea.or.kr/img/call?cmd=VIEW&id=f880ec80-92ff-4230-97e8-7f15ee4bcb6c',\n",
       " 'https://cdn.visitkorea.or.kr/img/call?cmd=VIEW&id=a710ddb2-ba4f-493f-8d58-dcf1072f7f54',\n",
       " 'https://cdn.visitkorea.or.kr/img/call?cmd=VIEW&id=149549d7-a3ca-412d-8a40-e774cc064fe2',\n",
       " 'https://cdn.visitkorea.or.kr/img/call?cmd=VIEW&id=f49440b8-46e4-4281-944e-2d3669b218ae',\n",
       " 'https://cdn.visitkorea.or.kr/img/call?cmd=VIEW&id=a3f6475b-3c1e-4155-8ce3-f3d83392413e',\n",
       " 'https://cdn.visitkorea.or.kr/img/call?cmd=VIEW&id=00b8f83e-e6cb-44e3-94d4-8884114dbc86',\n",
       " 'https://cdn.visitkorea.or.kr/img/call?cmd=VIEW&id=67fd9e59-0a07-4e6a-8eff-6ff9f92f22e2',\n",
       " 'https://cdn.visitkorea.or.kr/img/call?cmd=VIEW&id=9f572006-ccf9-4cae-be4c-ff2a4777a503',\n",
       " 'https://cdn.visitkorea.or.kr/img/call?cmd=VIEW&id=9d89211a-18d7-4abd-b1f1-b842ce4f880b',\n",
       " 'https://cdn.visitkorea.or.kr/img/call?cmd=VIEW&id=5e736508-af0f-4606-87f4-f410b61dec1c',\n",
       " 'https://cdn.visitkorea.or.kr/img/call?cmd=VIEW&id=5bd38e16-1188-4ce6-874f-23451da8638b',\n",
       " 'https://cdn.visitkorea.or.kr/img/call?cmd=VIEW&id=63cf78f5-7a28-44cc-add6-dd4087308954',\n",
       " 'https://cdn.visitkorea.or.kr/img/call?cmd=VIEW&id=9c4fbbbc-f54f-4c78-9d3f-f573c4c84851',\n",
       " 'https://cdn.visitkorea.or.kr/img/call?cmd=VIEW&id=4bc393b5-b4cc-47d0-8a51-d8674f4fe5f8',\n",
       " 'https://cdn.visitkorea.or.kr/img/call?cmd=VIEW&id=ce3704d4-09d2-4b09-b386-b5847fa15379',\n",
       " 'https://cdn.visitkorea.or.kr/img/call?cmd=VIEW&id=092d8335-a9ca-44e4-8583-0a182142d9fc',\n",
       " 'https://cdn.visitkorea.or.kr/img/call?cmd=VIEW&id=f1a5933a-c453-4f84-9b81-ca2d213147da',\n",
       " 'https://cdn.visitkorea.or.kr/img/call?cmd=VIEW&id=f180d707-55ce-49d8-a5f5-deeb1f6e23b6',\n",
       " 'https://cdn.visitkorea.or.kr/img/call?cmd=VIEW&id=f68ae20d-5ac4-4d97-ab1d-9656910e3e81',\n",
       " 'https://cdn.visitkorea.or.kr/img/call?cmd=VIEW&id=e150a0b1-d92f-4fba-8670-c35ed20c0f17',\n",
       " 'https://cdn.visitkorea.or.kr/img/call?cmd=VIEW&id=b63f01bc-7a14-4a12-bba5-083af2318c32',\n",
       " 'https://cdn.visitkorea.or.kr/img/call?cmd=VIEW&id=61e1658a-8eec-4e71-95e9-2706301ebd4c',\n",
       " 'https://cdn.visitkorea.or.kr/img/call?cmd=VIEW&id=9ceba1c0-f460-42d0-8ad9-fea6101d2fb8',\n",
       " 'https://cdn.visitkorea.or.kr/img/call?cmd=VIEW&id=3a9535b8-fe45-462b-839d-14e82ab9c205',\n",
       " 'https://cdn.visitkorea.or.kr/img/call?cmd=VIEW&id=f5f3a4a1-c4b3-40db-8e1b-a25ae57b52f4',\n",
       " 'https://cdn.visitkorea.or.kr/img/call?cmd=VIEW&id=6dcff776-8417-4d60-a48c-f44cac047225']"
      ]
     },
     "execution_count": 29,
     "metadata": {},
     "output_type": "execute_result"
    }
   ],
   "source": [
    "img_list"
   ]
  },
  {
   "cell_type": "code",
   "execution_count": 30,
   "metadata": {},
   "outputs": [],
   "source": [
    "target_folder = './img_down/'\n",
    "if not os.path.isdir(target_folder):\n",
    "    os.mkdir(target_folder)"
   ]
  },
  {
   "cell_type": "code",
   "execution_count": 31,
   "metadata": {},
   "outputs": [],
   "source": [
    "url = 'https://cdn.visitkorea.or.kr/img/call?cmd=VIEW&id=e392a05d-9278-43d0-bd45-605b25aeba83'\n",
    "\n",
    "buff = 100\n",
    "for i, url in enumerate(img_list):\n",
    "    res = requests.get(url)\n",
    "    f = open(target_folder + 'crawl_img_{}.jpg'.format(i), 'wb')\n",
    "    for chunk in res.iter_content(buff):\n",
    "        f.write(chunk)\n",
    "    f.close()"
   ]
  },
  {
   "cell_type": "code",
   "execution_count": null,
   "metadata": {},
   "outputs": [],
   "source": []
  },
  {
   "cell_type": "code",
   "execution_count": 23,
   "metadata": {},
   "outputs": [],
   "source": [
    "import urllib.request\n",
    "import urllib"
   ]
  },
  {
   "cell_type": "code",
   "execution_count": 24,
   "metadata": {},
   "outputs": [],
   "source": [
    "for i, url in enumerate(img_list):\n",
    "    urllib.request.urlretrieve(url, target_folder + 'crawl_img_{}.jpg'.format(i))"
   ]
  },
  {
   "cell_type": "code",
   "execution_count": null,
   "metadata": {},
   "outputs": [],
   "source": []
  }
 ],
 "metadata": {
  "kernelspec": {
   "display_name": "Python 3",
   "language": "python",
   "name": "python3"
  },
  "language_info": {
   "codemirror_mode": {
    "name": "ipython",
    "version": 3
   },
   "file_extension": ".py",
   "mimetype": "text/x-python",
   "name": "python",
   "nbconvert_exporter": "python",
   "pygments_lexer": "ipython3",
   "version": "3.8.3"
  }
 },
 "nbformat": 4,
 "nbformat_minor": 4
}
