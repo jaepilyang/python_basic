{
 "cells": [
  {
   "cell_type": "code",
   "execution_count": 1,
   "metadata": {},
   "outputs": [
    {
     "name": "stdout",
     "output_type": "stream",
     "text": [
      "0\n",
      "1\n",
      "2\n",
      "3\n",
      "4\n"
     ]
    }
   ],
   "source": [
    "L = [0,1,2,3,4]\n",
    "\n",
    "for i in L:\n",
    "    print(i)"
   ]
  },
  {
   "cell_type": "code",
   "execution_count": 2,
   "metadata": {},
   "outputs": [
    {
     "name": "stdout",
     "output_type": "stream",
     "text": [
      "0 1 2 3 4 "
     ]
    }
   ],
   "source": [
    "for i in L:\n",
    "    print(i, end=' ')"
   ]
  },
  {
   "cell_type": "code",
   "execution_count": 3,
   "metadata": {},
   "outputs": [
    {
     "name": "stdout",
     "output_type": "stream",
     "text": [
      "1 2 3 4 "
     ]
    }
   ],
   "source": [
    "for i in [1,2,3,4]:\n",
    "    print(i, end=' ')"
   ]
  },
  {
   "cell_type": "code",
   "execution_count": null,
   "metadata": {},
   "outputs": [],
   "source": [
    "range(4)\n",
    "range(2, 20)\n",
    "range(2,20,2)"
   ]
  },
  {
   "cell_type": "code",
   "execution_count": null,
   "metadata": {},
   "outputs": [],
   "source": []
  },
  {
   "cell_type": "code",
   "execution_count": 5,
   "metadata": {},
   "outputs": [
    {
     "name": "stdout",
     "output_type": "stream",
     "text": [
      "0 1 2 3 "
     ]
    }
   ],
   "source": [
    "for i in range(4):\n",
    "    print(L[i], end=' ')"
   ]
  },
  {
   "cell_type": "code",
   "execution_count": 7,
   "metadata": {},
   "outputs": [
    {
     "name": "stdout",
     "output_type": "stream",
     "text": [
      "0 1 2 3 4 "
     ]
    }
   ],
   "source": [
    "for i in range(len(L)):\n",
    "    num = L[i]\n",
    "    print(num, end = ' ')"
   ]
  },
  {
   "cell_type": "code",
   "execution_count": 9,
   "metadata": {},
   "outputs": [
    {
     "name": "stdout",
     "output_type": "stream",
     "text": [
      "0번 철수\n",
      "1번 영희\n",
      "2번 바둑이\n",
      "3번 귀도\n",
      "4번 비단뱀\n"
     ]
    }
   ],
   "source": [
    "names = ['철수', '영희', '바둑이', '귀도', '비단뱀']\n",
    "\n",
    "for i in range(len(names)):\n",
    "    nam = names[i]\n",
    "    print('{}번 {}'.format(i, nam))"
   ]
  },
  {
   "cell_type": "code",
   "execution_count": 10,
   "metadata": {},
   "outputs": [
    {
     "name": "stdout",
     "output_type": "stream",
     "text": [
      "0 철수\n",
      "1 영희\n",
      "2 바둑이\n",
      "3 귀도\n",
      "4 비단뱀\n"
     ]
    }
   ],
   "source": [
    "for i, name in enumerate(names):\n",
    "    print(i, name)"
   ]
  },
  {
   "cell_type": "code",
   "execution_count": 11,
   "metadata": {},
   "outputs": [
    {
     "name": "stdout",
     "output_type": "stream",
     "text": [
      "0번 철수\n",
      "1번 영희\n",
      "2번 바둑이\n",
      "3번 귀도\n",
      "4번 비단뱀\n"
     ]
    }
   ],
   "source": [
    "for i, name in enumerate(names):\n",
    "    print('{}번 {}'.format(i, name))"
   ]
  },
  {
   "cell_type": "code",
   "execution_count": 12,
   "metadata": {},
   "outputs": [
    {
     "name": "stdout",
     "output_type": "stream",
     "text": [
      "2 3\n",
      "4 5\n",
      "6 7\n",
      "8 9\n",
      "10 11\n"
     ]
    }
   ],
   "source": [
    "for data in range(1,10,2):\n",
    "    print(data+1, data+2)"
   ]
  },
  {
   "cell_type": "code",
   "execution_count": 16,
   "metadata": {},
   "outputs": [
    {
     "name": "stdout",
     "output_type": "stream",
     "text": [
      "python"
     ]
    }
   ],
   "source": [
    "for l in 'python':\n",
    "    print(l, end='')"
   ]
  },
  {
   "cell_type": "code",
   "execution_count": 17,
   "metadata": {},
   "outputs": [
    {
     "name": "stdout",
     "output_type": "stream",
     "text": [
      "PYTHON"
     ]
    }
   ],
   "source": [
    "for i in 'python':\n",
    "    print(i.upper(), end='')"
   ]
  },
  {
   "cell_type": "code",
   "execution_count": 21,
   "metadata": {},
   "outputs": [
    {
     "name": "stdout",
     "output_type": "stream",
     "text": [
      "1 2 / 1 4 / 1 6 / 1 8 / \n",
      "2 2 / 2 4 / 2 6 / 2 8 / \n",
      "3 2 / 3 4 / 3 6 / 3 8 / \n",
      "4 2 / 4 4 / 4 6 / 4 8 / \n",
      "5 2 / 5 4 / 5 6 / 5 8 / \n"
     ]
    }
   ],
   "source": [
    "for x in [1,2,3,4,5]:\n",
    "    for y in [2,4,6,8]:\n",
    "        print(x,y, end = ' / ')\n",
    "    print()"
   ]
  },
  {
   "cell_type": "code",
   "execution_count": 22,
   "metadata": {},
   "outputs": [
    {
     "name": "stdout",
     "output_type": "stream",
     "text": [
      "6 7 8 \n",
      "7 8 9 \n",
      "8 9 10 \n",
      "9 10 11 \n"
     ]
    }
   ],
   "source": [
    "for a in (1,2,3,4):\n",
    "    for b in (5,6,7):\n",
    "        print(a+b, end=' ')\n",
    "    print()"
   ]
  },
  {
   "cell_type": "code",
   "execution_count": 26,
   "metadata": {},
   "outputs": [
    {
     "name": "stdout",
     "output_type": "stream",
     "text": [
      "1 4 1 5 \n",
      "2 4 2 5 \n",
      "3 4 3 5 \n"
     ]
    }
   ],
   "source": [
    "for a in {1,2,3}:\n",
    "    for b in {4,5}:\n",
    "        print(a,b, end=' ')\n",
    "    print()"
   ]
  },
  {
   "cell_type": "code",
   "execution_count": 27,
   "metadata": {},
   "outputs": [
    {
     "name": "stdout",
     "output_type": "stream",
     "text": [
      "1\n",
      "2\n",
      "3\n",
      "4\n",
      "5\n"
     ]
    }
   ],
   "source": [
    "for a in {1,2,3,4,5}:\n",
    "    print(a)"
   ]
  },
  {
   "cell_type": "code",
   "execution_count": 28,
   "metadata": {},
   "outputs": [
    {
     "name": "stdout",
     "output_type": "stream",
     "text": [
      "4\n",
      "2\n",
      "1\n",
      "5\n",
      "3\n"
     ]
    }
   ],
   "source": [
    "score = {4:90, 2:80, 1:95, 5:88, 3:92}\n",
    "\n",
    "for x in score:\n",
    "    print(x)"
   ]
  },
  {
   "cell_type": "code",
   "execution_count": 29,
   "metadata": {},
   "outputs": [
    {
     "name": "stdout",
     "output_type": "stream",
     "text": [
      "90\n",
      "80\n",
      "95\n",
      "88\n",
      "92\n"
     ]
    }
   ],
   "source": [
    "for x in score.values():\n",
    "    print(x)"
   ]
  },
  {
   "cell_type": "code",
   "execution_count": 30,
   "metadata": {},
   "outputs": [
    {
     "name": "stdout",
     "output_type": "stream",
     "text": [
      "(4, 90)\n",
      "(2, 80)\n",
      "(1, 95)\n",
      "(5, 88)\n",
      "(3, 92)\n"
     ]
    }
   ],
   "source": [
    "for x in score.items():\n",
    "    print(x)"
   ]
  },
  {
   "cell_type": "code",
   "execution_count": 34,
   "metadata": {},
   "outputs": [
    {
     "name": "stdout",
     "output_type": "stream",
     "text": [
      "55\n"
     ]
    }
   ],
   "source": [
    "# 1부터 10까지 합을 구하시오.\n",
    "sums = 0\n",
    "for i in range(1,11):\n",
    "    sums=sums+i\n",
    "print(sums)"
   ]
  },
  {
   "cell_type": "code",
   "execution_count": 41,
   "metadata": {},
   "outputs": [
    {
     "data": {
      "text/plain": [
       "16"
      ]
     },
     "execution_count": 41,
     "metadata": {},
     "output_type": "execute_result"
    }
   ],
   "source": [
    "# 영어모음 : ['a', 'e', 'i', 'o', 'u']\n",
    "# 아래 text에서 자음의 갯수를 구하시오.\n",
    "\n",
    "text = 'python programming is fun!!'\n",
    "\n",
    "count = 0\n",
    "for i in text:\n",
    "    if i not in ['a', 'e', 'i', 'o', 'u', ' ', '!']:\n",
    "        count+=1\n",
    "count"
   ]
  },
  {
   "cell_type": "code",
   "execution_count": 42,
   "metadata": {},
   "outputs": [
    {
     "data": {
      "text/plain": [
       "[0, 1, 2, 3, 4]"
      ]
     },
     "execution_count": 42,
     "metadata": {},
     "output_type": "execute_result"
    }
   ],
   "source": [
    "# List Comprehension\n",
    "\n",
    "L1 = []\n",
    "for i in range(5):\n",
    "    L1.append(i)\n",
    "L1"
   ]
  },
  {
   "cell_type": "code",
   "execution_count": 43,
   "metadata": {},
   "outputs": [
    {
     "data": {
      "text/plain": [
       "[0, 1, 2, 3, 4]"
      ]
     },
     "execution_count": 43,
     "metadata": {},
     "output_type": "execute_result"
    }
   ],
   "source": [
    "[i for i in range(0,5)]"
   ]
  },
  {
   "cell_type": "code",
   "execution_count": 44,
   "metadata": {},
   "outputs": [
    {
     "data": {
      "text/plain": [
       "[0, 1, 2, 3, 4, 4, 6, 7, 5, 7, 8, 7, 9, 10]"
      ]
     },
     "execution_count": 44,
     "metadata": {},
     "output_type": "execute_result"
    }
   ],
   "source": [
    "for i in [1,2,4]:\n",
    "    for j in [3,5,6]:\n",
    "        L1.append(i+j)\n",
    "L1"
   ]
  },
  {
   "cell_type": "code",
   "execution_count": 46,
   "metadata": {},
   "outputs": [
    {
     "data": {
      "text/plain": [
       "[4, 6, 7, 5, 7, 8, 7, 9, 10]"
      ]
     },
     "execution_count": 46,
     "metadata": {},
     "output_type": "execute_result"
    }
   ],
   "source": [
    "[i+j for i in [1,2,4] for j in [3,5,6]]"
   ]
  },
  {
   "cell_type": "code",
   "execution_count": 47,
   "metadata": {},
   "outputs": [
    {
     "data": {
      "text/plain": [
       "[2, 4, 6, 8, 10]"
      ]
     },
     "execution_count": 47,
     "metadata": {},
     "output_type": "execute_result"
    }
   ],
   "source": [
    "L1 = []\n",
    "for i in range(1,11):\n",
    "    if i%2 ==0:\n",
    "        L1.append(i)\n",
    "L1"
   ]
  },
  {
   "cell_type": "code",
   "execution_count": 48,
   "metadata": {},
   "outputs": [
    {
     "data": {
      "text/plain": [
       "[2, 4, 6, 8, 10]"
      ]
     },
     "execution_count": 48,
     "metadata": {},
     "output_type": "execute_result"
    }
   ],
   "source": [
    "[i for i in range(1,11) if i%2 ==0]"
   ]
  },
  {
   "cell_type": "code",
   "execution_count": 125,
   "metadata": {},
   "outputs": [
    {
     "name": "stdout",
     "output_type": "stream",
     "text": [
      "p\n",
      "y\n",
      "t\n",
      "h\n",
      "o\n",
      "n\n",
      " \n",
      "i\n",
      "s\n",
      " \n",
      "f\n",
      "u\n",
      "n\n",
      "!\n",
      "!\n"
     ]
    }
   ],
   "source": [
    "# text = 'python is fun!!'에서 모음만 리스트에 담아서 리턴하시오.\n",
    "# => for문, List Comprehension\n",
    "text = 'python is fun!!'\n",
    "vowel = 'aeiou'\n",
    "L=[]\n",
    "\n",
    "for i in text:\n",
    "    print(i)\n",
    "#     if text[i] in vowel:\n",
    "#         L.append(text[i])\n",
    "# print(L)"
   ]
  },
  {
   "cell_type": "code",
   "execution_count": 123,
   "metadata": {},
   "outputs": [
    {
     "data": {
      "text/plain": [
       "['o', 'i', 'u']"
      ]
     },
     "execution_count": 123,
     "metadata": {},
     "output_type": "execute_result"
    }
   ],
   "source": [
    "[i for i in text if i in vowel]"
   ]
  },
  {
   "cell_type": "code",
   "execution_count": null,
   "metadata": {},
   "outputs": [],
   "source": []
  },
  {
   "cell_type": "code",
   "execution_count": null,
   "metadata": {},
   "outputs": [],
   "source": []
  },
  {
   "cell_type": "code",
   "execution_count": 54,
   "metadata": {},
   "outputs": [
    {
     "data": {
      "text/plain": [
       "['p', 't', 'o', ' ', 's', 'f', 'n', '!']"
      ]
     },
     "execution_count": 54,
     "metadata": {},
     "output_type": "execute_result"
    }
   ],
   "source": [
    "# 텍스트에서 짝수번 인덱스만 리스트에 담아서 리턴하시오.\n",
    "L1 = []\n",
    "for i in range(0, len(text),2):\n",
    "    L1.append(text[i])\n",
    "L1"
   ]
  },
  {
   "cell_type": "code",
   "execution_count": 52,
   "metadata": {},
   "outputs": [
    {
     "data": {
      "text/plain": [
       "2550"
      ]
     },
     "execution_count": 52,
     "metadata": {},
     "output_type": "execute_result"
    }
   ],
   "source": [
    "# 1 ~ 100까지 정수의 짝수들의 합을 구하시오.\n",
    "temp=0\n",
    "for i in range(1,101):\n",
    "    if i%2==0:\n",
    "        temp+=i\n",
    "temp"
   ]
  },
  {
   "cell_type": "code",
   "execution_count": 57,
   "metadata": {},
   "outputs": [
    {
     "ename": "SyntaxError",
     "evalue": "invalid syntax (<ipython-input-57-5347b86f7ace>, line 2)",
     "output_type": "error",
     "traceback": [
      "\u001b[1;36m  File \u001b[1;32m\"<ipython-input-57-5347b86f7ace>\"\u001b[1;36m, line \u001b[1;32m2\u001b[0m\n\u001b[1;33m    [i for i in range(1,101) if i%2==0 temp+=i]\u001b[0m\n\u001b[1;37m                                       ^\u001b[0m\n\u001b[1;31mSyntaxError\u001b[0m\u001b[1;31m:\u001b[0m invalid syntax\n"
     ]
    }
   ],
   "source": [
    "temp = 0\n",
    "[i for i in range(1,101) if i%2==0 temp+=i]"
   ]
  },
  {
   "cell_type": "code",
   "execution_count": 63,
   "metadata": {},
   "outputs": [
    {
     "name": "stdout",
     "output_type": "stream",
     "text": [
      "be : 2\n",
      "proud : 5\n",
      "of : 2\n",
      "data : 4\n",
      "analyst : 7\n"
     ]
    }
   ],
   "source": [
    "# text에서 각 단어의 길이를 '단어 : 단어길이' 형식으로 출력하시오\n",
    "# => be : 2\n",
    "# => proud : 5\n",
    "text = 'be proud of data analyst'\n",
    "temp = text.split()\n",
    "for i in range(len(temp)):\n",
    "    print('{} : {}'.format(temp[i], len(temp[i])))\n",
    "    \n",
    "# for i in text.split():\n",
    "#     print(i, ':', len(i))"
   ]
  },
  {
   "cell_type": "code",
   "execution_count": 74,
   "metadata": {},
   "outputs": [
    {
     "data": {
      "text/plain": [
       "[('red', 'house'),\n",
       " ('red', 'car'),\n",
       " ('red', 'tree'),\n",
       " ('green', 'house'),\n",
       " ('green', 'car'),\n",
       " ('green', 'tree'),\n",
       " ('yellow', 'house'),\n",
       " ('yellow', 'car'),\n",
       " ('yellow', 'tree'),\n",
       " ('blue', 'house'),\n",
       " ('blue', 'car'),\n",
       " ('blue', 'tree')]"
      ]
     },
     "execution_count": 74,
     "metadata": {},
     "output_type": "execute_result"
    }
   ],
   "source": [
    "# colors와 things의 모든 요소의 튜플 조합을 리스트에 담으시오.\n",
    "\n",
    "colors = ['red', 'green', 'yellow', 'blue']\n",
    "things = ['house', 'car', 'tree']\n",
    "\n",
    "L1 = []\n",
    "\n",
    "for i in colors:\n",
    "    for j in things:\n",
    "        L1.append((i, j))\n",
    "L1"
   ]
  },
  {
   "cell_type": "code",
   "execution_count": 75,
   "metadata": {},
   "outputs": [
    {
     "data": {
      "text/plain": [
       "[('red', 'house'),\n",
       " ('red', 'car'),\n",
       " ('red', 'tree'),\n",
       " ('green', 'house'),\n",
       " ('green', 'car'),\n",
       " ('green', 'tree'),\n",
       " ('yellow', 'house'),\n",
       " ('yellow', 'car'),\n",
       " ('yellow', 'tree'),\n",
       " ('blue', 'house'),\n",
       " ('blue', 'car'),\n",
       " ('blue', 'tree')]"
      ]
     },
     "execution_count": 75,
     "metadata": {},
     "output_type": "execute_result"
    }
   ],
   "source": [
    "[(i,j) for i in colors for j in things]"
   ]
  },
  {
   "cell_type": "code",
   "execution_count": 76,
   "metadata": {},
   "outputs": [],
   "source": [
    "# while\n",
    "\n",
    "# while 조건식:\n",
    "#     실행코드1\n",
    "#     실행코드2\n",
    "\n",
    "# 조건식이 참이면 실행코드 실행, 조건식이 거짓이 되면 중단"
   ]
  },
  {
   "cell_type": "code",
   "execution_count": 79,
   "metadata": {},
   "outputs": [
    {
     "name": "stdout",
     "output_type": "stream",
     "text": [
      "0\n",
      "1\n",
      "2\n",
      "3\n",
      "4\n",
      "5\n",
      "6\n",
      "7\n",
      "8\n",
      "9\n",
      "10\n"
     ]
    },
    {
     "data": {
      "text/plain": [
       "11"
      ]
     },
     "execution_count": 79,
     "metadata": {},
     "output_type": "execute_result"
    }
   ],
   "source": [
    "i = 0\n",
    "while i <= 10:\n",
    "    print(i)\n",
    "    i+=1\n",
    "i"
   ]
  },
  {
   "cell_type": "code",
   "execution_count": 81,
   "metadata": {},
   "outputs": [
    {
     "data": {
      "text/plain": [
       "55"
      ]
     },
     "execution_count": 81,
     "metadata": {},
     "output_type": "execute_result"
    }
   ],
   "source": [
    "# 1 ~ 10까지 정수의 합을 while문을 통해 구하시오.\n",
    "i = 0\n",
    "sums = 0\n",
    "while i <=10:\n",
    "    sums+=i\n",
    "    i+=1\n",
    "sums"
   ]
  },
  {
   "cell_type": "code",
   "execution_count": 82,
   "metadata": {},
   "outputs": [
    {
     "data": {
      "text/plain": [
       "30"
      ]
     },
     "execution_count": 82,
     "metadata": {},
     "output_type": "execute_result"
    }
   ],
   "source": [
    "# 1 ~ 10까지 정수 중에서 짝수의 합을 while문을 통해 구하시오.\n",
    "\n",
    "i = 0\n",
    "sums = 0\n",
    "while i <11:\n",
    "    if i%2==0:\n",
    "        sums+=i\n",
    "    i+=1\n",
    "sums"
   ]
  },
  {
   "cell_type": "code",
   "execution_count": 83,
   "metadata": {},
   "outputs": [],
   "source": [
    "# break, continue\n",
    "# 1. break:\n",
    "#     반복문을 반복실행하다가 break가 실행되면 반복문을 빠져나오게 된다.\n",
    "# 2. continue:\n",
    "#     반복문 반복하다가 continue 아래 코드를 실행하지 않고 반복문의 \n",
    "#     처음으로 돌아와서 반복문을 계속 실행"
   ]
  },
  {
   "cell_type": "code",
   "execution_count": 84,
   "metadata": {},
   "outputs": [
    {
     "name": "stdout",
     "output_type": "stream",
     "text": [
      "0\n",
      "1\n",
      "2\n",
      "3\n",
      "4\n",
      "5\n"
     ]
    },
    {
     "data": {
      "text/plain": [
       "6"
      ]
     },
     "execution_count": 84,
     "metadata": {},
     "output_type": "execute_result"
    }
   ],
   "source": [
    "i = 0\n",
    "while i <11:\n",
    "    print(i)\n",
    "    i+=1\n",
    "    if i >5:\n",
    "        break\n",
    "i"
   ]
  },
  {
   "cell_type": "code",
   "execution_count": 86,
   "metadata": {},
   "outputs": [
    {
     "name": "stdout",
     "output_type": "stream",
     "text": [
      "1\n",
      "2\n",
      "4\n",
      "5\n",
      "7\n",
      "8\n",
      "10\n",
      "11\n"
     ]
    }
   ],
   "source": [
    "i = 0\n",
    "while i <= 10:\n",
    "    i += 1\n",
    "    if i%3==0:\n",
    "        continue\n",
    "    print(i)"
   ]
  },
  {
   "cell_type": "code",
   "execution_count": 87,
   "metadata": {},
   "outputs": [
    {
     "name": "stdout",
     "output_type": "stream",
     "text": [
      "4\n",
      "5\n",
      "6\n",
      "7\n"
     ]
    }
   ],
   "source": [
    "# 아래의 1~10까지 출력하는 코드에서 break와 continue를 활용해서 4,5,6,7만 출력\n",
    "i = 0\n",
    "while i < 10:\n",
    "    i += 1\n",
    "    if i<4:\n",
    "        continue\n",
    "    elif i>7:\n",
    "        break\n",
    "    else:\n",
    "        print(i)"
   ]
  },
  {
   "cell_type": "code",
   "execution_count": 88,
   "metadata": {},
   "outputs": [
    {
     "data": {
      "text/plain": [
       "['mountain', 'river', 'cloud']"
      ]
     },
     "execution_count": 88,
     "metadata": {},
     "output_type": "execute_result"
    }
   ],
   "source": [
    "# 글자의 길이가 4 이상인 단어만 리스트에 담으시오.\n",
    "\n",
    "words = ['mountain', 'sea', 'sky', 'river', 'cloud']\n",
    "\n",
    "L=[]\n",
    "for i in words:\n",
    "    if len(i)>=4:\n",
    "        L.append(i)\n",
    "L"
   ]
  },
  {
   "cell_type": "code",
   "execution_count": 89,
   "metadata": {},
   "outputs": [
    {
     "data": {
      "text/plain": [
       "3"
      ]
     },
     "execution_count": 89,
     "metadata": {},
     "output_type": "execute_result"
    }
   ],
   "source": [
    "# 글자의 길이가 4 이상인 단어의 수\n",
    "\n",
    "words = ['mountain', 'sea', 'sky', 'river', 'cloud']\n",
    "\n",
    "temp=0\n",
    "for i in words:\n",
    "    if len(i)>=4:\n",
    "        temp+=1\n",
    "temp"
   ]
  },
  {
   "cell_type": "code",
   "execution_count": 93,
   "metadata": {},
   "outputs": [
    {
     "name": "stdout",
     "output_type": "stream",
     "text": [
      "1번 : cloud\n",
      "2번 : mountain\n",
      "3번 : river\n",
      "4번 : sea\n",
      "5번 : sky\n"
     ]
    }
   ],
   "source": [
    "#words에서 알파벳순서에 따라\n",
    "\n",
    "# => 1번 : cloud\n",
    "# => 2번 : mountain\n",
    "\n",
    "temp = sorted(words)\n",
    "i=0\n",
    "for i in range(len(temp)):\n",
    "    i+=1\n",
    "    print('{}번 : {}'.format(i, temp[i-1]))\n",
    "    \n",
    "# for i, w in enumerate(sorted(words)):\n",
    "#     print(i, '번 : ', w)"
   ]
  },
  {
   "cell_type": "code",
   "execution_count": 96,
   "metadata": {},
   "outputs": [
    {
     "name": "stdout",
     "output_type": "stream",
     "text": [
      "점수를 입력하시오: 10\n",
      "점수를 입력하시오: 20\n",
      "점수를 입력하시오: 30\n",
      "점수를 입력하시오: 40\n",
      "점수를 입력하시오: 50\n",
      "평균 점수:  30.0\n"
     ]
    }
   ],
   "source": [
    "# 점수를 5회 입력받은 후\n",
    "# => '점수 평균은 ***입니다.'\n",
    "\n",
    "temp = 0\n",
    "\n",
    "for i in range(5):\n",
    "    score = int(input('점수를 입력하시오: '))\n",
    "    temp += score\n",
    "avera = temp/5\n",
    "print('평균 점수: ', avera)\n",
    "\n",
    "# while count<5:\n",
    "#     score = int(input('점수를 입력하시오: '))\n",
    "#     count+=1\n",
    "#     temp+=score\n",
    "# avera = temp/count\n",
    "# print('평균 점수: ', avera)"
   ]
  },
  {
   "cell_type": "code",
   "execution_count": 105,
   "metadata": {},
   "outputs": [
    {
     "data": {
      "text/plain": [
       "{'mountain': '산', 'sea': '바다', 'sky': '하늘', 'river': '강', 'cloud': '구름'}"
      ]
     },
     "execution_count": 105,
     "metadata": {},
     "output_type": "execute_result"
    }
   ],
   "source": [
    "# words를 {'mountain':'산', 'sea:바다', 'sky:하늘', 'river:강', 'cloud:구름'}로\n",
    "# 전환해서 출력\n",
    "\n",
    "words = ['mountain', 'sea', 'sky', 'river', 'cloud']\n",
    "kor = ['산', '바다', '하늘', '강', '구름']\n",
    "\n",
    "temp = {}\n",
    "for w in range(len(words)):\n",
    "     temp[words[w]] = kor[w]\n",
    "temp"
   ]
  },
  {
   "cell_type": "code",
   "execution_count": 108,
   "metadata": {},
   "outputs": [
    {
     "name": "stdout",
     "output_type": "stream",
     "text": [
      "['o', 'o', 'a', 'i', 'i', 'u', 'e', 'u']\n",
      "['p', 'y', 't', 'h', 'n', ' ', 'p', 'r', 'g', 'r', 'm', 'm', 'n', 'g', ' ', 's', ' ', 's', 'f', 'l']\n"
     ]
    }
   ],
   "source": [
    "# 모음은 모음끼리, 모음이 아닌 문자열은 별도의 리스트에 각각 담아서 리턴하시오.\n",
    "text = 'python programming is useful'\n",
    "jaeum = ['a','e','i','o','u']\n",
    "#jaeum = 'aeiou' 걍 이렇게 만들어서 참조해두 됨\n",
    "L1=[]\n",
    "L2=[]\n",
    "for i in range(len(text)):\n",
    "    if text[i] in jaeum:\n",
    "        L1.append(text[i])\n",
    "    else:\n",
    "        L2.append(text[i])\n",
    "print(L1)\n",
    "print(L2)"
   ]
  },
  {
   "cell_type": "code",
   "execution_count": 111,
   "metadata": {},
   "outputs": [
    {
     "name": "stdout",
     "output_type": "stream",
     "text": [
      "1X1=1 1X2=2 1X3=3 1X4=4 1X5=5 1X6=6 1X7=7 1X8=8 1X9=9 \n",
      "2X1=2 2X2=4 2X3=6 2X4=8 2X5=10 2X6=12 2X7=14 2X8=16 2X9=18 \n",
      "3X1=3 3X2=6 3X3=9 3X4=12 3X5=15 3X6=18 3X7=21 3X8=24 3X9=27 \n",
      "4X1=4 4X2=8 4X3=12 4X4=16 4X5=20 4X6=24 4X7=28 4X8=32 4X9=36 \n",
      "5X1=5 5X2=10 5X3=15 5X4=20 5X5=25 5X6=30 5X7=35 5X8=40 5X9=45 \n",
      "6X1=6 6X2=12 6X3=18 6X4=24 6X5=30 6X6=36 6X7=42 6X8=48 6X9=54 \n",
      "7X1=7 7X2=14 7X3=21 7X4=28 7X5=35 7X6=42 7X7=49 7X8=56 7X9=63 \n",
      "8X1=8 8X2=16 8X3=24 8X4=32 8X5=40 8X6=48 8X7=56 8X8=64 8X9=72 \n",
      "9X1=9 9X2=18 9X3=27 9X4=36 9X5=45 9X6=54 9X7=63 9X8=72 9X9=81 \n"
     ]
    }
   ],
   "source": [
    "# 2중 for문을 이용하여 구구단을 출력하시오.\n",
    "\n",
    "for i in range(1,10):\n",
    "    for j in range(1,10):\n",
    "        print('{}X{}={}'.format(i,j,i*j), end=' ')\n",
    "    print()"
   ]
  },
  {
   "cell_type": "code",
   "execution_count": 113,
   "metadata": {},
   "outputs": [
    {
     "name": "stdout",
     "output_type": "stream",
     "text": [
      "*\n",
      "**\n",
      "***\n",
      "****\n",
      "*****\n"
     ]
    }
   ],
   "source": [
    "for i in range(1,6):\n",
    "    print('*'*i)"
   ]
  },
  {
   "cell_type": "code",
   "execution_count": 115,
   "metadata": {},
   "outputs": [
    {
     "name": "stdout",
     "output_type": "stream",
     "text": [
      "*****\n",
      "****\n",
      "***\n",
      "**\n",
      "*\n"
     ]
    }
   ],
   "source": [
    "for i in range(5,0,-1):\n",
    "    print('*'*i)"
   ]
  },
  {
   "cell_type": "code",
   "execution_count": 117,
   "metadata": {},
   "outputs": [
    {
     "name": "stdout",
     "output_type": "stream",
     "text": [
      " *****\n",
      "  ****\n",
      "   ***\n",
      "    **\n",
      "     *\n"
     ]
    }
   ],
   "source": [
    "for i in range(1,6):\n",
    "    print(' '*i + '*'*(6-i))"
   ]
  },
  {
   "cell_type": "code",
   "execution_count": 118,
   "metadata": {},
   "outputs": [
    {
     "name": "stdout",
     "output_type": "stream",
     "text": [
      "     *\n",
      "    **\n",
      "   ***\n",
      "  ****\n",
      " *****\n"
     ]
    }
   ],
   "source": [
    "for i in range(5,0,-1):\n",
    "    print(' '*i + '*'*(6-i))"
   ]
  },
  {
   "cell_type": "code",
   "execution_count": 120,
   "metadata": {},
   "outputs": [
    {
     "name": "stdout",
     "output_type": "stream",
     "text": [
      "*\n",
      " **\n",
      "  ***\n",
      "   ****\n",
      "    *****\n"
     ]
    }
   ],
   "source": [
    "for i in range(1,6):\n",
    "    print(' '*(i-1) + '*'*i)"
   ]
  },
  {
   "cell_type": "code",
   "execution_count": null,
   "metadata": {},
   "outputs": [],
   "source": []
  }
 ],
 "metadata": {
  "kernelspec": {
   "display_name": "Python 3",
   "language": "python",
   "name": "python3"
  },
  "language_info": {
   "codemirror_mode": {
    "name": "ipython",
    "version": 3
   },
   "file_extension": ".py",
   "mimetype": "text/x-python",
   "name": "python",
   "nbconvert_exporter": "python",
   "pygments_lexer": "ipython3",
   "version": "3.8.3"
  }
 },
 "nbformat": 4,
 "nbformat_minor": 4
}
