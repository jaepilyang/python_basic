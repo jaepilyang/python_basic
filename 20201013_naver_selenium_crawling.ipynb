{
 "cells": [
  {
   "cell_type": "code",
   "execution_count": 3,
   "metadata": {},
   "outputs": [],
   "source": [
    "from selenium import webdriver\n",
    "from selenium.webdriver.common.keys import Keys"
   ]
  },
  {
   "cell_type": "code",
   "execution_count": 4,
   "metadata": {},
   "outputs": [],
   "source": [
    "driver = webdriver.Chrome('./chromedriver')"
   ]
  },
  {
   "cell_type": "code",
   "execution_count": 5,
   "metadata": {},
   "outputs": [],
   "source": [
    "driver.get('http://www.naver.com')"
   ]
  },
  {
   "cell_type": "code",
   "execution_count": 6,
   "metadata": {},
   "outputs": [],
   "source": [
    "elem = driver.find_element_by_id('query')"
   ]
  },
  {
   "cell_type": "code",
   "execution_count": 7,
   "metadata": {},
   "outputs": [],
   "source": [
    "elem.send_keys('파이썬')"
   ]
  },
  {
   "cell_type": "code",
   "execution_count": 9,
   "metadata": {},
   "outputs": [],
   "source": [
    "elem.send_keys(Keys.RETURN)"
   ]
  },
  {
   "cell_type": "code",
   "execution_count": 16,
   "metadata": {},
   "outputs": [],
   "source": [
    "elem = driver.find_element_by_class_name('_blogBase')"
   ]
  },
  {
   "cell_type": "code",
   "execution_count": 17,
   "metadata": {
    "collapsed": true
   },
   "outputs": [
    {
     "data": {
      "text/plain": [
       "'블로그\\n파이썬(Phython)이 스타트업에게 인기있는 이유 7가지 2020.08.31.\\n파이썬(Python)이 스타트업에게 인기있는 이유 7가지 Facebook Twitter 안녕하세요.... 그렇기 때문에 파이썬(Python)과 같은 강력하면서도 기반이 튼튼한 기술을...\\n그린 클라이언트 –... blog.wishket.com/%ED%8C%8C%EC%9D%B4%EC%8... 블로그 내 검색\\n파이썬 숫자 출력하기_하루 10분 혼공 2020.10.02.\\n파이썬 숫자 출력하기_하루 10분 혼공 안녕하세요 파이썬 찐초보의 10월 2일 10분 혼공이 시작됩니다. 찐초보인 제가 파이썬 하루 10분 혼공 11번째 시간인데요. 잘게...\\n소프트웨어놀이터 blog.naver.com/nasu0210/222105195536 블로그 내 검색\\n파이썬 웹 프로그래밍 Django로 입문 2020.09.03.\\n넓은 파이썬의 웹 프레임워크인 Django를 기반으로 알아볼 수 있는 시간을 가지도록 해보겠습니다. #파이썬, Django 특징 파이썬은 많고 많은 프로그래밍 언어 중 분야에...\\n주들의 그리 대단하... blog.naver.com/urmyver/222079389364 블로그 내 검색\\n[Python] 파이썬이 인기있는 이유 2020.10.01.\\n파이썬(Python)이란? 파이썬(Python)은 오픈소스 고급 프로그래밍 언어 중 하나입니다. 파이썬은 C언어를 기반으로 한 오픈소스 고급 프로그래밍 언어로, 1991년 귀도...\\nseek blog.naver.com/dktmrorl/222104270383 블로그 내 검색\\n[아두이노 QnA] 파이썬으로 아두이노 제어하기_3 5일 전\\n아두이노와 파이썬을 연결하는 방법에 대해 살펴보겠습니다. 오늘도 활기차게 출발해볼까요? GO GO CHAPTER 100 데이터를 파이썬으로 확인할 수 있다?! 저번...\\n교육 콘텐츠 전문 기... blog.naver.com/dokkosam/222110156132 블로그 내 검색\\n블로그 더보기'"
      ]
     },
     "execution_count": 17,
     "metadata": {},
     "output_type": "execute_result"
    }
   ],
   "source": [
    "elem.text"
   ]
  },
  {
   "cell_type": "code",
   "execution_count": 18,
   "metadata": {},
   "outputs": [],
   "source": [
    "blog_text = elem.text"
   ]
  },
  {
   "cell_type": "code",
   "execution_count": 19,
   "metadata": {
    "collapsed": true
   },
   "outputs": [
    {
     "name": "stdout",
     "output_type": "stream",
     "text": [
      "\n",
      "블로그\n",
      "\n",
      "파이썬(Phython)이 스타트업에게 인기있는 이유 7가지 2020.08.31.\n",
      "\n",
      "파이썬(Python)이 스타트업에게 인기있는 이유 7가지 Facebook Twitter 안녕하세요.... 그렇기 때문에 파이썬(Python)과 같은 강력하면서도 기반이 튼튼한 기술을...\n",
      "\n",
      "그린 클라이언트 –... blog.wishket.com/%ED%8C%8C%EC%9D%B4%EC%8... 블로그 내 검색\n",
      "\n",
      "파이썬 숫자 출력하기_하루 10분 혼공 2020.10.02.\n",
      "\n",
      "파이썬 숫자 출력하기_하루 10분 혼공 안녕하세요 파이썬 찐초보의 10월 2일 10분 혼공이 시작됩니다. 찐초보인 제가 파이썬 하루 10분 혼공 11번째 시간인데요. 잘게...\n",
      "\n",
      "소프트웨어놀이터 blog.naver.com/nasu0210/222105195536 블로그 내 검색\n",
      "\n",
      "파이썬 웹 프로그래밍 Django로 입문 2020.09.03.\n",
      "\n",
      "넓은 파이썬의 웹 프레임워크인 Django를 기반으로 알아볼 수 있는 시간을 가지도록 해보겠습니다. #파이썬, Django 특징 파이썬은 많고 많은 프로그래밍 언어 중 분야에...\n",
      "\n",
      "주들의 그리 대단하... blog.naver.com/urmyver/222079389364 블로그 내 검색\n",
      "\n",
      "[Python] 파이썬이 인기있는 이유 2020.10.01.\n",
      "\n",
      "파이썬(Python)이란? 파이썬(Python)은 오픈소스 고급 프로그래밍 언어 중 하나입니다. 파이썬은 C언어를 기반으로 한 오픈소스 고급 프로그래밍 언어로, 1991년 귀도...\n",
      "\n",
      "seek blog.naver.com/dktmrorl/222104270383 블로그 내 검색\n",
      "\n",
      "[아두이노 QnA] 파이썬으로 아두이노 제어하기_3 5일 전\n",
      "\n",
      "아두이노와 파이썬을 연결하는 방법에 대해 살펴보겠습니다. 오늘도 활기차게 출발해볼까요? GO GO CHAPTER 100 데이터를 파이썬으로 확인할 수 있다?! 저번...\n",
      "\n",
      "교육 콘텐츠 전문 기... blog.naver.com/dokkosam/222110156132 블로그 내 검색\n",
      "\n",
      "블로그 더보기\n"
     ]
    }
   ],
   "source": [
    "for line in blog_text.split('\\n'):\n",
    "    print()\n",
    "    print(line)"
   ]
  },
  {
   "cell_type": "code",
   "execution_count": 42,
   "metadata": {},
   "outputs": [],
   "source": [
    "driver = webdriver.Chrome('./chromedriver')"
   ]
  },
  {
   "cell_type": "code",
   "execution_count": 43,
   "metadata": {},
   "outputs": [],
   "source": [
    "driver.get('https://www.naver.com')"
   ]
  },
  {
   "cell_type": "code",
   "execution_count": 44,
   "metadata": {},
   "outputs": [],
   "source": [
    "elem = driver.find_element_by_id('query')"
   ]
  },
  {
   "cell_type": "code",
   "execution_count": 45,
   "metadata": {},
   "outputs": [],
   "source": [
    "elem.send_keys('파이썬')"
   ]
  },
  {
   "cell_type": "code",
   "execution_count": 46,
   "metadata": {},
   "outputs": [],
   "source": [
    "elem.send_keys(Keys.RETURN)"
   ]
  },
  {
   "cell_type": "code",
   "execution_count": 33,
   "metadata": {},
   "outputs": [],
   "source": [
    "elem = driver.find_element_by_class_name('_blogBase')"
   ]
  },
  {
   "cell_type": "code",
   "execution_count": 36,
   "metadata": {},
   "outputs": [],
   "source": [
    "lis = elem.find_elements_by_tag_name('li')"
   ]
  },
  {
   "cell_type": "code",
   "execution_count": 38,
   "metadata": {},
   "outputs": [
    {
     "name": "stdout",
     "output_type": "stream",
     "text": [
      "\n",
      "파이썬(Phython)이 스타트업에게 인기있는 이유 7가지 2020.08.31.\n",
      "파이썬(Python)이 스타트업에게 인기있는 이유 7가지 Facebook Twitter 안녕하세요.... 그렇기 때문에 파이썬(Python)과 같은 강력하면서도 기반이 튼튼한 기술을...\n",
      "그린 클라이언트 –... blog.wishket.com/%ED%8C%8C%EC%9D%B4%EC%8... 블로그 내 검색\n",
      "\n",
      "파이썬 숫자 출력하기_하루 10분 혼공 2020.10.02.\n",
      "파이썬 숫자 출력하기_하루 10분 혼공 안녕하세요 파이썬 찐초보의 10월 2일 10분 혼공이 시작됩니다. 찐초보인 제가 파이썬 하루 10분 혼공 11번째 시간인데요. 잘게...\n",
      "소프트웨어놀이터 blog.naver.com/nasu0210/222105195536 블로그 내 검색\n",
      "\n",
      "파이썬 웹 프로그래밍 Django로 입문 2020.09.03.\n",
      "넓은 파이썬의 웹 프레임워크인 Django를 기반으로 알아볼 수 있는 시간을 가지도록 해보겠습니다. #파이썬, Django 특징 파이썬은 많고 많은 프로그래밍 언어 중 분야에...\n",
      "주들의 그리 대단하... blog.naver.com/urmyver/222079389364 블로그 내 검색\n",
      "\n",
      "[Python] 파이썬이 인기있는 이유 2020.10.01.\n",
      "파이썬(Python)이란? 파이썬(Python)은 오픈소스 고급 프로그래밍 언어 중 하나입니다. 파이썬은 C언어를 기반으로 한 오픈소스 고급 프로그래밍 언어로, 1991년 귀도...\n",
      "seek blog.naver.com/dktmrorl/222104270383 블로그 내 검색\n",
      "\n",
      "[아두이노 QnA] 파이썬으로 아두이노 제어하기_3 5일 전\n",
      "아두이노와 파이썬을 연결하는 방법에 대해 살펴보겠습니다. 오늘도 활기차게 출발해볼까요? GO GO CHAPTER 100 데이터를 파이썬으로 확인할 수 있다?! 저번...\n",
      "교육 콘텐츠 전문 기... blog.naver.com/dokkosam/222110156132 블로그 내 검색\n"
     ]
    }
   ],
   "source": [
    "for li in lis:\n",
    "    print()\n",
    "    print(li.text)"
   ]
  },
  {
   "cell_type": "code",
   "execution_count": 39,
   "metadata": {},
   "outputs": [],
   "source": [
    "driver.quit()"
   ]
  },
  {
   "cell_type": "code",
   "execution_count": 40,
   "metadata": {},
   "outputs": [],
   "source": [
    "def naver_selenium():\n",
    "    driver = webdriver.Chrome('./chromedriver')\n",
    "    driver.get('https://www.naver.com')\n",
    "    elem = driver.find_element_by_id('query')\n",
    "    elem.send_keys('파이썬')\n",
    "    elem.send_keys(Keys.RETURN)\n",
    "    elem = driver.find_element_by_class_name('_blogBase')\n",
    "    lis = elem.find_elements_by_tag_name('li')\n",
    "    for li in lis:\n",
    "        print()\n",
    "        print(li.text)\n",
    "    driver.quit()"
   ]
  },
  {
   "cell_type": "code",
   "execution_count": 41,
   "metadata": {
    "collapsed": true
   },
   "outputs": [
    {
     "name": "stdout",
     "output_type": "stream",
     "text": [
      "\n",
      "파이썬(Phython)이 스타트업에게 인기있는 이유 7가지 2020.08.31.\n",
      "파이썬(Python)이 스타트업에게 인기있는 이유 7가지 Facebook Twitter 안녕하세요.... 그렇기 때문에 파이썬(Python)과 같은 강력하면서도 기반이 튼튼한 기술을...\n",
      "그린 클라이언트 –... blog.wishket.com/%ED%8C%8C%EC%9D%B4%EC%8... 블로그 내 검색\n",
      "\n",
      "파이썬 숫자 출력하기_하루 10분 혼공 2020.10.02.\n",
      "파이썬 숫자 출력하기_하루 10분 혼공 안녕하세요 파이썬 찐초보의 10월 2일 10분 혼공이 시작됩니다. 찐초보인 제가 파이썬 하루 10분 혼공 11번째 시간인데요. 잘게...\n",
      "소프트웨어놀이터 blog.naver.com/nasu0210/222105195536 블로그 내 검색\n",
      "\n",
      "파이썬 웹 프로그래밍 Django로 입문 2020.09.03.\n",
      "넓은 파이썬의 웹 프레임워크인 Django를 기반으로 알아볼 수 있는 시간을 가지도록 해보겠습니다. #파이썬, Django 특징 파이썬은 많고 많은 프로그래밍 언어 중 분야에...\n",
      "주들의 그리 대단하... blog.naver.com/urmyver/222079389364 블로그 내 검색\n",
      "\n",
      "[Python] 파이썬이 인기있는 이유 2020.10.01.\n",
      "파이썬(Python)이란? 파이썬(Python)은 오픈소스 고급 프로그래밍 언어 중 하나입니다. 파이썬은 C언어를 기반으로 한 오픈소스 고급 프로그래밍 언어로, 1991년 귀도...\n",
      "seek blog.naver.com/dktmrorl/222104270383 블로그 내 검색\n",
      "\n",
      "[아두이노 QnA] 파이썬으로 아두이노 제어하기_3 5일 전\n",
      "아두이노와 파이썬을 연결하는 방법에 대해 살펴보겠습니다. 오늘도 활기차게 출발해볼까요? GO GO CHAPTER 100 데이터를 파이썬으로 확인할 수 있다?! 저번...\n",
      "교육 콘텐츠 전문 기... blog.naver.com/dokkosam/222110156132 블로그 내 검색\n"
     ]
    }
   ],
   "source": [
    "naver_selenium()"
   ]
  },
  {
   "cell_type": "code",
   "execution_count": 81,
   "metadata": {},
   "outputs": [],
   "source": [
    "def naver_selenium():\n",
    "    driver = webdriver.Chrome('./chromedriver')\n",
    "    driver.get('https://www.naver.com')\n",
    "    elem = driver.find_element_by_id('query')\n",
    "    elem.send_keys('파이썬')\n",
    "    elem.send_keys(Keys.RETURN)\n",
    "    elem = driver.find_element_by_class_name('_blogBase')\n",
    "    lis = elem.find_elements_by_tag_name('li')\n",
    "    for li in lis:\n",
    "        ats = li.find_element_by_class_name('sh_blog_title')\n",
    "        title = ats.get_attribute('title')\n",
    "        url = ats.get_attribute('href')\n",
    "        print()\n",
    "        print(title)\n",
    "        print(url)\n",
    "    driver.quit()"
   ]
  },
  {
   "cell_type": "code",
   "execution_count": 82,
   "metadata": {},
   "outputs": [
    {
     "name": "stdout",
     "output_type": "stream",
     "text": [
      "\n",
      "파이썬(Phython)이 스타트업에게 인기있는 이유 7가지\n",
      "http://blog.wishket.com/%ED%8C%8C%EC%9D%B4%EC%8D%ACpython%EC%9D%B4-%EC%8A%A4%ED%83%80%ED%8A%B8%EC%97%85%EC%97%90%EA%B2%8C-%EC%9D%B8%EA%B8%B0%EC%9E%88%EB%8A%94-%EC%9D%B4%EC%9C%A0-7%EA%B0%80%EC%A7%80/\n",
      "\n",
      "파이썬 숫자 출력하기_하루 10분 혼공\n",
      "https://blog.naver.com/nasu0210?Redirect=Log&logNo=222105195536\n",
      "\n",
      "파이썬 웹 프로그래밍 Django로 입문\n",
      "https://blog.naver.com/urmyver?Redirect=Log&logNo=222079389364\n",
      "\n",
      "클룸 ! 커리어를 높여줄 수 있는 나만의 비밀, 파이썬 프로그래밍\n",
      "https://blog.naver.com/hasbro_saber?Redirect=Log&logNo=222114266895\n",
      "\n",
      "[Python] 파이썬이 인기있는 이유\n",
      "https://blog.naver.com/dktmrorl?Redirect=Log&logNo=222104270383\n"
     ]
    }
   ],
   "source": [
    "naver_selenium()"
   ]
  },
  {
   "cell_type": "code",
   "execution_count": 49,
   "metadata": {},
   "outputs": [],
   "source": [
    "def naver_blog_selenium():\n",
    "    driver = webdriver.Chrome('./chromedriver')\n",
    "    driver.get('https://www.naver.com')\n",
    "    elem = driver.find_element_by_id('query')\n",
    "    elem.send_keys('파이썬')\n",
    "    elem.send_keys(Keys.RETURN)\n",
    "    elem = driver.find_element_by_class_name('_blogBase')\n",
    "    lis = elem.find_elements_by_tag_name('li')\n",
    "    for li in lis:\n",
    "        ats = li.find_element_by_class_name('sh_blog_title')\n",
    "        title = ats.get_attribute('title')\n",
    "        url = ats.get_attribute('href')\n",
    "        summary = li.find_element_by_class_name('sh_blog_title').text\n",
    "        print()\n",
    "        print(title)\n",
    "        print(url)\n",
    "        print(summary)\n",
    "    driver.quit()"
   ]
  },
  {
   "cell_type": "code",
   "execution_count": 50,
   "metadata": {
    "collapsed": true
   },
   "outputs": [
    {
     "name": "stdout",
     "output_type": "stream",
     "text": [
      "\n",
      "파이썬(Phython)이 스타트업에게 인기있는 이유 7가지\n",
      "http://blog.wishket.com/%ED%8C%8C%EC%9D%B4%EC%8D%ACpython%EC%9D%B4-%EC%8A%A4%ED%83%80%ED%8A%B8%EC%97%85%EC%97%90%EA%B2%8C-%EC%9D%B8%EA%B8%B0%EC%9E%88%EB%8A%94-%EC%9D%B4%EC%9C%A0-7%EA%B0%80%EC%A7%80/\n",
      "파이썬(Phython)이 스타트업에게 인기있는 이유 7가지\n",
      "\n",
      "파이썬 숫자 출력하기_하루 10분 혼공\n",
      "https://blog.naver.com/nasu0210?Redirect=Log&logNo=222105195536\n",
      "파이썬 숫자 출력하기_하루 10분 혼공\n",
      "\n",
      "파이썬 웹 프로그래밍 Django로 입문\n",
      "https://blog.naver.com/urmyver?Redirect=Log&logNo=222079389364\n",
      "파이썬 웹 프로그래밍 Django로 입문\n",
      "\n",
      "[Python] 파이썬이 인기있는 이유\n",
      "https://blog.naver.com/dktmrorl?Redirect=Log&logNo=222104270383\n",
      "[Python] 파이썬이 인기있는 이유\n",
      "\n",
      "[아두이노 QnA] 파이썬으로 아두이노 제어하기_3\n",
      "https://blog.naver.com/dokkosam?Redirect=Log&logNo=222110156132\n",
      "[아두이노 QnA] 파이썬으로 아두이노 제어하기_3\n"
     ]
    }
   ],
   "source": [
    "naver_selenium()"
   ]
  },
  {
   "cell_type": "code",
   "execution_count": null,
   "metadata": {},
   "outputs": [],
   "source": []
  },
  {
   "cell_type": "code",
   "execution_count": 60,
   "metadata": {},
   "outputs": [],
   "source": [
    "driver = webdriver.Chrome('./chromedriver')\n",
    "driver.get('https://www.naver.com')"
   ]
  },
  {
   "cell_type": "code",
   "execution_count": 61,
   "metadata": {},
   "outputs": [],
   "source": [
    "elem = driver.find_element_by_id('query')\n",
    "elem.send_keys('가짜사나이')\n",
    "elem.send_keys(Keys.RETURN)"
   ]
  },
  {
   "cell_type": "code",
   "execution_count": 58,
   "metadata": {
    "collapsed": true
   },
   "outputs": [
    {
     "name": "stdout",
     "output_type": "stream",
     "text": [
      "'가짜사나이' 로건 불법 퇴폐업소 방문 의혹, 아내가 올린 심경글 [전문] 일간스포츠 2시간 전 네이버뉴스 보내기\n",
      "'가짜사나이' 교관으로 이름을 알린 로건(본명 김준영)의 아내가 자신의 심경을 밝혔다. 13일 오전 유튜브 채널 'vlog브리아나' 커뮤니티 게시판에는 로건 아내가 쓴 글이 게재됐다. \"저는 아직 무슨 일인지도 모르겠다\"고...\n",
      "'가짜사나이' 로건 아내 \"혼란\"…남편 향한 성추문 폭로 예고에 심경 밝혀 한국경제 1시간 전 네이버뉴스\n",
      "'가짜사나이' 로건 아내, 남편 '퇴폐업소 의혹'에 \"진위 확인할 것\" [전문] 엑스포츠뉴스 1시간 전 네이버뉴스\n",
      "관련뉴스 전체보기\n",
      "==============================\n",
      "유튜버 정배우 \"가짜사나이 로건·정은주 불법퇴폐업소 출입\" 중앙일보언론사 선정 2시간 전 네이버뉴스 보내기\n",
      "유튜버 정배우가 ‘가짜사나이2’ 교관 로건, 정은주에 대한 폭로를 예고했다. 정배우는 13일 자신의 유튜브 채널 커뮤니티에 “‘가짜사나이2’ 교관분들에 대한 제보가 쏟아지고 있는 상황”이라며 “내일 저녁에...\n",
      "[소셜iN] 정배우, '가짜사나이' 로건·정은주 폭로 예고 MBC연예 3시간 전 네이버뉴스\n",
      "'가짜사나이' 정은주 누구…\"소라넷 초대남·퇴폐업소 출입\" 의혹 뉴시스 5분 전 네이버뉴스\n",
      "관련뉴스 전체보기\n",
      "==============================\n",
      "가학성 논란 ‘가짜 사나이’…제작진 \"편집 오판” 사과 [전문] 조선일보언론사 선정 1일 전 네이버뉴스 보내기\n",
      "“불편함을 드려 다시 한 번 죄송하다는 말씀 드립니다.” 유튜브 예능 ‘가짜사나이’ 제작진이 최근 불거진 가학성 논란에 대해 사과했다. 지난 11일 오후 게시된 최신화에서 프로그램 취지를 의심케 하는 출연진에...\n",
      "[전문] `가짜사나이 2기`, 가학성 논란 사과 디지털타임스 21시간 전 네이버뉴스\n",
      "가짜사나이2 가학 논란에 사과…“이근 그립다” 반응도 국민일보 1일 전 네이버뉴스\n",
      "관련뉴스 전체보기\n",
      "==============================\n",
      "정배우, ‘가짜사나이2’ 교관들 폭로 예고 “로건·정은주 불법퇴폐업소 많이... MK스포츠 3시간 전 네이버뉴스 보내기\n",
      "매경닷컴 MK스포츠 김나영 기자 유튜버 정배우가 ‘가짜사나이2’ 교관들 폭로를 예고했다. 정배우는 13일 자신의 유튜브 채널 커뮤니티에 공지사항을 올렸다. 정배우는 “가짜사나이2 교관분들에 대한 제보가 쏟아지고...\n",
      "정배우 폭로 예고 “‘가짜사나이2’ 로건-정은주, 퇴폐업소 많이 다녀” (전... MBN 2시간 전 네이버뉴스\n",
      "[전문] “‘가짜사나이’ 로건·정은주, 퇴폐업소 출입”…정배우, 폭로 예고 스포츠동아 3시간 전 네이버뉴스\n",
      "관련뉴스 전체보기\n",
      "==============================\n"
     ]
    }
   ],
   "source": [
    "elem = driver.find_element_by_class_name('news')\n",
    "lis = elem.find_elements_by_xpath('ul/li') #//*[@id=\"sp_nws_all1\"]\n",
    "for li in lis:\n",
    "    print(li.text)\n",
    "    print('='*30)"
   ]
  },
  {
   "cell_type": "code",
   "execution_count": 65,
   "metadata": {
    "collapsed": true
   },
   "outputs": [
    {
     "name": "stdout",
     "output_type": "stream",
     "text": [
      "'가짜사나이' 로건 불법 퇴폐업소 방문 의혹, 아내가 올린 심경글 [전문]\n",
      "http://isplus.live.joins.com/news/article/aid.asp?aid=23487339\n",
      "==============================\n",
      "유튜버 정배우 \"가짜사나이 로건·정은주 불법퇴폐업소 출입\"\n",
      "https://news.joins.com/article/olink/23487337\n",
      "==============================\n",
      "가학성 논란 ‘가짜 사나이’…제작진 \"편집 오판” 사과 [전문]\n",
      "https://www.chosun.com/culture-life/2020/10/12/5EC55M7ESJCXRLO5LU4KQMHFHI/?utm_source=naver&utm_medium=original&utm_campaign=news\n",
      "==============================\n",
      "정배우, ‘가짜사나이2’ 교관들 폭로 예고 “로건·정은주 불법퇴폐업소 많이...\n",
      "http://mksports.co.kr/view/2020/1045189/\n",
      "==============================\n"
     ]
    }
   ],
   "source": [
    "elem = driver.find_element_by_class_name('news')\n",
    "lis = elem.find_elements_by_xpath('ul/li') #//*[@id=\"sp_nws_all1\"]\n",
    "for li in lis:\n",
    "    atag = li.find_element_by_class_name('_sp_each_title')\n",
    "    print(atag.text)\n",
    "    print(atag.get_attribute('href'))\n",
    "    print('='*30)"
   ]
  },
  {
   "cell_type": "code",
   "execution_count": 66,
   "metadata": {},
   "outputs": [],
   "source": [
    "def naver_news_selenium(keyword):\n",
    "    driver = webdriver.Chrome('./chromedriver')\n",
    "    driver.get('https://www.naver.com')\n",
    "    elem = driver.find_element_by_id('query')\n",
    "    elem.send_keys(keyword)\n",
    "    elem.send_keys(Keys.RETURN)\n",
    "    elem = driver.find_element_by_class_name('news')\n",
    "    lis = elem.find_elements_by_xpath('ul/li') #//*[@id=\"sp_nws_all1\"]\n",
    "    for li in lis:\n",
    "        atag = li.find_element_by_class_name('_sp_each_title')\n",
    "        print(atag.text)\n",
    "        print(atag.get_attribute('href'))\n",
    "        print('='*30)"
   ]
  },
  {
   "cell_type": "code",
   "execution_count": 67,
   "metadata": {
    "collapsed": true
   },
   "outputs": [
    {
     "name": "stdout",
     "output_type": "stream",
     "text": [
      "돌파하는 송민규\n",
      "https://www.nocutnews.co.kr/news/5427012\n",
      "==============================\n",
      "[U-23 POINT] 송민규-엄원상 모두 '조커'로?...김학범호 '윙어'는 다양하다\n",
      "http://www.interfootball.co.kr/news/articleView.html?idxno=506696\n",
      "==============================\n",
      "태클에 넘어지는 송민규\n",
      "http://yna.kr/PYH20201012246900013?did=1196m\n",
      "==============================\n",
      "스페셜매치를 가능케한 K리그, 송민규 엄원상 이주용 이정협 돋보였다\n",
      "http://sports.chosun.com/news/ntype.htm?id=202010120100069290004818&servicedate=20201011\n",
      "==============================\n"
     ]
    }
   ],
   "source": [
    "naver_news_selenium('송민규')"
   ]
  },
  {
   "cell_type": "code",
   "execution_count": null,
   "metadata": {},
   "outputs": [],
   "source": [
    "# find_element_by_id('id name')\n",
    "# find_elements_by_class_name('class name')\n",
    "# find_elements_by_tag_name('tag name')"
   ]
  },
  {
   "cell_type": "code",
   "execution_count": 73,
   "metadata": {
    "collapsed": true
   },
   "outputs": [
    {
     "name": "stdout",
     "output_type": "stream",
     "text": [
      "정치\n",
      "1 “BTS 트집잡는 어글리 차이니즈” 미국서 부는 중국 불매운동\n",
      "2 병무청장 “유승준 아닌 스티브 유…입국 허용땐 장병 상실감”\n",
      "3 반격 모드로 돌아선 민주당 \"무엇이 나왔기에 권력형 게이트인가\"\n",
      "4 병무청장 \"유승준이 아니라 스티브 유…입국 금지할 것\"\n",
      "5 文대통령 '지지율' 여론조사에 황교익 \"극우 적폐 정당 생존기간 얼마 안 남아\"\n",
      "6 민경욱 \"기쁘다, 진중권의 '국민의힘 상왕 시대' 끝\"…김소연 사퇴 철회\n",
      "7 野, 라임·옵티머스 전선확대…이낙연·이재명 동시조준\n",
      "8 김현아 \"BTS 친한 척하더니…청와대·여당 中압박에 침묵\"\n",
      "9 강기정 “5000만원은 새빨간 거짓말…靑 가방검사 통과 못해”\n",
      "10 병무청 \"대중문화 우수자 징·소집 연기\"…BTS 연기 가능(종합)\n",
      "가장 많이 본 뉴스\n",
      "더보기\n"
     ]
    }
   ],
   "source": [
    "driver = webdriver.Chrome('./chromedriver')\n",
    "driver.get('https://news.naver.com')\n",
    "elem = driver.find_element_by_id('right.ranking_contents')\n",
    "# print(elem.text)\n",
    "\n",
    "# lis = elem.find_elements_by_tag_name('li')\n",
    "# for li in elem:\n",
    "#         ats = li.find_element_by_class_name('nclicks(rig.rankpol)')\n",
    "#         title = ats.get_attribute('title')\n",
    "#         url = ats.get_attribute('href')\n",
    "#         print(li)\n",
    "#         print(title)\n",
    "#         print(url)"
   ]
  },
  {
   "cell_type": "code",
   "execution_count": 80,
   "metadata": {
    "collapsed": true
   },
   "outputs": [
    {
     "ename": "WebDriverException",
     "evalue": "Message: chrome not reachable\n  (Session info: chrome=86.0.4240.75)\n",
     "output_type": "error",
     "traceback": [
      "\u001b[1;31m---------------------------------------------------------------------------\u001b[0m",
      "\u001b[1;31mWebDriverException\u001b[0m                        Traceback (most recent call last)",
      "\u001b[1;32m<ipython-input-80-6bc8c6cd1b30>\u001b[0m in \u001b[0;36m<module>\u001b[1;34m\u001b[0m\n\u001b[0;32m      3\u001b[0m \u001b[1;33m\u001b[0m\u001b[0m\n\u001b[0;32m      4\u001b[0m \u001b[0melem\u001b[0m \u001b[1;33m=\u001b[0m \u001b[0mdriver\u001b[0m\u001b[1;33m.\u001b[0m\u001b[0mfind_element_by_class_name\u001b[0m\u001b[1;33m(\u001b[0m\u001b[1;34m'section_list_ranking'\u001b[0m\u001b[1;33m)\u001b[0m\u001b[1;33m\u001b[0m\u001b[1;33m\u001b[0m\u001b[0m\n\u001b[1;32m----> 5\u001b[1;33m \u001b[0matags\u001b[0m \u001b[1;33m=\u001b[0m \u001b[0me\u001b[0m\u001b[1;33m.\u001b[0m\u001b[0mfind_elements_by_xpath\u001b[0m\u001b[1;33m(\u001b[0m\u001b[1;34m'li/a'\u001b[0m\u001b[1;33m)\u001b[0m\u001b[1;33m\u001b[0m\u001b[1;33m\u001b[0m\u001b[0m\n\u001b[0m\u001b[0;32m      6\u001b[0m \u001b[1;33m\u001b[0m\u001b[0m\n\u001b[0;32m      7\u001b[0m \u001b[1;32mfor\u001b[0m \u001b[0ma\u001b[0m \u001b[1;32min\u001b[0m \u001b[0matags\u001b[0m\u001b[1;33m:\u001b[0m\u001b[1;33m\u001b[0m\u001b[1;33m\u001b[0m\u001b[0m\n",
      "\u001b[1;32m~\\anaconda3\\lib\\site-packages\\selenium\\webdriver\\remote\\webelement.py\u001b[0m in \u001b[0;36mfind_elements_by_xpath\u001b[1;34m(self, xpath)\u001b[0m\n\u001b[0;32m    379\u001b[0m \u001b[1;33m\u001b[0m\u001b[0m\n\u001b[0;32m    380\u001b[0m         \"\"\"\n\u001b[1;32m--> 381\u001b[1;33m         \u001b[1;32mreturn\u001b[0m \u001b[0mself\u001b[0m\u001b[1;33m.\u001b[0m\u001b[0mfind_elements\u001b[0m\u001b[1;33m(\u001b[0m\u001b[0mby\u001b[0m\u001b[1;33m=\u001b[0m\u001b[0mBy\u001b[0m\u001b[1;33m.\u001b[0m\u001b[0mXPATH\u001b[0m\u001b[1;33m,\u001b[0m \u001b[0mvalue\u001b[0m\u001b[1;33m=\u001b[0m\u001b[0mxpath\u001b[0m\u001b[1;33m)\u001b[0m\u001b[1;33m\u001b[0m\u001b[1;33m\u001b[0m\u001b[0m\n\u001b[0m\u001b[0;32m    382\u001b[0m \u001b[1;33m\u001b[0m\u001b[0m\n\u001b[0;32m    383\u001b[0m     \u001b[1;32mdef\u001b[0m \u001b[0mfind_element_by_class_name\u001b[0m\u001b[1;33m(\u001b[0m\u001b[0mself\u001b[0m\u001b[1;33m,\u001b[0m \u001b[0mname\u001b[0m\u001b[1;33m)\u001b[0m\u001b[1;33m:\u001b[0m\u001b[1;33m\u001b[0m\u001b[1;33m\u001b[0m\u001b[0m\n",
      "\u001b[1;32m~\\anaconda3\\lib\\site-packages\\selenium\\webdriver\\remote\\webelement.py\u001b[0m in \u001b[0;36mfind_elements\u001b[1;34m(self, by, value)\u001b[0m\n\u001b[0;32m    682\u001b[0m                 \u001b[0mvalue\u001b[0m \u001b[1;33m=\u001b[0m \u001b[1;34m'[name=\"%s\"]'\u001b[0m \u001b[1;33m%\u001b[0m \u001b[0mvalue\u001b[0m\u001b[1;33m\u001b[0m\u001b[1;33m\u001b[0m\u001b[0m\n\u001b[0;32m    683\u001b[0m \u001b[1;33m\u001b[0m\u001b[0m\n\u001b[1;32m--> 684\u001b[1;33m         return self._execute(Command.FIND_CHILD_ELEMENTS,\n\u001b[0m\u001b[0;32m    685\u001b[0m                              {\"using\": by, \"value\": value})['value']\n\u001b[0;32m    686\u001b[0m \u001b[1;33m\u001b[0m\u001b[0m\n",
      "\u001b[1;32m~\\anaconda3\\lib\\site-packages\\selenium\\webdriver\\remote\\webelement.py\u001b[0m in \u001b[0;36m_execute\u001b[1;34m(self, command, params)\u001b[0m\n\u001b[0;32m    631\u001b[0m             \u001b[0mparams\u001b[0m \u001b[1;33m=\u001b[0m \u001b[1;33m{\u001b[0m\u001b[1;33m}\u001b[0m\u001b[1;33m\u001b[0m\u001b[1;33m\u001b[0m\u001b[0m\n\u001b[0;32m    632\u001b[0m         \u001b[0mparams\u001b[0m\u001b[1;33m[\u001b[0m\u001b[1;34m'id'\u001b[0m\u001b[1;33m]\u001b[0m \u001b[1;33m=\u001b[0m \u001b[0mself\u001b[0m\u001b[1;33m.\u001b[0m\u001b[0m_id\u001b[0m\u001b[1;33m\u001b[0m\u001b[1;33m\u001b[0m\u001b[0m\n\u001b[1;32m--> 633\u001b[1;33m         \u001b[1;32mreturn\u001b[0m \u001b[0mself\u001b[0m\u001b[1;33m.\u001b[0m\u001b[0m_parent\u001b[0m\u001b[1;33m.\u001b[0m\u001b[0mexecute\u001b[0m\u001b[1;33m(\u001b[0m\u001b[0mcommand\u001b[0m\u001b[1;33m,\u001b[0m \u001b[0mparams\u001b[0m\u001b[1;33m)\u001b[0m\u001b[1;33m\u001b[0m\u001b[1;33m\u001b[0m\u001b[0m\n\u001b[0m\u001b[0;32m    634\u001b[0m \u001b[1;33m\u001b[0m\u001b[0m\n\u001b[0;32m    635\u001b[0m     \u001b[1;32mdef\u001b[0m \u001b[0mfind_element\u001b[0m\u001b[1;33m(\u001b[0m\u001b[0mself\u001b[0m\u001b[1;33m,\u001b[0m \u001b[0mby\u001b[0m\u001b[1;33m=\u001b[0m\u001b[0mBy\u001b[0m\u001b[1;33m.\u001b[0m\u001b[0mID\u001b[0m\u001b[1;33m,\u001b[0m \u001b[0mvalue\u001b[0m\u001b[1;33m=\u001b[0m\u001b[1;32mNone\u001b[0m\u001b[1;33m)\u001b[0m\u001b[1;33m:\u001b[0m\u001b[1;33m\u001b[0m\u001b[1;33m\u001b[0m\u001b[0m\n",
      "\u001b[1;32m~\\anaconda3\\lib\\site-packages\\selenium\\webdriver\\remote\\webdriver.py\u001b[0m in \u001b[0;36mexecute\u001b[1;34m(self, driver_command, params)\u001b[0m\n\u001b[0;32m    319\u001b[0m         \u001b[0mresponse\u001b[0m \u001b[1;33m=\u001b[0m \u001b[0mself\u001b[0m\u001b[1;33m.\u001b[0m\u001b[0mcommand_executor\u001b[0m\u001b[1;33m.\u001b[0m\u001b[0mexecute\u001b[0m\u001b[1;33m(\u001b[0m\u001b[0mdriver_command\u001b[0m\u001b[1;33m,\u001b[0m \u001b[0mparams\u001b[0m\u001b[1;33m)\u001b[0m\u001b[1;33m\u001b[0m\u001b[1;33m\u001b[0m\u001b[0m\n\u001b[0;32m    320\u001b[0m         \u001b[1;32mif\u001b[0m \u001b[0mresponse\u001b[0m\u001b[1;33m:\u001b[0m\u001b[1;33m\u001b[0m\u001b[1;33m\u001b[0m\u001b[0m\n\u001b[1;32m--> 321\u001b[1;33m             \u001b[0mself\u001b[0m\u001b[1;33m.\u001b[0m\u001b[0merror_handler\u001b[0m\u001b[1;33m.\u001b[0m\u001b[0mcheck_response\u001b[0m\u001b[1;33m(\u001b[0m\u001b[0mresponse\u001b[0m\u001b[1;33m)\u001b[0m\u001b[1;33m\u001b[0m\u001b[1;33m\u001b[0m\u001b[0m\n\u001b[0m\u001b[0;32m    322\u001b[0m             response['value'] = self._unwrap_value(\n\u001b[0;32m    323\u001b[0m                 response.get('value', None))\n",
      "\u001b[1;32m~\\anaconda3\\lib\\site-packages\\selenium\\webdriver\\remote\\errorhandler.py\u001b[0m in \u001b[0;36mcheck_response\u001b[1;34m(self, response)\u001b[0m\n\u001b[0;32m    240\u001b[0m                 \u001b[0malert_text\u001b[0m \u001b[1;33m=\u001b[0m \u001b[0mvalue\u001b[0m\u001b[1;33m[\u001b[0m\u001b[1;34m'alert'\u001b[0m\u001b[1;33m]\u001b[0m\u001b[1;33m.\u001b[0m\u001b[0mget\u001b[0m\u001b[1;33m(\u001b[0m\u001b[1;34m'text'\u001b[0m\u001b[1;33m)\u001b[0m\u001b[1;33m\u001b[0m\u001b[1;33m\u001b[0m\u001b[0m\n\u001b[0;32m    241\u001b[0m             \u001b[1;32mraise\u001b[0m \u001b[0mexception_class\u001b[0m\u001b[1;33m(\u001b[0m\u001b[0mmessage\u001b[0m\u001b[1;33m,\u001b[0m \u001b[0mscreen\u001b[0m\u001b[1;33m,\u001b[0m \u001b[0mstacktrace\u001b[0m\u001b[1;33m,\u001b[0m \u001b[0malert_text\u001b[0m\u001b[1;33m)\u001b[0m\u001b[1;33m\u001b[0m\u001b[1;33m\u001b[0m\u001b[0m\n\u001b[1;32m--> 242\u001b[1;33m         \u001b[1;32mraise\u001b[0m \u001b[0mexception_class\u001b[0m\u001b[1;33m(\u001b[0m\u001b[0mmessage\u001b[0m\u001b[1;33m,\u001b[0m \u001b[0mscreen\u001b[0m\u001b[1;33m,\u001b[0m \u001b[0mstacktrace\u001b[0m\u001b[1;33m)\u001b[0m\u001b[1;33m\u001b[0m\u001b[1;33m\u001b[0m\u001b[0m\n\u001b[0m\u001b[0;32m    243\u001b[0m \u001b[1;33m\u001b[0m\u001b[0m\n\u001b[0;32m    244\u001b[0m     \u001b[1;32mdef\u001b[0m \u001b[0m_value_or_default\u001b[0m\u001b[1;33m(\u001b[0m\u001b[0mself\u001b[0m\u001b[1;33m,\u001b[0m \u001b[0mobj\u001b[0m\u001b[1;33m,\u001b[0m \u001b[0mkey\u001b[0m\u001b[1;33m,\u001b[0m \u001b[0mdefault\u001b[0m\u001b[1;33m)\u001b[0m\u001b[1;33m:\u001b[0m\u001b[1;33m\u001b[0m\u001b[1;33m\u001b[0m\u001b[0m\n",
      "\u001b[1;31mWebDriverException\u001b[0m: Message: chrome not reachable\n  (Session info: chrome=86.0.4240.75)\n"
     ]
    }
   ],
   "source": [
    "driver = webdriver.Chrome('./chromedriver')\n",
    "driver.get('https://news.naver.com')\n",
    "\n",
    "elem = driver.find_element_by_class_name('section_list_ranking')\n",
    "atags = e.find_elements_by_xpath('li/a')\n",
    "\n",
    "for a in atags:\n",
    "    print(a.text)\n",
    "#     print(e.text)\n",
    "    \n",
    "    \n",
    "driver.quit()"
   ]
  },
  {
   "cell_type": "code",
   "execution_count": null,
   "metadata": {},
   "outputs": [],
   "source": [
    "# amazon.com에서 best seller 상품 정보 crawling\n",
    "# www.amazon.com/bestsellers?id=NSGoole"
   ]
  }
 ],
 "metadata": {
  "kernelspec": {
   "display_name": "Python 3",
   "language": "python",
   "name": "python3"
  },
  "language_info": {
   "codemirror_mode": {
    "name": "ipython",
    "version": 3
   },
   "file_extension": ".py",
   "mimetype": "text/x-python",
   "name": "python",
   "nbconvert_exporter": "python",
   "pygments_lexer": "ipython3",
   "version": "3.8.3"
  }
 },
 "nbformat": 4,
 "nbformat_minor": 4
}
