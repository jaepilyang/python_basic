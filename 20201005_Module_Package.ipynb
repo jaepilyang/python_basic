{
 "cells": [
  {
   "cell_type": "code",
   "execution_count": 1,
   "metadata": {},
   "outputs": [],
   "source": [
    "# module\n",
    "# 파이썬 함수나 클래스가 정의된 파이썬 파일\n",
    "\n",
    "# package\n",
    "# 여러 module이 계층을 이룬 module 보다 큰 단위"
   ]
  },
  {
   "cell_type": "code",
   "execution_count": 3,
   "metadata": {},
   "outputs": [
    {
     "data": {
      "text/plain": [
       "'D:\\\\Bigdata\\\\python'"
      ]
     },
     "execution_count": 3,
     "metadata": {},
     "output_type": "execute_result"
    }
   ],
   "source": [
    "pwd"
   ]
  },
  {
   "cell_type": "code",
   "execution_count": 4,
   "metadata": {
    "collapsed": true
   },
   "outputs": [
    {
     "name": "stdout",
     "output_type": "stream",
     "text": [
      " D 드라이브의 볼륨: 새 볼륨\n",
      " 볼륨 일련 번호: 8A45-2B88\n",
      "\n",
      " D:\\Bigdata\\python 디렉터리\n",
      "\n",
      "2020-10-05  오후 02:10    <DIR>          .\n",
      "2020-10-05  오후 02:10    <DIR>          ..\n",
      "2020-10-05  오후 12:41    <DIR>          .ipynb_checkpoints\n",
      "2020-09-17  오후 06:52            18,895 20200917_python_datatype_1.ipynb\n",
      "2020-09-21  오전 10:47            34,293 20200918_python_datatype_2_sequential.ipynb\n",
      "2020-09-18  오후 02:13            14,537 20200918_python_operation.ipynb\n",
      "2020-09-22  오전 10:43             9,711 20200921_IF.ipynb\n",
      "2020-09-22  오후 06:38            37,773 20200921_python_datatype_3_sequential_tuple_set_dictionary.ipynb\n",
      "2020-09-22  오후 05:24            26,991 20200922_python_for.ipynb\n",
      "2020-09-23  오후 06:40            87,463 20200923_python_file.ipynb\n",
      "2020-09-25  오후 12:27            75,067 20200924_python_function.ipynb\n",
      "2020-09-25  오후 06:15            38,880 20200925_python_class.ipynb\n",
      "2020-09-29  오후 06:09            10,585 20200929_Directory_File_Operation.ipynb\n",
      "2020-09-29  오후 06:09            19,477 20200929_python_Exception.ipynb\n",
      "2020-09-29  오후 06:09            10,046 20200929_Regular Expression.ipynb\n",
      "2020-10-05  오후 02:10             1,169 20201005_Module_Package.ipynb\n",
      "2020-10-05  오후 12:40             8,927 20201005_Regular Expression1.ipynb\n",
      "2020-09-23  오후 02:15                22 ban.txt\n",
      "2020-09-23  오후 02:15                93 ban_student.txt\n",
      "2020-09-23  오후 12:50                30 data.txt\n",
      "2020-09-29  오후 12:44            21,286 Exception.ipynb\n",
      "2020-09-29  오후 06:05                11 file.txt\n",
      "2020-09-23  오후 12:32                59 newfile.txt\n",
      "2020-09-23  오후 04:23             1,007 poem.txt\n",
      "2020-09-23  오후 12:46                18 score.txt\n",
      "2020-09-23  오후 02:15            16,339 stockcode.txt\n",
      "2020-09-23  오후 04:15            16,339 stockcode_copy.txt\n",
      "2020-09-23  오후 03:42                25 stock_history.txt\n",
      "2020-09-23  오후 06:33                12 subject.txt\n",
      "2020-09-29  오후 04:33    <DIR>          test_dir\n",
      "2020-10-05  오후 02:09             1,271 test_module.py\n",
      "2020-09-23  오후 02:51               603 time difference.txt\n",
      "2020-09-23  오후 06:35               307 time_diff.txt\n",
      "2020-10-05  오후 12:40            10,702 Untitled.ipynb\n",
      "2020-09-29  오후 02:05                11 뽀로로.txt\n",
      "              31개 파일             461,949 바이트\n",
      "               4개 디렉터리  744,008,196,096 바이트 남음\n"
     ]
    }
   ],
   "source": [
    "!dir"
   ]
  },
  {
   "cell_type": "code",
   "execution_count": 5,
   "metadata": {},
   "outputs": [
    {
     "ename": "NameError",
     "evalue": "name 'addf' is not defined",
     "output_type": "error",
     "traceback": [
      "\u001b[1;31m---------------------------------------------------------------------------\u001b[0m",
      "\u001b[1;31mNameError\u001b[0m                                 Traceback (most recent call last)",
      "\u001b[1;32m<ipython-input-5-3ae0785c1643>\u001b[0m in \u001b[0;36m<module>\u001b[1;34m\u001b[0m\n\u001b[1;32m----> 1\u001b[1;33m \u001b[0maddf\u001b[0m\u001b[1;33m(\u001b[0m\u001b[1;36m2\u001b[0m\u001b[1;33m,\u001b[0m\u001b[1;36m4\u001b[0m\u001b[1;33m)\u001b[0m\u001b[1;33m\u001b[0m\u001b[1;33m\u001b[0m\u001b[0m\n\u001b[0m",
      "\u001b[1;31mNameError\u001b[0m: name 'addf' is not defined"
     ]
    }
   ],
   "source": [
    "addf(2,4)"
   ]
  },
  {
   "cell_type": "code",
   "execution_count": 6,
   "metadata": {},
   "outputs": [],
   "source": [
    "import test_module"
   ]
  },
  {
   "cell_type": "code",
   "execution_count": 7,
   "metadata": {},
   "outputs": [
    {
     "data": {
      "text/plain": [
       "5"
      ]
     },
     "execution_count": 7,
     "metadata": {},
     "output_type": "execute_result"
    }
   ],
   "source": [
    "test_module.addf(2,3)"
   ]
  },
  {
   "cell_type": "code",
   "execution_count": 8,
   "metadata": {},
   "outputs": [
    {
     "data": {
      "text/plain": [
       "55"
      ]
     },
     "execution_count": 8,
     "metadata": {},
     "output_type": "execute_result"
    }
   ],
   "source": [
    "test_module.cusum(1,10)"
   ]
  },
  {
   "cell_type": "code",
   "execution_count": 10,
   "metadata": {},
   "outputs": [],
   "source": [
    "bc=test_module.businesscard()"
   ]
  },
  {
   "cell_type": "code",
   "execution_count": 14,
   "metadata": {},
   "outputs": [],
   "source": [
    "bc.set_info('팔로세비치', '팔로@팔로.com', '세르비아', '축구선수', 27, '111-1111')"
   ]
  },
  {
   "cell_type": "code",
   "execution_count": 15,
   "metadata": {},
   "outputs": [
    {
     "name": "stdout",
     "output_type": "stream",
     "text": [
      "******************************\n",
      "Name : 팔로세비치\n",
      "E-mail : 팔로@팔로.com\n",
      "Address : 세르비아\n",
      "******************************\n"
     ]
    }
   ],
   "source": [
    "bc.b_card()"
   ]
  },
  {
   "cell_type": "code",
   "execution_count": 16,
   "metadata": {},
   "outputs": [
    {
     "name": "stdout",
     "output_type": "stream",
     "text": [
      "******************************\n",
      "Job : 축구선수\n",
      "Age : 27\n",
      "Phone : 111-1111\n",
      "******************************\n"
     ]
    }
   ],
   "source": [
    "bc.detail_info()"
   ]
  },
  {
   "cell_type": "code",
   "execution_count": 17,
   "metadata": {},
   "outputs": [],
   "source": [
    "fc=test_module.calcu(2,5)"
   ]
  },
  {
   "cell_type": "code",
   "execution_count": 18,
   "metadata": {},
   "outputs": [
    {
     "data": {
      "text/plain": [
       "7"
      ]
     },
     "execution_count": 18,
     "metadata": {},
     "output_type": "execute_result"
    }
   ],
   "source": [
    "fc.plus()"
   ]
  },
  {
   "cell_type": "code",
   "execution_count": 19,
   "metadata": {},
   "outputs": [
    {
     "data": {
      "text/plain": [
       "-3"
      ]
     },
     "execution_count": 19,
     "metadata": {},
     "output_type": "execute_result"
    }
   ],
   "source": [
    "fc.minus()"
   ]
  },
  {
   "cell_type": "code",
   "execution_count": 20,
   "metadata": {},
   "outputs": [
    {
     "data": {
      "text/plain": [
       "10"
      ]
     },
     "execution_count": 20,
     "metadata": {},
     "output_type": "execute_result"
    }
   ],
   "source": [
    "fc.multiple()"
   ]
  },
  {
   "cell_type": "code",
   "execution_count": 21,
   "metadata": {},
   "outputs": [
    {
     "data": {
      "text/plain": [
       "0.4"
      ]
     },
     "execution_count": 21,
     "metadata": {},
     "output_type": "execute_result"
    }
   ],
   "source": [
    "fc.divide()"
   ]
  },
  {
   "cell_type": "code",
   "execution_count": 22,
   "metadata": {},
   "outputs": [],
   "source": [
    "# 2. 모듈을 약칭으로 가져오기\n",
    "\n",
    "import test_module as tm"
   ]
  },
  {
   "cell_type": "code",
   "execution_count": 23,
   "metadata": {},
   "outputs": [
    {
     "data": {
      "text/plain": [
       "7"
      ]
     },
     "execution_count": 23,
     "metadata": {},
     "output_type": "execute_result"
    }
   ],
   "source": [
    "tm.addf(2,5)"
   ]
  },
  {
   "cell_type": "code",
   "execution_count": 24,
   "metadata": {},
   "outputs": [
    {
     "data": {
      "text/plain": [
       "5050"
      ]
     },
     "execution_count": 24,
     "metadata": {},
     "output_type": "execute_result"
    }
   ],
   "source": [
    "tm.cusum(1,100)"
   ]
  },
  {
   "cell_type": "code",
   "execution_count": 25,
   "metadata": {},
   "outputs": [],
   "source": [
    "fc=tm.calcu(10,20)"
   ]
  },
  {
   "cell_type": "code",
   "execution_count": 26,
   "metadata": {},
   "outputs": [
    {
     "data": {
      "text/plain": [
       "30"
      ]
     },
     "execution_count": 26,
     "metadata": {},
     "output_type": "execute_result"
    }
   ],
   "source": [
    "fc.plus()"
   ]
  },
  {
   "cell_type": "code",
   "execution_count": 27,
   "metadata": {},
   "outputs": [
    {
     "data": {
      "text/plain": [
       "200"
      ]
     },
     "execution_count": 27,
     "metadata": {},
     "output_type": "execute_result"
    }
   ],
   "source": [
    "fc.multiple()"
   ]
  },
  {
   "cell_type": "code",
   "execution_count": 28,
   "metadata": {},
   "outputs": [],
   "source": [
    "# 3. 모듈 내의 함수나 클래스를 직접 가져오기\n",
    "from test_module import addf, calcu"
   ]
  },
  {
   "cell_type": "code",
   "execution_count": 29,
   "metadata": {},
   "outputs": [
    {
     "data": {
      "text/plain": [
       "15"
      ]
     },
     "execution_count": 29,
     "metadata": {},
     "output_type": "execute_result"
    }
   ],
   "source": [
    "addf(10,5)"
   ]
  },
  {
   "cell_type": "code",
   "execution_count": 30,
   "metadata": {},
   "outputs": [],
   "source": [
    "fc=calcu(25,35)"
   ]
  },
  {
   "cell_type": "code",
   "execution_count": 31,
   "metadata": {},
   "outputs": [
    {
     "data": {
      "text/plain": [
       "60"
      ]
     },
     "execution_count": 31,
     "metadata": {},
     "output_type": "execute_result"
    }
   ],
   "source": [
    "fc.plus()"
   ]
  },
  {
   "cell_type": "code",
   "execution_count": 32,
   "metadata": {},
   "outputs": [
    {
     "data": {
      "text/plain": [
       "875"
      ]
     },
     "execution_count": 32,
     "metadata": {},
     "output_type": "execute_result"
    }
   ],
   "source": [
    "fc.multiple()"
   ]
  },
  {
   "cell_type": "code",
   "execution_count": 40,
   "metadata": {},
   "outputs": [],
   "source": [
    "# test_module2.py\n",
    "def addf(a, b):\n",
    "    result = a+b\n",
    "    return result\n",
    "\n",
    "class calcu:\n",
    "    \n",
    "    def __init__(self, a,b):\n",
    "        self.a = a\n",
    "        self.b = b\n",
    "    \n",
    "    def plus(self):\n",
    "        result = self.a+self.b\n",
    "        return result\n",
    "    \n",
    "    def minus(self):\n",
    "        result = self.a-self.b\n",
    "        return result\n",
    "    \n",
    "    def multiple(self):\n",
    "        result = self.a*self.b\n",
    "        return result\n",
    "    \n",
    "    def divide(self):\n",
    "        result = self.a/self.b\n",
    "        return result\n",
    "\n",
    "#파이썬 파일을 직접 실행하면 실행이되지만 import하면 실행되지 않는 부분\n",
    "if __name__=='__main__': \n",
    "    addf(2, 4)"
   ]
  },
  {
   "cell_type": "code",
   "execution_count": 44,
   "metadata": {},
   "outputs": [],
   "source": [
    "import test_module2 as tm"
   ]
  },
  {
   "cell_type": "code",
   "execution_count": null,
   "metadata": {},
   "outputs": [],
   "source": []
  },
  {
   "cell_type": "code",
   "execution_count": 45,
   "metadata": {},
   "outputs": [],
   "source": [
    "# 외부모듈\n",
    "# 파이썬에서 제공하지 않아 직접 만들지 않고 외부의 모듈을 import해서 다양한\n",
    "# 메소드와 클래스를 가져올 수 있다. "
   ]
  },
  {
   "cell_type": "code",
   "execution_count": 46,
   "metadata": {},
   "outputs": [
    {
     "name": "stdout",
     "output_type": "stream",
     "text": [
      "hello python\n",
      "hello python\n",
      "hello python\n",
      "hello python\n",
      "hello python\n"
     ]
    }
   ],
   "source": [
    "import time\n",
    "\n",
    "for i in range(5):\n",
    "    print('hello python')\n",
    "    time.sleep(2)"
   ]
  },
  {
   "cell_type": "code",
   "execution_count": 47,
   "metadata": {},
   "outputs": [
    {
     "name": "stdout",
     "output_type": "stream",
     "text": [
      "hello python\n",
      "hello python\n",
      "hello python\n",
      "the end\n"
     ]
    }
   ],
   "source": [
    "import time\n",
    "\n",
    "for i in range(3):\n",
    "    print('hello python')\n",
    "    time.sleep(2)\n",
    "print('the end')"
   ]
  },
  {
   "cell_type": "code",
   "execution_count": 48,
   "metadata": {},
   "outputs": [
    {
     "name": "stdout",
     "output_type": "stream",
     "text": [
      "3.141592653589793\n"
     ]
    }
   ],
   "source": [
    "import math\n",
    "\n",
    "print(math.pi)"
   ]
  },
  {
   "cell_type": "code",
   "execution_count": 50,
   "metadata": {},
   "outputs": [
    {
     "name": "stdout",
     "output_type": "stream",
     "text": [
      "25 22 27 8 44 11 "
     ]
    }
   ],
   "source": [
    "import random\n",
    "\n",
    "for i in range(6):\n",
    "    num=random.randint(1,45)\n",
    "    print(num, end=' ')"
   ]
  },
  {
   "cell_type": "code",
   "execution_count": 53,
   "metadata": {},
   "outputs": [
    {
     "name": "stdout",
     "output_type": "stream",
     "text": [
      "[10, 'J', 'A', 5]\n",
      "[2, 6, 3, 7]\n",
      "['Q', 'A', 8, 7]\n",
      "['A', 7, 5, 3]\n",
      "['J', 'A', 5, 10]\n"
     ]
    }
   ],
   "source": [
    "card = ['A', 2,3,4,5,6,7,8,9,10,'J','Q','K']\n",
    "\n",
    "for i in range(5):\n",
    "    random.shuffle(card)\n",
    "    print(card[:4])"
   ]
  },
  {
   "cell_type": "code",
   "execution_count": 58,
   "metadata": {},
   "outputs": [
    {
     "name": "stdout",
     "output_type": "stream",
     "text": [
      "['b', 'd']\n",
      "['b', 'a']\n",
      "['a', 'b']\n",
      "['b', 'd']\n",
      "['a', 'b']\n"
     ]
    }
   ],
   "source": [
    "for i in range(5):\n",
    "    rl = random.sample(['a', 'b', 'c', 'd'], 2)\n",
    "    print(rl)"
   ]
  },
  {
   "cell_type": "code",
   "execution_count": 59,
   "metadata": {},
   "outputs": [
    {
     "data": {
      "text/plain": [
       "5.59743297100642"
      ]
     },
     "execution_count": 59,
     "metadata": {},
     "output_type": "execute_result"
    }
   ],
   "source": [
    "random.uniform(1, 10)"
   ]
  },
  {
   "cell_type": "code",
   "execution_count": 60,
   "metadata": {},
   "outputs": [
    {
     "name": "stdout",
     "output_type": "stream",
     "text": [
      "현재시각:  1601876883.4836426\n"
     ]
    }
   ],
   "source": [
    "import time\n",
    "\n",
    "print('현재시각: ', time.time())"
   ]
  },
  {
   "cell_type": "code",
   "execution_count": 65,
   "metadata": {},
   "outputs": [],
   "source": [
    "def manyloop(n):\n",
    "    start_time = time.time()\n",
    "    suma = 0\n",
    "    for a in range(n):\n",
    "        suma += a\n",
    "    end_time = time.time()\n",
    "    duration = end_time - start_time\n",
    "    return duration"
   ]
  },
  {
   "cell_type": "code",
   "execution_count": 66,
   "metadata": {},
   "outputs": [
    {
     "data": {
      "text/plain": [
       "0.5546867847442627"
      ]
     },
     "execution_count": 66,
     "metadata": {},
     "output_type": "execute_result"
    }
   ],
   "source": [
    "manyloop(10000000)"
   ]
  },
  {
   "cell_type": "code",
   "execution_count": 67,
   "metadata": {},
   "outputs": [
    {
     "name": "stdout",
     "output_type": "stream",
     "text": [
      "Mon Oct  5 14:52:55 2020\n"
     ]
    }
   ],
   "source": [
    "current = time.ctime()\n",
    "print(current)"
   ]
  },
  {
   "cell_type": "code",
   "execution_count": 68,
   "metadata": {},
   "outputs": [],
   "source": [
    "import datetime"
   ]
  },
  {
   "cell_type": "code",
   "execution_count": 69,
   "metadata": {},
   "outputs": [
    {
     "data": {
      "text/plain": [
       "datetime.datetime(2020, 10, 5, 14, 53, 7, 50317)"
      ]
     },
     "execution_count": 69,
     "metadata": {},
     "output_type": "execute_result"
    }
   ],
   "source": [
    "datetime.datetime.now()"
   ]
  },
  {
   "cell_type": "code",
   "execution_count": 70,
   "metadata": {},
   "outputs": [],
   "source": [
    "import test_module as tm"
   ]
  },
  {
   "cell_type": "code",
   "execution_count": null,
   "metadata": {},
   "outputs": [],
   "source": []
  }
 ],
 "metadata": {
  "kernelspec": {
   "display_name": "Python 3",
   "language": "python",
   "name": "python3"
  },
  "language_info": {
   "codemirror_mode": {
    "name": "ipython",
    "version": 3
   },
   "file_extension": ".py",
   "mimetype": "text/x-python",
   "name": "python",
   "nbconvert_exporter": "python",
   "pygments_lexer": "ipython3",
   "version": "3.8.3"
  }
 },
 "nbformat": 4,
 "nbformat_minor": 4
}
