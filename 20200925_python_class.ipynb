{
 "cells": [
  {
   "cell_type": "markdown",
   "metadata": {},
   "source": [
    "## class "
   ]
  },
  {
   "cell_type": "code",
   "execution_count": 1,
   "metadata": {},
   "outputs": [],
   "source": [
    "# 자주 사용하는 함수들과 변수들을 한곳에 묶어서 관리\n",
    "# class를 사용할 때는 class를 복사해서 사용\n",
    "# class를 복사한 것을 instance라고 함\n",
    "\n",
    "# 속성(attribute): 클래스 내의 변수\n",
    "# 메소드(method): 클래스 내의 함수\n",
    "        \n",
    "# class는 설계도와 같음 class를 사용시 class를 복사해서 인스턴스로 사용\n",
    "# 클래스: 붕어빵 틀, 인스턴스: 붕어빵"
   ]
  },
  {
   "cell_type": "code",
   "execution_count": null,
   "metadata": {},
   "outputs": [],
   "source": []
  },
  {
   "cell_type": "code",
   "execution_count": 2,
   "metadata": {},
   "outputs": [
    {
     "name": "stdout",
     "output_type": "stream",
     "text": [
      "******************************\n",
      "Name : KimYun\n",
      "E-mail : example@example.com\n",
      "Address : Seoul\n",
      "******************************\n"
     ]
    }
   ],
   "source": [
    "# 명찰만드는 코드\n",
    "\n",
    "print('*'*30)\n",
    "print('Name : {}'.format('KimYun'))\n",
    "print('E-mail : {}'.format('example@example.com'))\n",
    "print('Address : {}'.format('Seoul'))\n",
    "print('*'*30)"
   ]
  },
  {
   "cell_type": "code",
   "execution_count": 3,
   "metadata": {},
   "outputs": [],
   "source": [
    "# 함수로 변환\n",
    "\n",
    "def b_card():\n",
    "    print('*'*30)\n",
    "    print('Name : {}'.format('KimYun'))\n",
    "    print('E-mail : {}'.format('example@example.com'))\n",
    "    print('Address : {}'.format('Seoul'))\n",
    "    print('*'*30)"
   ]
  },
  {
   "cell_type": "code",
   "execution_count": 4,
   "metadata": {},
   "outputs": [
    {
     "name": "stdout",
     "output_type": "stream",
     "text": [
      "******************************\n",
      "Name : KimYun\n",
      "E-mail : example@example.com\n",
      "Address : Seoul\n",
      "******************************\n"
     ]
    }
   ],
   "source": [
    "b_card()"
   ]
  },
  {
   "cell_type": "code",
   "execution_count": 5,
   "metadata": {},
   "outputs": [],
   "source": [
    "def b_card(name, email, address):\n",
    "    print('*'*30)\n",
    "    print('Name : {}'.format(name))\n",
    "    print('E-mail : {}'.format(email))\n",
    "    print('Address : {}'.format(address))\n",
    "    print('*'*30)"
   ]
  },
  {
   "cell_type": "code",
   "execution_count": 6,
   "metadata": {},
   "outputs": [
    {
     "name": "stdout",
     "output_type": "stream",
     "text": [
      "******************************\n",
      "Name : 경환\n",
      "E-mail : example@example.com\n",
      "Address : Incheon\n",
      "******************************\n"
     ]
    }
   ],
   "source": [
    "b_card('경환', 'example@example.com', 'Incheon')"
   ]
  },
  {
   "cell_type": "code",
   "execution_count": 7,
   "metadata": {},
   "outputs": [],
   "source": [
    "name = 'yuna'\n",
    "email = 'yuna@gmail.com'\n",
    "address = 'busan'\n",
    "\n",
    "def b_card(name, email, address):\n",
    "    print('*'*30)\n",
    "    print('Name : {}'.format(name))\n",
    "    print('E-mail : {}'.format(email))\n",
    "    print('Address : {}'.format(address))\n",
    "    print('*'*30)"
   ]
  },
  {
   "cell_type": "code",
   "execution_count": 9,
   "metadata": {},
   "outputs": [
    {
     "name": "stdout",
     "output_type": "stream",
     "text": [
      "******************************\n",
      "Name : yuna\n",
      "E-mail : yuna@gmail.com\n",
      "Address : busan\n",
      "******************************\n"
     ]
    }
   ],
   "source": [
    "b_card(name, email, address)"
   ]
  },
  {
   "cell_type": "code",
   "execution_count": 10,
   "metadata": {},
   "outputs": [],
   "source": [
    "def detail_info(job, age, phone):\n",
    "    print('*'*30)\n",
    "    print('Job : {}'.format(job))\n",
    "    print('Age : {}'.format(Age))\n",
    "    print('Phone : {}'.format(Phone))\n",
    "    print('*'*30)"
   ]
  },
  {
   "cell_type": "code",
   "execution_count": 11,
   "metadata": {},
   "outputs": [
    {
     "name": "stdout",
     "output_type": "stream",
     "text": [
      "******************************\n",
      "Job : engineer\n",
      "Age : 31\n",
      "Phone : 010-9999-9999\n",
      "******************************\n"
     ]
    }
   ],
   "source": [
    "job = 'engineer'\n",
    "Age = 31\n",
    "Phone = '010-9999-9999'\n",
    "\n",
    "detail_info(job, Age, Phone)"
   ]
  },
  {
   "cell_type": "code",
   "execution_count": 27,
   "metadata": {},
   "outputs": [],
   "source": [
    "# 클래스 생성\n",
    "\n",
    "class biz_card:\n",
    "    \n",
    "    name = 'nayeon'\n",
    "    email = ' nayeon@gmail.com'\n",
    "    address = 'seoul'\n",
    "    \n",
    "    job = 'singer'\n",
    "    age = 25\n",
    "    phone = '9999-9999'\n",
    "    \n",
    "    def b_card(self):\n",
    "        print('*'*30)\n",
    "        print('Name : {}'.format(b_card.name))\n",
    "        print('E-mail : {}'.format(b_card.email))\n",
    "        print('Address : {}'.format(b_card.address))\n",
    "        print('*'*30)\n",
    "    \n",
    "    def detail_info(self):\n",
    "        print('*'*30)\n",
    "        print('Job : {}'.format(b_card.job))\n",
    "        print('Age : {}'.format(b_card.age))\n",
    "        print('Phone : {}'.format(b_card.phone))\n",
    "        print('*'*30)"
   ]
  },
  {
   "cell_type": "code",
   "execution_count": 18,
   "metadata": {},
   "outputs": [],
   "source": [
    "# 클래스 사용 => 클래스를 복사 (=인스턴스 생성)"
   ]
  },
  {
   "cell_type": "code",
   "execution_count": 29,
   "metadata": {},
   "outputs": [],
   "source": [
    "biz = biz_card()"
   ]
  },
  {
   "cell_type": "code",
   "execution_count": 23,
   "metadata": {},
   "outputs": [
    {
     "name": "stdout",
     "output_type": "stream",
     "text": [
      "******************************\n",
      "Name : nayeon\n",
      "E-mail :  nayeon@gmail.com\n",
      "Address : seoul\n",
      "******************************\n"
     ]
    }
   ],
   "source": [
    "biz.b_card()"
   ]
  },
  {
   "cell_type": "code",
   "execution_count": 30,
   "metadata": {},
   "outputs": [
    {
     "name": "stdout",
     "output_type": "stream",
     "text": [
      "******************************\n",
      "Job : singer\n",
      "Age : 25\n",
      "Phone : 9999-9999\n",
      "******************************\n"
     ]
    }
   ],
   "source": [
    "biz.detail_info()"
   ]
  },
  {
   "cell_type": "code",
   "execution_count": 31,
   "metadata": {},
   "outputs": [
    {
     "data": {
      "text/plain": [
       "'nayeon'"
      ]
     },
     "execution_count": 31,
     "metadata": {},
     "output_type": "execute_result"
    }
   ],
   "source": [
    "biz.name"
   ]
  },
  {
   "cell_type": "code",
   "execution_count": 37,
   "metadata": {},
   "outputs": [],
   "source": [
    "biz_c=biz_card()"
   ]
  },
  {
   "cell_type": "code",
   "execution_count": 39,
   "metadata": {},
   "outputs": [
    {
     "name": "stdout",
     "output_type": "stream",
     "text": [
      "******************************\n",
      "Name : nayeon\n",
      "E-mail :  nayeon@gmail.com\n",
      "Address : seoul\n",
      "******************************\n"
     ]
    }
   ],
   "source": [
    "biz_c.b_card()"
   ]
  },
  {
   "cell_type": "code",
   "execution_count": null,
   "metadata": {},
   "outputs": [],
   "source": []
  },
  {
   "cell_type": "code",
   "execution_count": 40,
   "metadata": {},
   "outputs": [],
   "source": [
    "# 클래스 생성\n",
    "\n",
    "class biz_card:\n",
    "    \n",
    "    def set_info(self, name, email, address,job,age,phone):\n",
    "        self.name = name\n",
    "        self.email = email\n",
    "        self.address = address\n",
    "    \n",
    "        self.job = job\n",
    "        self.age = age\n",
    "        self.phone = phone\n",
    "    \n",
    "    def b_card(self):\n",
    "        print('*'*30)\n",
    "        print('Name : {}'.format(self.name))\n",
    "        print('E-mail : {}'.format(self.email))\n",
    "        print('Address : {}'.format(self.address))\n",
    "        print('*'*30)\n",
    "    \n",
    "    def detail_info(self):\n",
    "        print('*'*30)\n",
    "        print('Job : {}'.format(self.job))\n",
    "        print('Age : {}'.format(self.age))\n",
    "        print('Phone : {}'.format(self.phone))\n",
    "        print('*'*30)"
   ]
  },
  {
   "cell_type": "code",
   "execution_count": 41,
   "metadata": {},
   "outputs": [],
   "source": [
    "biz = biz_card()"
   ]
  },
  {
   "cell_type": "code",
   "execution_count": 43,
   "metadata": {},
   "outputs": [],
   "source": [
    "biz.set_info('정연', 'jungyeon@gmail.com', 'seoul', 'singer', '26', '8888-8888')"
   ]
  },
  {
   "cell_type": "code",
   "execution_count": 44,
   "metadata": {},
   "outputs": [
    {
     "name": "stdout",
     "output_type": "stream",
     "text": [
      "******************************\n",
      "Name : 정연\n",
      "E-mail : jungyeon@gmail.com\n",
      "Address : seoul\n",
      "******************************\n"
     ]
    }
   ],
   "source": [
    "biz.b_card()"
   ]
  },
  {
   "cell_type": "code",
   "execution_count": 45,
   "metadata": {},
   "outputs": [
    {
     "name": "stdout",
     "output_type": "stream",
     "text": [
      "******************************\n",
      "Job : singer\n",
      "Age : 26\n",
      "Phone : 8888-8888\n",
      "******************************\n"
     ]
    }
   ],
   "source": [
    "biz.detail_info()"
   ]
  },
  {
   "cell_type": "code",
   "execution_count": 46,
   "metadata": {},
   "outputs": [],
   "source": [
    "biz1 = biz_card()"
   ]
  },
  {
   "cell_type": "code",
   "execution_count": 47,
   "metadata": {},
   "outputs": [],
   "source": [
    "biz1.set_info('사나', 'sana@gmail.com', 'seoul', 'singer', '26', '7777-7777')"
   ]
  },
  {
   "cell_type": "code",
   "execution_count": 48,
   "metadata": {},
   "outputs": [
    {
     "name": "stdout",
     "output_type": "stream",
     "text": [
      "******************************\n",
      "Name : 사나\n",
      "E-mail : sana@gmail.com\n",
      "Address : seoul\n",
      "******************************\n"
     ]
    }
   ],
   "source": [
    "biz1.b_card()"
   ]
  },
  {
   "cell_type": "code",
   "execution_count": 49,
   "metadata": {},
   "outputs": [
    {
     "name": "stdout",
     "output_type": "stream",
     "text": [
      "******************************\n",
      "Job : singer\n",
      "Age : 26\n",
      "Phone : 7777-7777\n",
      "******************************\n"
     ]
    }
   ],
   "source": [
    "biz1.detail_info()"
   ]
  },
  {
   "cell_type": "code",
   "execution_count": 50,
   "metadata": {},
   "outputs": [],
   "source": [
    "biz2 = biz_card() # 인스턴스 생성 = 클래스를 복사"
   ]
  },
  {
   "cell_type": "code",
   "execution_count": 51,
   "metadata": {},
   "outputs": [
    {
     "name": "stdout",
     "output_type": "stream",
     "text": [
      "******************************\n"
     ]
    },
    {
     "ename": "AttributeError",
     "evalue": "'biz_card' object has no attribute 'name'",
     "output_type": "error",
     "traceback": [
      "\u001b[1;31m---------------------------------------------------------------------------\u001b[0m",
      "\u001b[1;31mAttributeError\u001b[0m                            Traceback (most recent call last)",
      "\u001b[1;32m<ipython-input-51-3974368c34b2>\u001b[0m in \u001b[0;36m<module>\u001b[1;34m\u001b[0m\n\u001b[1;32m----> 1\u001b[1;33m \u001b[0mbiz2\u001b[0m\u001b[1;33m.\u001b[0m\u001b[0mb_card\u001b[0m\u001b[1;33m(\u001b[0m\u001b[1;33m)\u001b[0m\u001b[1;33m\u001b[0m\u001b[1;33m\u001b[0m\u001b[0m\n\u001b[0m",
      "\u001b[1;32m<ipython-input-40-ff37ceabe891>\u001b[0m in \u001b[0;36mb_card\u001b[1;34m(self)\u001b[0m\n\u001b[0;32m     14\u001b[0m     \u001b[1;32mdef\u001b[0m \u001b[0mb_card\u001b[0m\u001b[1;33m(\u001b[0m\u001b[0mself\u001b[0m\u001b[1;33m)\u001b[0m\u001b[1;33m:\u001b[0m\u001b[1;33m\u001b[0m\u001b[1;33m\u001b[0m\u001b[0m\n\u001b[0;32m     15\u001b[0m         \u001b[0mprint\u001b[0m\u001b[1;33m(\u001b[0m\u001b[1;34m'*'\u001b[0m\u001b[1;33m*\u001b[0m\u001b[1;36m30\u001b[0m\u001b[1;33m)\u001b[0m\u001b[1;33m\u001b[0m\u001b[1;33m\u001b[0m\u001b[0m\n\u001b[1;32m---> 16\u001b[1;33m         \u001b[0mprint\u001b[0m\u001b[1;33m(\u001b[0m\u001b[1;34m'Name : {}'\u001b[0m\u001b[1;33m.\u001b[0m\u001b[0mformat\u001b[0m\u001b[1;33m(\u001b[0m\u001b[0mself\u001b[0m\u001b[1;33m.\u001b[0m\u001b[0mname\u001b[0m\u001b[1;33m)\u001b[0m\u001b[1;33m)\u001b[0m\u001b[1;33m\u001b[0m\u001b[1;33m\u001b[0m\u001b[0m\n\u001b[0m\u001b[0;32m     17\u001b[0m         \u001b[0mprint\u001b[0m\u001b[1;33m(\u001b[0m\u001b[1;34m'E-mail : {}'\u001b[0m\u001b[1;33m.\u001b[0m\u001b[0mformat\u001b[0m\u001b[1;33m(\u001b[0m\u001b[0mself\u001b[0m\u001b[1;33m.\u001b[0m\u001b[0memail\u001b[0m\u001b[1;33m)\u001b[0m\u001b[1;33m)\u001b[0m\u001b[1;33m\u001b[0m\u001b[1;33m\u001b[0m\u001b[0m\n\u001b[0;32m     18\u001b[0m         \u001b[0mprint\u001b[0m\u001b[1;33m(\u001b[0m\u001b[1;34m'Address : {}'\u001b[0m\u001b[1;33m.\u001b[0m\u001b[0mformat\u001b[0m\u001b[1;33m(\u001b[0m\u001b[0mself\u001b[0m\u001b[1;33m.\u001b[0m\u001b[0maddress\u001b[0m\u001b[1;33m)\u001b[0m\u001b[1;33m)\u001b[0m\u001b[1;33m\u001b[0m\u001b[1;33m\u001b[0m\u001b[0m\n",
      "\u001b[1;31mAttributeError\u001b[0m: 'biz_card' object has no attribute 'name'"
     ]
    }
   ],
   "source": [
    "biz2.b_card() # 클래스 내에 변수에 값을 입력하지 않고 출력해서 에러 발생\n",
    "#클래스 구조는 반드시 set_info()로 변수값을 입력 후 다른 메소드 호출 가능"
   ]
  },
  {
   "cell_type": "code",
   "execution_count": null,
   "metadata": {},
   "outputs": [],
   "source": []
  },
  {
   "cell_type": "code",
   "execution_count": 53,
   "metadata": {},
   "outputs": [],
   "source": [
    "# 클래스 생성\n",
    "\n",
    "class bizcard:\n",
    "    \n",
    "    def __init__(self, name, email, address,job,age,phone):\n",
    "        '''\n",
    "        생성자 함수\n",
    "        클래스가 복사되어 인스턴스가 생성될 때 무조건 실행되는 함수\n",
    "        '''\n",
    "        self.name = name\n",
    "        self.email = email\n",
    "        self.address = address\n",
    "    \n",
    "        self.job = job\n",
    "        self.age = age\n",
    "        self.phone = phone\n",
    "    \n",
    "    def b_card(self):\n",
    "        print('*'*30)\n",
    "        print('Name : {}'.format(self.name))\n",
    "        print('E-mail : {}'.format(self.email))\n",
    "        print('Address : {}'.format(self.address))\n",
    "        print('*'*30)\n",
    "    \n",
    "    def detail_info(self):\n",
    "        print('*'*30)\n",
    "        print('Job : {}'.format(self.job))\n",
    "        print('Age : {}'.format(self.age))\n",
    "        print('Phone : {}'.format(self.phone))\n",
    "        print('*'*30)"
   ]
  },
  {
   "cell_type": "code",
   "execution_count": 54,
   "metadata": {},
   "outputs": [
    {
     "ename": "TypeError",
     "evalue": "__init__() missing 6 required positional arguments: 'name', 'email', 'address', 'job', 'age', and 'phone'",
     "output_type": "error",
     "traceback": [
      "\u001b[1;31m---------------------------------------------------------------------------\u001b[0m",
      "\u001b[1;31mTypeError\u001b[0m                                 Traceback (most recent call last)",
      "\u001b[1;32m<ipython-input-54-febeff6cb484>\u001b[0m in \u001b[0;36m<module>\u001b[1;34m\u001b[0m\n\u001b[1;32m----> 1\u001b[1;33m \u001b[0mbiz\u001b[0m \u001b[1;33m=\u001b[0m \u001b[0mbizcard\u001b[0m\u001b[1;33m(\u001b[0m\u001b[1;33m)\u001b[0m \u001b[1;31m# init() 함수가 실행되면서 6개 매개변수를 필요로 함\u001b[0m\u001b[1;33m\u001b[0m\u001b[1;33m\u001b[0m\u001b[0m\n\u001b[0m",
      "\u001b[1;31mTypeError\u001b[0m: __init__() missing 6 required positional arguments: 'name', 'email', 'address', 'job', 'age', and 'phone'"
     ]
    }
   ],
   "source": [
    "biz = bizcard() # init() 함수가 실행되면서 6개 매개변수를 필요로 함"
   ]
  },
  {
   "cell_type": "code",
   "execution_count": 57,
   "metadata": {},
   "outputs": [],
   "source": [
    "# 인스턴스 생성하면서 동시 init() 함수가 실행됨\n",
    "# init함수가 필요로하는 매개변수 동시 전달\n",
    "biz=bizcard('쯔위', '쯔위@gmail.com', '태국', '가수', 24, '6666-6666')"
   ]
  },
  {
   "cell_type": "code",
   "execution_count": 56,
   "metadata": {},
   "outputs": [
    {
     "name": "stdout",
     "output_type": "stream",
     "text": [
      "******************************\n",
      "Name : 쯔위\n",
      "E-mail : 쯔위@gmail.com\n",
      "Address : 태국\n",
      "******************************\n"
     ]
    }
   ],
   "source": [
    "biz.b_card()"
   ]
  },
  {
   "cell_type": "code",
   "execution_count": 58,
   "metadata": {},
   "outputs": [
    {
     "name": "stdout",
     "output_type": "stream",
     "text": [
      "******************************\n",
      "Job : 가수\n",
      "Age : 24\n",
      "Phone : 6666-6666\n",
      "******************************\n"
     ]
    }
   ],
   "source": [
    "biz.detail_info()"
   ]
  },
  {
   "cell_type": "code",
   "execution_count": 59,
   "metadata": {},
   "outputs": [
    {
     "name": "stdout",
     "output_type": "stream",
     "text": [
      "******************************\n"
     ]
    },
    {
     "ename": "AttributeError",
     "evalue": "'biz_card' object has no attribute 'name'",
     "output_type": "error",
     "traceback": [
      "\u001b[1;31m---------------------------------------------------------------------------\u001b[0m",
      "\u001b[1;31mAttributeError\u001b[0m                            Traceback (most recent call last)",
      "\u001b[1;32m<ipython-input-59-3974368c34b2>\u001b[0m in \u001b[0;36m<module>\u001b[1;34m\u001b[0m\n\u001b[1;32m----> 1\u001b[1;33m \u001b[0mbiz2\u001b[0m\u001b[1;33m.\u001b[0m\u001b[0mb_card\u001b[0m\u001b[1;33m(\u001b[0m\u001b[1;33m)\u001b[0m\u001b[1;33m\u001b[0m\u001b[1;33m\u001b[0m\u001b[0m\n\u001b[0m",
      "\u001b[1;32m<ipython-input-40-ff37ceabe891>\u001b[0m in \u001b[0;36mb_card\u001b[1;34m(self)\u001b[0m\n\u001b[0;32m     14\u001b[0m     \u001b[1;32mdef\u001b[0m \u001b[0mb_card\u001b[0m\u001b[1;33m(\u001b[0m\u001b[0mself\u001b[0m\u001b[1;33m)\u001b[0m\u001b[1;33m:\u001b[0m\u001b[1;33m\u001b[0m\u001b[1;33m\u001b[0m\u001b[0m\n\u001b[0;32m     15\u001b[0m         \u001b[0mprint\u001b[0m\u001b[1;33m(\u001b[0m\u001b[1;34m'*'\u001b[0m\u001b[1;33m*\u001b[0m\u001b[1;36m30\u001b[0m\u001b[1;33m)\u001b[0m\u001b[1;33m\u001b[0m\u001b[1;33m\u001b[0m\u001b[0m\n\u001b[1;32m---> 16\u001b[1;33m         \u001b[0mprint\u001b[0m\u001b[1;33m(\u001b[0m\u001b[1;34m'Name : {}'\u001b[0m\u001b[1;33m.\u001b[0m\u001b[0mformat\u001b[0m\u001b[1;33m(\u001b[0m\u001b[0mself\u001b[0m\u001b[1;33m.\u001b[0m\u001b[0mname\u001b[0m\u001b[1;33m)\u001b[0m\u001b[1;33m)\u001b[0m\u001b[1;33m\u001b[0m\u001b[1;33m\u001b[0m\u001b[0m\n\u001b[0m\u001b[0;32m     17\u001b[0m         \u001b[0mprint\u001b[0m\u001b[1;33m(\u001b[0m\u001b[1;34m'E-mail : {}'\u001b[0m\u001b[1;33m.\u001b[0m\u001b[0mformat\u001b[0m\u001b[1;33m(\u001b[0m\u001b[0mself\u001b[0m\u001b[1;33m.\u001b[0m\u001b[0memail\u001b[0m\u001b[1;33m)\u001b[0m\u001b[1;33m)\u001b[0m\u001b[1;33m\u001b[0m\u001b[1;33m\u001b[0m\u001b[0m\n\u001b[0;32m     18\u001b[0m         \u001b[0mprint\u001b[0m\u001b[1;33m(\u001b[0m\u001b[1;34m'Address : {}'\u001b[0m\u001b[1;33m.\u001b[0m\u001b[0mformat\u001b[0m\u001b[1;33m(\u001b[0m\u001b[0mself\u001b[0m\u001b[1;33m.\u001b[0m\u001b[0maddress\u001b[0m\u001b[1;33m)\u001b[0m\u001b[1;33m)\u001b[0m\u001b[1;33m\u001b[0m\u001b[1;33m\u001b[0m\u001b[0m\n",
      "\u001b[1;31mAttributeError\u001b[0m: 'biz_card' object has no attribute 'name'"
     ]
    }
   ],
   "source": [
    "biz2.b_card()"
   ]
  },
  {
   "cell_type": "code",
   "execution_count": 60,
   "metadata": {},
   "outputs": [
    {
     "name": "stdout",
     "output_type": "stream",
     "text": [
      "******************************\n",
      "Name : 사나\n",
      "E-mail : sana@gmail.com\n",
      "Address : seoul\n",
      "******************************\n"
     ]
    }
   ],
   "source": [
    "biz1.b_card()"
   ]
  },
  {
   "cell_type": "code",
   "execution_count": 61,
   "metadata": {},
   "outputs": [
    {
     "name": "stdout",
     "output_type": "stream",
     "text": [
      "******************************\n",
      "Job : singer\n",
      "Age : 26\n",
      "Phone : 7777-7777\n",
      "******************************\n"
     ]
    }
   ],
   "source": [
    "biz1.detail_info()"
   ]
  },
  {
   "cell_type": "code",
   "execution_count": 62,
   "metadata": {},
   "outputs": [
    {
     "data": {
      "text/plain": [
       "'쯔위'"
      ]
     },
     "execution_count": 62,
     "metadata": {},
     "output_type": "execute_result"
    }
   ],
   "source": [
    "biz.name"
   ]
  },
  {
   "cell_type": "code",
   "execution_count": null,
   "metadata": {},
   "outputs": [],
   "source": []
  },
  {
   "cell_type": "code",
   "execution_count": 63,
   "metadata": {},
   "outputs": [],
   "source": [
    "# class : 원의 면적과 원의 둘레길이를 계산하는 메서드(함수)를 가진 class\n",
    "# 메서드(함수) : 원의 면적 계산 함수, 원의 둘레길이를 계산하는 함수\n",
    "# 속성(변수) : 반지름, pi(3.14)\n",
    "클래스 변수(인스턴스간 공유)와 인스턴스 변수(개별 인스턴스가 구별 self.)"
   ]
  },
  {
   "cell_type": "code",
   "execution_count": 64,
   "metadata": {},
   "outputs": [],
   "source": [
    "class circle:\n",
    "    pi = 3.14 #클래스 변수 - 모든 인스턴스에서 공유되는 변수\n",
    "                #클래스명으로 접근하는게 원칙, self로도 접근 가능\n",
    "    \n",
    "    def __init__(self, radius): # 생성자 함수\n",
    "        self.radius=radius #self가 붙은 건 인스턴스 변수 각각의 인스턴스내에서 공유되는 변수\n",
    "    \n",
    "    # self - 각각의 인스턴스의 메모리 주소를 가르킨다.\n",
    "    \n",
    "    def circle_area(self):\n",
    "        return (self.radius**2)*(circle.pi)\n",
    "    \n",
    "    def circle_perimeter(self):\n",
    "        return (self.radius*2)*self.pi\n",
    "    "
   ]
  },
  {
   "cell_type": "code",
   "execution_count": 66,
   "metadata": {},
   "outputs": [
    {
     "ename": "TypeError",
     "evalue": "__init__() missing 1 required positional argument: 'radius'",
     "output_type": "error",
     "traceback": [
      "\u001b[1;31m---------------------------------------------------------------------------\u001b[0m",
      "\u001b[1;31mTypeError\u001b[0m                                 Traceback (most recent call last)",
      "\u001b[1;32m<ipython-input-66-5fa183295b70>\u001b[0m in \u001b[0;36m<module>\u001b[1;34m\u001b[0m\n\u001b[1;32m----> 1\u001b[1;33m \u001b[0mcir\u001b[0m \u001b[1;33m=\u001b[0m \u001b[0mcircle\u001b[0m\u001b[1;33m(\u001b[0m\u001b[1;33m)\u001b[0m \u001b[1;31m# 클래스 복사 = 인스턴스 생성, init함수때문에 반지름 값 입력해야 함\u001b[0m\u001b[1;33m\u001b[0m\u001b[1;33m\u001b[0m\u001b[0m\n\u001b[0m",
      "\u001b[1;31mTypeError\u001b[0m: __init__() missing 1 required positional argument: 'radius'"
     ]
    }
   ],
   "source": [
    "cir = circle() # 클래스 복사 = 인스턴스 생성, init함수때문에 반지름 값 입력해야 함"
   ]
  },
  {
   "cell_type": "code",
   "execution_count": 67,
   "metadata": {},
   "outputs": [],
   "source": [
    "cir=circle(3)"
   ]
  },
  {
   "cell_type": "code",
   "execution_count": 68,
   "metadata": {},
   "outputs": [
    {
     "data": {
      "text/plain": [
       "18.84"
      ]
     },
     "execution_count": 68,
     "metadata": {},
     "output_type": "execute_result"
    }
   ],
   "source": [
    "cir.circle_perimeter()"
   ]
  },
  {
   "cell_type": "code",
   "execution_count": 69,
   "metadata": {},
   "outputs": [
    {
     "data": {
      "text/plain": [
       "28.26"
      ]
     },
     "execution_count": 69,
     "metadata": {},
     "output_type": "execute_result"
    }
   ],
   "source": [
    "cir.circle_area()"
   ]
  },
  {
   "cell_type": "code",
   "execution_count": 70,
   "metadata": {},
   "outputs": [],
   "source": [
    "cir1 = circle(5)"
   ]
  },
  {
   "cell_type": "code",
   "execution_count": 72,
   "metadata": {},
   "outputs": [
    {
     "data": {
      "text/plain": [
       "78.5"
      ]
     },
     "execution_count": 72,
     "metadata": {},
     "output_type": "execute_result"
    }
   ],
   "source": [
    "cir1.circle_area()"
   ]
  },
  {
   "cell_type": "code",
   "execution_count": 73,
   "metadata": {},
   "outputs": [
    {
     "data": {
      "text/plain": [
       "31.400000000000002"
      ]
     },
     "execution_count": 73,
     "metadata": {},
     "output_type": "execute_result"
    }
   ],
   "source": [
    "cir1.circle_perimeter()"
   ]
  },
  {
   "cell_type": "code",
   "execution_count": 74,
   "metadata": {},
   "outputs": [],
   "source": [
    "cir2 = circle(7)"
   ]
  },
  {
   "cell_type": "code",
   "execution_count": 75,
   "metadata": {},
   "outputs": [
    {
     "data": {
      "text/plain": [
       "153.86"
      ]
     },
     "execution_count": 75,
     "metadata": {},
     "output_type": "execute_result"
    }
   ],
   "source": [
    "cir2.circle_area()"
   ]
  },
  {
   "cell_type": "code",
   "execution_count": 76,
   "metadata": {},
   "outputs": [
    {
     "data": {
      "text/plain": [
       "43.96"
      ]
     },
     "execution_count": 76,
     "metadata": {},
     "output_type": "execute_result"
    }
   ],
   "source": [
    "cir2.circle_perimeter()"
   ]
  },
  {
   "cell_type": "code",
   "execution_count": 77,
   "metadata": {},
   "outputs": [
    {
     "data": {
      "text/plain": [
       "3.14"
      ]
     },
     "execution_count": 77,
     "metadata": {},
     "output_type": "execute_result"
    }
   ],
   "source": [
    "cir.pi"
   ]
  },
  {
   "cell_type": "code",
   "execution_count": 78,
   "metadata": {},
   "outputs": [
    {
     "data": {
      "text/plain": [
       "3.14"
      ]
     },
     "execution_count": 78,
     "metadata": {},
     "output_type": "execute_result"
    }
   ],
   "source": [
    "cir1.pi"
   ]
  },
  {
   "cell_type": "code",
   "execution_count": 79,
   "metadata": {},
   "outputs": [
    {
     "data": {
      "text/plain": [
       "3.14"
      ]
     },
     "execution_count": 79,
     "metadata": {},
     "output_type": "execute_result"
    }
   ],
   "source": [
    "cir2.pi"
   ]
  },
  {
   "cell_type": "code",
   "execution_count": 80,
   "metadata": {},
   "outputs": [
    {
     "name": "stdout",
     "output_type": "stream",
     "text": [
      "3\n",
      "5\n",
      "7\n"
     ]
    }
   ],
   "source": [
    "print(cir.radius)\n",
    "print(cir1.radius)\n",
    "print(cir2.radius)"
   ]
  },
  {
   "cell_type": "code",
   "execution_count": null,
   "metadata": {},
   "outputs": [],
   "source": []
  },
  {
   "cell_type": "code",
   "execution_count": 81,
   "metadata": {},
   "outputs": [],
   "source": [
    "# 상속"
   ]
  },
  {
   "cell_type": "code",
   "execution_count": 82,
   "metadata": {},
   "outputs": [],
   "source": [
    "class parent:\n",
    "    def can_sing(self):\n",
    "        print('sing a song')"
   ]
  },
  {
   "cell_type": "code",
   "execution_count": 83,
   "metadata": {},
   "outputs": [
    {
     "name": "stdout",
     "output_type": "stream",
     "text": [
      "sing a song\n"
     ]
    }
   ],
   "source": [
    "a = parent()\n",
    "a.can_sing()"
   ]
  },
  {
   "cell_type": "code",
   "execution_count": 84,
   "metadata": {},
   "outputs": [
    {
     "name": "stdout",
     "output_type": "stream",
     "text": [
      "sing a song\n"
     ]
    }
   ],
   "source": [
    "b = parent()\n",
    "b.can_sing()"
   ]
  },
  {
   "cell_type": "code",
   "execution_count": 88,
   "metadata": {},
   "outputs": [],
   "source": [
    "class child(parent): #parent 클래스를 상속\n",
    "    pass"
   ]
  },
  {
   "cell_type": "code",
   "execution_count": 86,
   "metadata": {},
   "outputs": [],
   "source": [
    "ch1 = child()"
   ]
  },
  {
   "cell_type": "code",
   "execution_count": 87,
   "metadata": {},
   "outputs": [
    {
     "name": "stdout",
     "output_type": "stream",
     "text": [
      "sing a song\n"
     ]
    }
   ],
   "source": [
    "ch1.can_sing()"
   ]
  },
  {
   "cell_type": "code",
   "execution_count": 89,
   "metadata": {},
   "outputs": [],
   "source": [
    "class child1(parent):\n",
    "    def can_dance(self):\n",
    "        print('can dance')"
   ]
  },
  {
   "cell_type": "code",
   "execution_count": 90,
   "metadata": {},
   "outputs": [],
   "source": [
    "ch2 = child1()"
   ]
  },
  {
   "cell_type": "code",
   "execution_count": 91,
   "metadata": {},
   "outputs": [
    {
     "name": "stdout",
     "output_type": "stream",
     "text": [
      "sing a song\n"
     ]
    }
   ],
   "source": [
    "ch2.can_sing()"
   ]
  },
  {
   "cell_type": "code",
   "execution_count": 92,
   "metadata": {},
   "outputs": [
    {
     "name": "stdout",
     "output_type": "stream",
     "text": [
      "can dance\n"
     ]
    }
   ],
   "source": [
    "ch2.can_dance()"
   ]
  },
  {
   "cell_type": "code",
   "execution_count": null,
   "metadata": {},
   "outputs": [],
   "source": []
  },
  {
   "cell_type": "code",
   "execution_count": 93,
   "metadata": {},
   "outputs": [],
   "source": [
    "# class\n",
    "# 임의의 정수 2개를 인스턴스 변수로 가지고\n",
    "# 4칙연산 메소드 4개를 가진 클래스를 만드시오"
   ]
  },
  {
   "cell_type": "code",
   "execution_count": 105,
   "metadata": {},
   "outputs": [],
   "source": [
    "class calcu:\n",
    "    \n",
    "    def __init__(self, a,b):\n",
    "        self.a = a\n",
    "        self.b = b\n",
    "    \n",
    "    def plus(self):\n",
    "        result = self.a+self.b\n",
    "        return result\n",
    "    \n",
    "    def minus(self):\n",
    "        result = self.a-self.b\n",
    "        return result\n",
    "    \n",
    "    def multiple(self):\n",
    "        result = self.a*self.b\n",
    "        return result\n",
    "    \n",
    "    def divide(self):\n",
    "        result = self.a/self.b\n",
    "        return result"
   ]
  },
  {
   "cell_type": "code",
   "execution_count": 106,
   "metadata": {},
   "outputs": [],
   "source": [
    "banana=calcu(2,3)"
   ]
  },
  {
   "cell_type": "code",
   "execution_count": 107,
   "metadata": {},
   "outputs": [
    {
     "name": "stdout",
     "output_type": "stream",
     "text": [
      "5\n",
      "-1\n",
      "6\n",
      "0.6666666666666666\n"
     ]
    }
   ],
   "source": [
    "print(banana.plus())\n",
    "print(banana.minus())\n",
    "print(banana.multiple())\n",
    "print(banana.divide())"
   ]
  },
  {
   "cell_type": "code",
   "execution_count": 108,
   "metadata": {},
   "outputs": [],
   "source": [
    "banana1=calcu(10,5)"
   ]
  },
  {
   "cell_type": "code",
   "execution_count": 109,
   "metadata": {},
   "outputs": [
    {
     "name": "stdout",
     "output_type": "stream",
     "text": [
      "15\n",
      "5\n",
      "50\n",
      "2.0\n"
     ]
    }
   ],
   "source": [
    "print(banana1.plus())\n",
    "print(banana1.minus())\n",
    "print(banana1.multiple())\n",
    "print(banana1.divide())"
   ]
  },
  {
   "cell_type": "code",
   "execution_count": null,
   "metadata": {},
   "outputs": [],
   "source": []
  },
  {
   "cell_type": "code",
   "execution_count": 114,
   "metadata": {},
   "outputs": [],
   "source": [
    "class calcu1(calcu):\n",
    "    def pow(self):\n",
    "        result = self.a**self.b\n",
    "        return result"
   ]
  },
  {
   "cell_type": "code",
   "execution_count": 115,
   "metadata": {},
   "outputs": [],
   "source": [
    "cal1=calcu1(15,5)"
   ]
  },
  {
   "cell_type": "code",
   "execution_count": 116,
   "metadata": {},
   "outputs": [
    {
     "name": "stdout",
     "output_type": "stream",
     "text": [
      "20\n",
      "10\n",
      "75\n",
      "3.0\n",
      "759375\n"
     ]
    }
   ],
   "source": [
    "print(cal1.plus())\n",
    "print(cal1.minus())\n",
    "print(cal1.multiple())\n",
    "print(cal1.divide())\n",
    "print(cal1.pow())"
   ]
  },
  {
   "cell_type": "code",
   "execution_count": 120,
   "metadata": {},
   "outputs": [],
   "source": [
    "class safecalcu(calcu1): # 상속을 받으면서 기존 메소드를 수정 => 오버라이드\n",
    "    def divide(self):\n",
    "        if self.b==0:\n",
    "            return 0\n",
    "        else:\n",
    "            return self.x/self.y"
   ]
  },
  {
   "cell_type": "code",
   "execution_count": 121,
   "metadata": {},
   "outputs": [],
   "source": [
    "cal3 = safecalcu(2,0)"
   ]
  },
  {
   "cell_type": "code",
   "execution_count": 122,
   "metadata": {},
   "outputs": [
    {
     "name": "stdout",
     "output_type": "stream",
     "text": [
      "2\n",
      "2\n",
      "0\n",
      "0\n",
      "1\n"
     ]
    }
   ],
   "source": [
    "print(cal3.plus())\n",
    "print(cal3.minus())\n",
    "print(cal3.multiple())\n",
    "print(cal3.divide())\n",
    "print(cal3.pow())"
   ]
  },
  {
   "cell_type": "code",
   "execution_count": null,
   "metadata": {},
   "outputs": [],
   "source": []
  },
  {
   "cell_type": "code",
   "execution_count": 131,
   "metadata": {},
   "outputs": [],
   "source": [
    "class sam:\n",
    "    data = 'python' # 클래스 변수\n",
    "    \n",
    "    def __init__(self):\n",
    "        self.data = 'korea' # 인스턴스 변수\n",
    "        \n",
    "    def instance_method(self): # 매개변수 self를 가지는 메소드\n",
    "        print('instance method: ', self.data)\n",
    "        \n",
    "    @classmethod\n",
    "    def class_method(cls): # 매개변수 cls를 가지고 @classmethod= > 클래스메소드\n",
    "        print('class method: ', cls.data)\n",
    "        \n",
    "    @staticmethod\n",
    "    def static_method(): # 매개변수 self나 cls를 가지지 않는 스태틱메소드\n",
    "        print('static method: ', sam.data)"
   ]
  },
  {
   "cell_type": "code",
   "execution_count": 132,
   "metadata": {},
   "outputs": [],
   "source": [
    "s = sam()"
   ]
  },
  {
   "cell_type": "code",
   "execution_count": 133,
   "metadata": {},
   "outputs": [
    {
     "name": "stdout",
     "output_type": "stream",
     "text": [
      "instance method:  korea\n"
     ]
    }
   ],
   "source": [
    "s.instance_method()"
   ]
  },
  {
   "cell_type": "code",
   "execution_count": 135,
   "metadata": {},
   "outputs": [
    {
     "name": "stdout",
     "output_type": "stream",
     "text": [
      "class method:  python\n"
     ]
    }
   ],
   "source": [
    "s.class_method() # 클래스메소드 : 인스턴스로 접근이 가능"
   ]
  },
  {
   "cell_type": "code",
   "execution_count": 137,
   "metadata": {},
   "outputs": [
    {
     "name": "stdout",
     "output_type": "stream",
     "text": [
      "class method:  python\n"
     ]
    }
   ],
   "source": [
    "sam.class_method() # 클래스메소드 : 클래스명으로도 접근이 가능"
   ]
  },
  {
   "cell_type": "code",
   "execution_count": 139,
   "metadata": {},
   "outputs": [
    {
     "ename": "TypeError",
     "evalue": "instance_method() missing 1 required positional argument: 'self'",
     "output_type": "error",
     "traceback": [
      "\u001b[1;31m---------------------------------------------------------------------------\u001b[0m",
      "\u001b[1;31mTypeError\u001b[0m                                 Traceback (most recent call last)",
      "\u001b[1;32m<ipython-input-139-175bb0101433>\u001b[0m in \u001b[0;36m<module>\u001b[1;34m\u001b[0m\n\u001b[1;32m----> 1\u001b[1;33m \u001b[0msam\u001b[0m\u001b[1;33m.\u001b[0m\u001b[0minstance_method\u001b[0m\u001b[1;33m(\u001b[0m\u001b[1;33m)\u001b[0m \u001b[1;31m# 인스턴스로만 접근이 가능\u001b[0m\u001b[1;33m\u001b[0m\u001b[1;33m\u001b[0m\u001b[0m\n\u001b[0m",
      "\u001b[1;31mTypeError\u001b[0m: instance_method() missing 1 required positional argument: 'self'"
     ]
    }
   ],
   "source": [
    "sam.instance_method() # 인스턴스로만 접근이 가능"
   ]
  },
  {
   "cell_type": "code",
   "execution_count": 141,
   "metadata": {},
   "outputs": [
    {
     "name": "stdout",
     "output_type": "stream",
     "text": [
      "static method:  python\n",
      "None\n",
      "static method:  python\n",
      "None\n"
     ]
    }
   ],
   "source": [
    "print(s.static_method()) # 인스턴스로도 접근가능\n",
    "print(sam.static_method()) #클래스로도 접근 가능"
   ]
  },
  {
   "cell_type": "code",
   "execution_count": 142,
   "metadata": {},
   "outputs": [],
   "source": [
    "# 객체를 만들어서 접근이 가능한 메소드 => 인스턴스메소드, self를 매개변수로 가짐\n",
    "# 객체를 만들지 않고 접근이 가능한 메소드 => 클래스메소드, cls를 매개변수로 가짐\n",
    "# 객체를 만들지 않고 접근이 가능한 메소드 => cls, self를 받지 않음\n",
    "\n",
    "# 클래스메소드 : 클래스 변수를 사용, 인스턴스메소드 사용 못 함\n",
    "# 스태틱메소드 : cls없이 클래스 변수를 사용, 인스턴스 변수 사용 못 함"
   ]
  },
  {
   "cell_type": "code",
   "execution_count": null,
   "metadata": {},
   "outputs": [],
   "source": []
  },
  {
   "cell_type": "code",
   "execution_count": null,
   "metadata": {},
   "outputs": [],
   "source": []
  }
 ],
 "metadata": {
  "kernelspec": {
   "display_name": "Python 3",
   "language": "python",
   "name": "python3"
  },
  "language_info": {
   "codemirror_mode": {
    "name": "ipython",
    "version": 3
   },
   "file_extension": ".py",
   "mimetype": "text/x-python",
   "name": "python",
   "nbconvert_exporter": "python",
   "pygments_lexer": "ipython3",
   "version": "3.8.3"
  }
 },
 "nbformat": 4,
 "nbformat_minor": 4
}
