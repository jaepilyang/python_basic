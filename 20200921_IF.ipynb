{
 "cells": [
  {
   "cell_type": "code",
   "execution_count": 6,
   "metadata": {},
   "outputs": [
    {
     "name": "stdout",
     "output_type": "stream",
     "text": [
      "비밀번호 입력 123\n",
      "패스워드가 일치하지 않습니다.\n"
     ]
    }
   ],
   "source": [
    "password = 1234\n",
    "\n",
    "# 비번 입력 후 비번이 일치하면 '환영합니다. 어서오세요.\n",
    "# 안 일치하면 '패스워드가 일치하지 않습니다.' 출력\n",
    "\n",
    "pw = int(input('비밀번호 입력 '))\n",
    "if password ==pw:\n",
    "    print('환영합니다. 어서오세요.')\n",
    "else:\n",
    "    print('패스워드가 일치하지 않습니다.')"
   ]
  },
  {
   "cell_type": "code",
   "execution_count": 5,
   "metadata": {},
   "outputs": [
    {
     "name": "stdout",
     "output_type": "stream",
     "text": [
      "정수 a 입력: 1\n",
      "정수 b 입력: 120\n",
      "'b'가 'a'보다 큽니다.\n"
     ]
    }
   ],
   "source": [
    "# 임의의 두 정수를 입력받은 후 어느 값이 더 큰 값인지 아니면 값이 같은지를 출력\n",
    "# 'a'와 'b'는 같습니다.\n",
    "# 'a'가 'b'보다 큽니다.\n",
    "# 'b'가 'a'보다 큽니다.\n",
    "a = int(input('정수 a 입력: '))\n",
    "b = int(input('정수 b 입력: '))\n",
    "\n",
    "if a==b:\n",
    "    print(\"'a'와 'b'는 같습니다.\")\n",
    "elif a>b:\n",
    "    print(\"'a'가 'b'보다 큽니다.\")\n",
    "else:\n",
    "    print(\"'b'가 'a'보다 큽니다.\")"
   ]
  },
  {
   "cell_type": "code",
   "execution_count": 8,
   "metadata": {},
   "outputs": [
    {
     "name": "stdout",
     "output_type": "stream",
     "text": [
      "정수를 입력하시오: 33\n",
      "홀수입니다.\n"
     ]
    }
   ],
   "source": [
    "# 임의의 정수를 받아서 짝수이면 '짝수입니다.' 홀수면 '홀수입니다.'\n",
    "a = int(input('정수를 입력하시오: '))\n",
    "\n",
    "num = a%2\n",
    "\n",
    "if num == 0:\n",
    "    print('짝수입니다.')\n",
    "else:\n",
    "    print('홀수입니다.')"
   ]
  },
  {
   "cell_type": "code",
   "execution_count": 18,
   "metadata": {},
   "outputs": [
    {
     "name": "stdout",
     "output_type": "stream",
     "text": [
      "주민번호 7자리를 입력하시오: 900426 1\n",
      "당신의 나이는 30이고 성별은 남성입니다.\n"
     ]
    }
   ],
   "source": [
    "# 주민번호 앞 6자리와 뒤 1자리를 입력받은 후\n",
    "# 당신의 나이는 **이고 성별은 **입니다.\n",
    "num = input('주민번호 7자리를 입력하시오: ').split()\n",
    "age = 2020-int('19'+num[0][:2])\n",
    "temp = int(num[1])\n",
    "\n",
    "if temp == 1:\n",
    "    gender = '남성'\n",
    "else:\n",
    "    gender = '여성'\n",
    "\n",
    "print('당신의 나이는 {}이고 성별은 {}입니다.'.format(age, gender))"
   ]
  },
  {
   "cell_type": "code",
   "execution_count": null,
   "metadata": {},
   "outputs": [],
   "source": []
  },
  {
   "cell_type": "code",
   "execution_count": 23,
   "metadata": {},
   "outputs": [
    {
     "name": "stdout",
     "output_type": "stream",
     "text": [
      "나이를 입력하세요: 65\n",
      "나이가 초과되셨습니다.\n"
     ]
    }
   ],
   "source": [
    "# 나이를 입력받은 후\n",
    "# 20세 미만이면 => 나이가 너무 어립니다.\n",
    "# 20 ~50 => 적합한 나이입니다.\n",
    "# 50세 이상 => 나이가 초과되셨습니다.\n",
    "\n",
    "age = int(input(\"나이를 입력하세요: \"))\n",
    "\n",
    "if age<20:\n",
    "    print('나이가 너무 어립니다.')\n",
    "elif 20<=age<50:\n",
    "    print('적합한 나이입니다.')\n",
    "else:\n",
    "    print('나이가 초과되셨습니다.')"
   ]
  },
  {
   "cell_type": "code",
   "execution_count": null,
   "metadata": {},
   "outputs": [],
   "source": []
  },
  {
   "cell_type": "code",
   "execution_count": 36,
   "metadata": {},
   "outputs": [
    {
     "name": "stdout",
     "output_type": "stream",
     "text": [
      "점수를 입력하시오: 50\n",
      "D학점입니다.\n"
     ]
    }
   ],
   "source": [
    "# 점수를 입력받은 후\n",
    "# 90점 이상이면 A학점입니다를 출력\n",
    "# 80 ~ 90이면 B학점입니다\n",
    "# 70 ~ 80이면 C학점입니다\n",
    "# 70점 미만이면 D학점입니다를 출력\n",
    "\n",
    "score = int(input(\"점수를 입력하시오: \"))\n",
    "\n",
    "if score >= 90:\n",
    "    print('A학점입니다.')\n",
    "elif 80 <= score < 90:\n",
    "    print('B학점입니다.')\n",
    "elif 70 <= score < 80:\n",
    "    print('C학점입니다.')\n",
    "else:\n",
    "    print('D학점입니다.')"
   ]
  },
  {
   "cell_type": "code",
   "execution_count": 51,
   "metadata": {},
   "outputs": [],
   "source": [
    "name = {'mary':95, 'sams':75, 'amy':87, 'bob':65}"
   ]
  },
  {
   "cell_type": "code",
   "execution_count": 54,
   "metadata": {},
   "outputs": [
    {
     "name": "stdout",
     "output_type": "stream",
     "text": [
      "이름을 입력하시오: 경수\n",
      "{'mary': 95, 'sams': 75, 'amy': 87, 'bob': 65, '경환': 50, '경수': 50}\n"
     ]
    }
   ],
   "source": [
    "# 임의의 이름을 입력 받은 후 name에 이름이 있으면 점수 출력\n",
    "# 이름이 없으면 50점을 name dict에 추가\n",
    "\n",
    "nam = input('이름을 입력하시오: ')\n",
    "\n",
    "if nam in name:\n",
    "    print(name[nam])\n",
    "else:\n",
    "    name.setdefault(nam, 50)\n",
    "    print(name)"
   ]
  },
  {
   "cell_type": "code",
   "execution_count": null,
   "metadata": {},
   "outputs": [],
   "source": []
  },
  {
   "cell_type": "code",
   "execution_count": 32,
   "metadata": {},
   "outputs": [
    {
     "name": "stdout",
     "output_type": "stream",
     "text": [
      "이름을 입력하시오: 경환\n",
      "이름이 없습니다.\n"
     ]
    }
   ],
   "source": [
    "name = {'mary':95, 'sams':75, 'amy':87, 'bob':65}\n",
    "\n",
    "# 임의의 이름을 입력 받은 후 name에 이름이 있으면서 점수가 80점 이상이면 합격\n",
    "# 80점 미만이면 불합격\n",
    "# 이름이 없으면 이름이 없습니다를 출력\n",
    "\n",
    "nam = input('이름을 입력하시오: ')\n",
    "score = name[nam]\n",
    "\n",
    "if nam in name and score>=80:\n",
    "    print('합격입니다.')\n",
    "elif nam in name and score<80:\n",
    "    print('합격명단에 이름이 없습니다.')\n",
    "else:\n",
    "    print('이름이 없습니다.')\n",
    "    \n",
    "# 아래는 쌤이 만든 버전\n",
    "# if nam in name:\n",
    "#     if score>=80:\n",
    "#         print('합격입니다.')\n",
    "#     else:\n",
    "#         print('합격명단에 이름이 없습니다.')\n",
    "# else:\n",
    "#     print('이름이 없습니다.')"
   ]
  },
  {
   "cell_type": "code",
   "execution_count": null,
   "metadata": {},
   "outputs": [],
   "source": []
  },
  {
   "cell_type": "code",
   "execution_count": 66,
   "metadata": {},
   "outputs": [
    {
     "name": "stdout",
     "output_type": "stream",
     "text": [
      "mine => 가위, 바위, 보 중에서 하나를 선택하세요: 보\n",
      "yours => 가위, 바위, 보 중에서 하나를 선택하세요: 바위\n",
      "내가 이겼습니다.\n"
     ]
    }
   ],
   "source": [
    "# 가위, 바위, 보 게임\n",
    "\n",
    "mine = input('mine => 가위, 바위, 보 중에서 하나를 선택하세요: ')\n",
    "your = input('yours => 가위, 바위, 보 중에서 하나를 선택하세요: ')\n",
    "\n",
    "if mine == your:\n",
    "    print('무승부')\n",
    "else:\n",
    "    if mine =='가위':\n",
    "        if your=='바위':\n",
    "            print('당신이 이겼습니다.')\n",
    "        else:\n",
    "            print('내가 이겼습니다.')\n",
    "    if mine =='바위':\n",
    "        if your=='보':\n",
    "            print('당신이 이겼습니다.')\n",
    "        else:\n",
    "            print('내가 이겼습니다.')\n",
    "    if mine =='보':\n",
    "        if your=='가위':\n",
    "            print('당신이 이겼습니다.')\n",
    "        else:\n",
    "            print('내가 이겼습니다.')\n",
    "\n",
    "# 쌤이 만든 코드는 아래꺼\n",
    "# if mine == your:\n",
    "#     print('무승부')\n",
    "# elif mine =='가위':\n",
    "#     if your=='바위':\n",
    "#         print('당신이 이겼습니다.')\n",
    "#     else:\n",
    "#         print('내가 이겼습니다.')\n",
    "# elif mine =='바위':\n",
    "#     if your=='보':\n",
    "#         print('당신이 이겼습니다.')\n",
    "#     else:\n",
    "#         print('내가 이겼습니다.')\n",
    "# else:\n",
    "#     if your=='가위':\n",
    "#         print('당신이 이겼습니다.')\n",
    "#     else:\n",
    "#         print('내가 이겼습니다.')"
   ]
  },
  {
   "cell_type": "code",
   "execution_count": null,
   "metadata": {},
   "outputs": [],
   "source": []
  }
 ],
 "metadata": {
  "kernelspec": {
   "display_name": "Python 3",
   "language": "python",
   "name": "python3"
  },
  "language_info": {
   "codemirror_mode": {
    "name": "ipython",
    "version": 3
   },
   "file_extension": ".py",
   "mimetype": "text/x-python",
   "name": "python",
   "nbconvert_exporter": "python",
   "pygments_lexer": "ipython3",
   "version": "3.8.3"
  }
 },
 "nbformat": 4,
 "nbformat_minor": 4
}
