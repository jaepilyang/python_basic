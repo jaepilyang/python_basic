{
 "cells": [
  {
   "cell_type": "code",
   "execution_count": 20,
   "metadata": {},
   "outputs": [],
   "source": [
    "# 주소록 제작 프로젝트\n",
    "\n",
    "# 1. 주소록 입력..  - 이름, 전화번호, 이메일 /  입력 포맷..\n",
    "# 2. 주소록 출력..\n",
    "# 3. 주소록 저장..\n",
    "# 4. 주소록 삭제..\n",
    "# 5. 주소록 파일을 제거.."
   ]
  },
  {
   "cell_type": "code",
   "execution_count": 45,
   "metadata": {},
   "outputs": [],
   "source": [
    "import os.path\n",
    "import pickle"
   ]
  },
  {
   "cell_type": "code",
   "execution_count": 46,
   "metadata": {},
   "outputs": [],
   "source": [
    "# 연락처 클래스 - 인스턴스를 생성해서 사용..\n",
    "\n",
    "class Contact:\n",
    "    \n",
    "    # 생성자 함수 - 이름, 전화, 메일을 입력받는 함수\n",
    "    def __init__(self, name, phone_num, email):\n",
    "        self.name = name      # 인스턴스 변수 : self._\n",
    "        self.phone_num = phone_num\n",
    "        self.email = email\n",
    "        \n",
    "    # 연락처를 출력 메소드 -  인스턴스메소드(self를 인자로 받는다.)\n",
    "    def prt_info(self):  \n",
    "        print('Name : {}'.format(self.name))\n",
    "        print('Phone_Number : {}'.format(self.phone_num))\n",
    "        print('E-mail : {}'.format(self.email))\n",
    "        print('-'*30)\n",
    "        print()"
   ]
  },
  {
   "cell_type": "code",
   "execution_count": 59,
   "metadata": {},
   "outputs": [],
   "source": [
    "# 연락처 정보 입력.. 클래스 인스턴스 형식으로 리스트에 담아서 저장..\n",
    "\n",
    "def add_cont(c_list):\n",
    "    name = input_name()\n",
    "    phone = input_phone()\n",
    "    email = input_email()\n",
    "    print()\n",
    "    \n",
    "    # 이름,전화,주소를 클래스 객체를 만들어서 객체를 리스트에 담아서 저장..\n",
    "    \n",
    "    for v in c_list:    # c_list : 주소록을 담은 인스터스들을 요소로 가진 리스트\n",
    "        if name == v.name:    # 이전의 인스턴스 이름과 동일한 이름이 있는지 확인\n",
    "            print('Name exists!!')\n",
    "            print()\n",
    "            break\n",
    "    else:\n",
    "        cont = Contact(name, phone, email)  # 이름을 입력받고 클래스 객체를 만듬\n",
    "        print('Saved!')\n",
    "        print()\n",
    "        c_list.append(cont)    "
   ]
  },
  {
   "cell_type": "code",
   "execution_count": 60,
   "metadata": {},
   "outputs": [],
   "source": [
    "# 이름으로 조회한 연락처를 삭제.. 이름으로 조회된 인스턴스를 삭제..\n",
    "# c_list : 주소록을 입력받은 후 인스턴스로 만들어서 그 인스턴스들을 담은 리스트\n",
    "#            주소들이 객체화되어 c_list에 담겨있음\n",
    "\n",
    "def del_cont(c_list):   # 인스턴스가 들어가 있는 리스트를 매개변수로 받음..\n",
    "    nm = input('Name : ' )   # 삭제할 이름일 입력받음..\n",
    "    print()\n",
    "    \n",
    "    if len(c_list) > 0:\n",
    "        for i, cont in enumerate(c_list):    # 주소록 인스턴스를 하나씩 가져옴..\n",
    "            if str(cont.name).strip() == nm.strip():  # strip() - 문장열 좌우 공백 제거\n",
    "                print(\"'{}' deleted.\".format(cont.name))\n",
    "                print()\n",
    "                del c_list[i]\n",
    "                break\n",
    "        else:\n",
    "            print('No files to delete..')\n",
    "    else:\n",
    "        print('No files to delete..')"
   ]
  },
  {
   "cell_type": "code",
   "execution_count": 61,
   "metadata": {},
   "outputs": [],
   "source": [
    "# 저장된 모든 연락처 정보를 출력..\n",
    "# 연락처 객체를 담고있는 c_list에서 모든 객체를 가져와서 prt_info() 메소드를 \n",
    "# 통해서 연락처 정보를 출력\n",
    "\n",
    "def prt_cont(c_list):\n",
    "    if len(c_list)>0:\n",
    "        for i in c_list:\n",
    "            i.prt_info()            \n",
    "    else:\n",
    "        print('Contact is empty!!')"
   ]
  },
  {
   "cell_type": "code",
   "execution_count": 62,
   "metadata": {},
   "outputs": [],
   "source": [
    "# 주소록 객체가 담긴 리스트 c_list를 파일로 저장..\n",
    "# => 파이썬 객체를 파일로 저장하는 pickle함수 이용..\n",
    "# => with open('파일명', 'wb')  as f:\n",
    "#       pickle.dump(저장할 객체, f)\n",
    "\n",
    "def store_cont_db(c_list):\n",
    "    try:\n",
    "        with open('cont_db.bin', 'wb') as f:\n",
    "            pickle.dump(c_list, f)    # pickle : 파이썬 객체를 파일로 저장하는 함수\n",
    "            print('db daved')\n",
    "            print()\n",
    "    except IOError as log:  # IOError : 파일을 열지 못할 때 발생하는 오류\n",
    "        print(log)"
   ]
  },
  {
   "cell_type": "code",
   "execution_count": 71,
   "metadata": {},
   "outputs": [],
   "source": [
    "# 파일 db 업로드\n",
    "\n",
    "def load_cont_db():\n",
    "    p_list = []\n",
    "    if os.path.isfile('cont_db.bin'):  # 현재 dir에 'cont_db.bin' 파일이 있으면 True\n",
    "        try:\n",
    "            with open('cont_db.bin', 'rb') as f:\n",
    "                p_list = pickle.load(f)     # pickle.load()함수로 pickle로 저장된 파일을 연다\n",
    "        except IOError as log:              # 파일을 열지 못하는 error에 대해 예외처리\n",
    "            print(log)\n",
    "    else:                                   # 파일이 없으면..\n",
    "#         print('DB File not found!')\n",
    "        print()\n",
    "    return p_list    # pickle로 열어서 가져온 리스트를 리턴.."
   ]
  },
  {
   "cell_type": "code",
   "execution_count": 64,
   "metadata": {},
   "outputs": [],
   "source": [
    "# 파일 DB삭제\n",
    "\n",
    "def drop_cont_db():\n",
    "    if os.path.isfile('cont_db.bin'):\n",
    "        try:\n",
    "            os.remove('cont_db.bin')\n",
    "            print('DB File dropped')\n",
    "        except FileNotError as log:\n",
    "            print(log)\n",
    "    else:\n",
    "        print('DB File not found!!')\n",
    "        print()    "
   ]
  },
  {
   "cell_type": "code",
   "execution_count": 65,
   "metadata": {},
   "outputs": [],
   "source": [
    "# 이름 입력\n",
    "\n",
    "def input_name():\n",
    "    while True:\n",
    "        try:\n",
    "            name = input('Name: ')\n",
    "            if len(name) < 2:        #  두 글자 이상의 이름을 받기 위해\n",
    "                raise ValueError     # raise : 강제로 오류를 발생시키는 키워드\n",
    "            else:\n",
    "                break\n",
    "        except ValueError:\n",
    "            print('Name is too short!!')\n",
    "    return name"
   ]
  },
  {
   "cell_type": "code",
   "execution_count": 66,
   "metadata": {},
   "outputs": [],
   "source": [
    "# 전화번호 입력\n",
    "def input_phone():\n",
    "    while True:\n",
    "        try:\n",
    "            phone_num = input('Phone number:')\n",
    "            if len(phone_num) < 7:\n",
    "                raise ValueError\n",
    "            else:\n",
    "                break\n",
    "        except ValueError:\n",
    "            print('Phone Number is too short..')\n",
    "    return phone_num"
   ]
  },
  {
   "cell_type": "code",
   "execution_count": 67,
   "metadata": {},
   "outputs": [],
   "source": [
    "# 이메일 입력\n",
    "def input_email():\n",
    "    while True:\n",
    "        try:\n",
    "            email = input('Email :')\n",
    "            if len(email) < 5:\n",
    "                raise ValueError\n",
    "            else:\n",
    "                break\n",
    "        except ValueError:\n",
    "            print('Email is too short..')\n",
    "    return email"
   ]
  },
  {
   "cell_type": "code",
   "execution_count": 68,
   "metadata": {},
   "outputs": [],
   "source": [
    "# 이용자에게 메뉴 출력..\n",
    "def prt_menu():\n",
    "    print('1. Add')       # 주소록 입력\n",
    "    print('2. Info')      # 주소록 출력\n",
    "    print('3. Delete')    # 입력데이터 삭제\n",
    "    print('4. DB Saved')  # 파일db로 저장\n",
    "    print('5. DB Drop')   # 파일db 삭제\n",
    "    print('6. Exit')      # 나가기\n",
    "    print()\n",
    "    \n",
    "    menu = input('Select Menu Number..')\n",
    "    print()\n",
    "    return int(menu)"
   ]
  },
  {
   "cell_type": "code",
   "execution_count": 69,
   "metadata": {},
   "outputs": [],
   "source": [
    "# 프로그램 실행\n",
    "\n",
    "def main():\n",
    "    c_list = load_cont_db()     # 주소 객체를 담은 file db를 가져와서 리스트로 받음\n",
    "    \n",
    "    while True:\n",
    "        menu = prt_menu()        # 이용자에게 입력 메뉴를 받음\n",
    "        if menu == 1:\n",
    "            add_cont(c_list)     # 주소록 입력 : 주소록 객체생성 -  c_list에 저장\n",
    "        elif menu == 2:\n",
    "            prt_cont(c_list)     # 주소록 출력 : c_list에서 일치하는 이름 객체 출력\n",
    "        elif menu == 3:\n",
    "            del_cont(c_list)     # 주소록 삭제 : c_list에서 일치하는 데이터 삭제\n",
    "        elif menu == 4:\n",
    "            store_cont_db(c_list)  # 주소록 db file로 저장\n",
    "        elif menu == 5:\n",
    "            drop_cont_db()         # db file을 삭제\n",
    "        else:\n",
    "            break                  # 다른 입력인 경우 빠져나감.."
   ]
  },
  {
   "cell_type": "code",
   "execution_count": 72,
   "metadata": {},
   "outputs": [
    {
     "name": "stdout",
     "output_type": "stream",
     "text": [
      "\n",
      "1. Add\n",
      "2. Info\n",
      "3. Delete\n",
      "4. DB Saved\n",
      "5. DB Drop\n",
      "6. Exit\n",
      "\n",
      "Select Menu Number..1\n",
      "\n",
      "Name: park\n",
      "Phone number:djsjfslfkd\n",
      "Email :sdjklsjflsf\n",
      "\n",
      "Saved!\n",
      "\n",
      "1. Add\n",
      "2. Info\n",
      "3. Delete\n",
      "4. DB Saved\n",
      "5. DB Drop\n",
      "6. Exit\n",
      "\n",
      "Select Menu Number..2\n",
      "\n",
      "Name : park\n",
      "Phone_Number : djsjfslfkd\n",
      "E-mail : sdjklsjflsf\n",
      "------------------------------\n",
      "\n",
      "1. Add\n",
      "2. Info\n",
      "3. Delete\n",
      "4. DB Saved\n",
      "5. DB Drop\n",
      "6. Exit\n",
      "\n",
      "Select Menu Number..8\n",
      "\n"
     ]
    }
   ],
   "source": [
    "main()"
   ]
  },
  {
   "cell_type": "code",
   "execution_count": null,
   "metadata": {},
   "outputs": [],
   "source": []
  },
  {
   "cell_type": "code",
   "execution_count": null,
   "metadata": {},
   "outputs": [],
   "source": []
  }
 ],
 "metadata": {
  "kernelspec": {
   "display_name": "Python 3",
   "language": "python",
   "name": "python3"
  },
  "language_info": {
   "codemirror_mode": {
    "name": "ipython",
    "version": 3
   },
   "file_extension": ".py",
   "mimetype": "text/x-python",
   "name": "python",
   "nbconvert_exporter": "python",
   "pygments_lexer": "ipython3",
   "version": "3.8.3"
  }
 },
 "nbformat": 4,
 "nbformat_minor": 4
}
