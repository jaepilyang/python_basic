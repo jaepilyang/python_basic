{
 "cells": [
  {
   "cell_type": "code",
   "execution_count": 12,
   "metadata": {},
   "outputs": [],
   "source": [
    "from bs4 import BeautifulSoup as bs\n",
    "from selenium import webdriver\n",
    "import time"
   ]
  },
  {
   "cell_type": "code",
   "execution_count": null,
   "metadata": {},
   "outputs": [],
   "source": [
    "# https://korean.visitkorea.or.kr"
   ]
  },
  {
   "cell_type": "code",
   "execution_count": 2,
   "metadata": {},
   "outputs": [
    {
     "name": "stdout",
     "output_type": "stream",
     "text": [
      "크롤링할 키워드를 입력하세요.여행\n"
     ]
    }
   ],
   "source": [
    "search_text = input('크롤링할 키워드를 입력하세요.')"
   ]
  },
  {
   "cell_type": "code",
   "execution_count": 3,
   "metadata": {},
   "outputs": [],
   "source": [
    "driver = webdriver.Chrome('./chromedriver')\n",
    "driver.set_window_size(800, 1000) # 윈도우창 크기 설정"
   ]
  },
  {
   "cell_type": "code",
   "execution_count": 4,
   "metadata": {},
   "outputs": [],
   "source": [
    "driver.get('https://korean.visitkorea.or.kr')"
   ]
  },
  {
   "cell_type": "code",
   "execution_count": 5,
   "metadata": {
    "collapsed": true
   },
   "outputs": [
    {
     "ename": "ElementNotInteractableException",
     "evalue": "Message: element not interactable\n  (Session info: chrome=86.0.4240.75)\n",
     "output_type": "error",
     "traceback": [
      "\u001b[1;31m---------------------------------------------------------------------------\u001b[0m",
      "\u001b[1;31mElementNotInteractableException\u001b[0m           Traceback (most recent call last)",
      "\u001b[1;32m<ipython-input-5-bb0f27196035>\u001b[0m in \u001b[0;36m<module>\u001b[1;34m\u001b[0m\n\u001b[1;32m----> 1\u001b[1;33m \u001b[0mdriver\u001b[0m\u001b[1;33m.\u001b[0m\u001b[0mfind_element_by_id\u001b[0m\u001b[1;33m(\u001b[0m\u001b[1;34m'chkForm01'\u001b[0m\u001b[1;33m)\u001b[0m\u001b[1;33m.\u001b[0m\u001b[0mclick\u001b[0m\u001b[1;33m(\u001b[0m\u001b[1;33m)\u001b[0m \u001b[1;31m# 팝업창 크기\u001b[0m\u001b[1;33m\u001b[0m\u001b[1;33m\u001b[0m\u001b[0m\n\u001b[0m",
      "\u001b[1;32m~\\anaconda3\\lib\\site-packages\\selenium\\webdriver\\remote\\webelement.py\u001b[0m in \u001b[0;36mclick\u001b[1;34m(self)\u001b[0m\n\u001b[0;32m     78\u001b[0m     \u001b[1;32mdef\u001b[0m \u001b[0mclick\u001b[0m\u001b[1;33m(\u001b[0m\u001b[0mself\u001b[0m\u001b[1;33m)\u001b[0m\u001b[1;33m:\u001b[0m\u001b[1;33m\u001b[0m\u001b[1;33m\u001b[0m\u001b[0m\n\u001b[0;32m     79\u001b[0m         \u001b[1;34m\"\"\"Clicks the element.\"\"\"\u001b[0m\u001b[1;33m\u001b[0m\u001b[1;33m\u001b[0m\u001b[0m\n\u001b[1;32m---> 80\u001b[1;33m         \u001b[0mself\u001b[0m\u001b[1;33m.\u001b[0m\u001b[0m_execute\u001b[0m\u001b[1;33m(\u001b[0m\u001b[0mCommand\u001b[0m\u001b[1;33m.\u001b[0m\u001b[0mCLICK_ELEMENT\u001b[0m\u001b[1;33m)\u001b[0m\u001b[1;33m\u001b[0m\u001b[1;33m\u001b[0m\u001b[0m\n\u001b[0m\u001b[0;32m     81\u001b[0m \u001b[1;33m\u001b[0m\u001b[0m\n\u001b[0;32m     82\u001b[0m     \u001b[1;32mdef\u001b[0m \u001b[0msubmit\u001b[0m\u001b[1;33m(\u001b[0m\u001b[0mself\u001b[0m\u001b[1;33m)\u001b[0m\u001b[1;33m:\u001b[0m\u001b[1;33m\u001b[0m\u001b[1;33m\u001b[0m\u001b[0m\n",
      "\u001b[1;32m~\\anaconda3\\lib\\site-packages\\selenium\\webdriver\\remote\\webelement.py\u001b[0m in \u001b[0;36m_execute\u001b[1;34m(self, command, params)\u001b[0m\n\u001b[0;32m    631\u001b[0m             \u001b[0mparams\u001b[0m \u001b[1;33m=\u001b[0m \u001b[1;33m{\u001b[0m\u001b[1;33m}\u001b[0m\u001b[1;33m\u001b[0m\u001b[1;33m\u001b[0m\u001b[0m\n\u001b[0;32m    632\u001b[0m         \u001b[0mparams\u001b[0m\u001b[1;33m[\u001b[0m\u001b[1;34m'id'\u001b[0m\u001b[1;33m]\u001b[0m \u001b[1;33m=\u001b[0m \u001b[0mself\u001b[0m\u001b[1;33m.\u001b[0m\u001b[0m_id\u001b[0m\u001b[1;33m\u001b[0m\u001b[1;33m\u001b[0m\u001b[0m\n\u001b[1;32m--> 633\u001b[1;33m         \u001b[1;32mreturn\u001b[0m \u001b[0mself\u001b[0m\u001b[1;33m.\u001b[0m\u001b[0m_parent\u001b[0m\u001b[1;33m.\u001b[0m\u001b[0mexecute\u001b[0m\u001b[1;33m(\u001b[0m\u001b[0mcommand\u001b[0m\u001b[1;33m,\u001b[0m \u001b[0mparams\u001b[0m\u001b[1;33m)\u001b[0m\u001b[1;33m\u001b[0m\u001b[1;33m\u001b[0m\u001b[0m\n\u001b[0m\u001b[0;32m    634\u001b[0m \u001b[1;33m\u001b[0m\u001b[0m\n\u001b[0;32m    635\u001b[0m     \u001b[1;32mdef\u001b[0m \u001b[0mfind_element\u001b[0m\u001b[1;33m(\u001b[0m\u001b[0mself\u001b[0m\u001b[1;33m,\u001b[0m \u001b[0mby\u001b[0m\u001b[1;33m=\u001b[0m\u001b[0mBy\u001b[0m\u001b[1;33m.\u001b[0m\u001b[0mID\u001b[0m\u001b[1;33m,\u001b[0m \u001b[0mvalue\u001b[0m\u001b[1;33m=\u001b[0m\u001b[1;32mNone\u001b[0m\u001b[1;33m)\u001b[0m\u001b[1;33m:\u001b[0m\u001b[1;33m\u001b[0m\u001b[1;33m\u001b[0m\u001b[0m\n",
      "\u001b[1;32m~\\anaconda3\\lib\\site-packages\\selenium\\webdriver\\remote\\webdriver.py\u001b[0m in \u001b[0;36mexecute\u001b[1;34m(self, driver_command, params)\u001b[0m\n\u001b[0;32m    319\u001b[0m         \u001b[0mresponse\u001b[0m \u001b[1;33m=\u001b[0m \u001b[0mself\u001b[0m\u001b[1;33m.\u001b[0m\u001b[0mcommand_executor\u001b[0m\u001b[1;33m.\u001b[0m\u001b[0mexecute\u001b[0m\u001b[1;33m(\u001b[0m\u001b[0mdriver_command\u001b[0m\u001b[1;33m,\u001b[0m \u001b[0mparams\u001b[0m\u001b[1;33m)\u001b[0m\u001b[1;33m\u001b[0m\u001b[1;33m\u001b[0m\u001b[0m\n\u001b[0;32m    320\u001b[0m         \u001b[1;32mif\u001b[0m \u001b[0mresponse\u001b[0m\u001b[1;33m:\u001b[0m\u001b[1;33m\u001b[0m\u001b[1;33m\u001b[0m\u001b[0m\n\u001b[1;32m--> 321\u001b[1;33m             \u001b[0mself\u001b[0m\u001b[1;33m.\u001b[0m\u001b[0merror_handler\u001b[0m\u001b[1;33m.\u001b[0m\u001b[0mcheck_response\u001b[0m\u001b[1;33m(\u001b[0m\u001b[0mresponse\u001b[0m\u001b[1;33m)\u001b[0m\u001b[1;33m\u001b[0m\u001b[1;33m\u001b[0m\u001b[0m\n\u001b[0m\u001b[0;32m    322\u001b[0m             response['value'] = self._unwrap_value(\n\u001b[0;32m    323\u001b[0m                 response.get('value', None))\n",
      "\u001b[1;32m~\\anaconda3\\lib\\site-packages\\selenium\\webdriver\\remote\\errorhandler.py\u001b[0m in \u001b[0;36mcheck_response\u001b[1;34m(self, response)\u001b[0m\n\u001b[0;32m    240\u001b[0m                 \u001b[0malert_text\u001b[0m \u001b[1;33m=\u001b[0m \u001b[0mvalue\u001b[0m\u001b[1;33m[\u001b[0m\u001b[1;34m'alert'\u001b[0m\u001b[1;33m]\u001b[0m\u001b[1;33m.\u001b[0m\u001b[0mget\u001b[0m\u001b[1;33m(\u001b[0m\u001b[1;34m'text'\u001b[0m\u001b[1;33m)\u001b[0m\u001b[1;33m\u001b[0m\u001b[1;33m\u001b[0m\u001b[0m\n\u001b[0;32m    241\u001b[0m             \u001b[1;32mraise\u001b[0m \u001b[0mexception_class\u001b[0m\u001b[1;33m(\u001b[0m\u001b[0mmessage\u001b[0m\u001b[1;33m,\u001b[0m \u001b[0mscreen\u001b[0m\u001b[1;33m,\u001b[0m \u001b[0mstacktrace\u001b[0m\u001b[1;33m,\u001b[0m \u001b[0malert_text\u001b[0m\u001b[1;33m)\u001b[0m\u001b[1;33m\u001b[0m\u001b[1;33m\u001b[0m\u001b[0m\n\u001b[1;32m--> 242\u001b[1;33m         \u001b[1;32mraise\u001b[0m \u001b[0mexception_class\u001b[0m\u001b[1;33m(\u001b[0m\u001b[0mmessage\u001b[0m\u001b[1;33m,\u001b[0m \u001b[0mscreen\u001b[0m\u001b[1;33m,\u001b[0m \u001b[0mstacktrace\u001b[0m\u001b[1;33m)\u001b[0m\u001b[1;33m\u001b[0m\u001b[1;33m\u001b[0m\u001b[0m\n\u001b[0m\u001b[0;32m    243\u001b[0m \u001b[1;33m\u001b[0m\u001b[0m\n\u001b[0;32m    244\u001b[0m     \u001b[1;32mdef\u001b[0m \u001b[0m_value_or_default\u001b[0m\u001b[1;33m(\u001b[0m\u001b[0mself\u001b[0m\u001b[1;33m,\u001b[0m \u001b[0mobj\u001b[0m\u001b[1;33m,\u001b[0m \u001b[0mkey\u001b[0m\u001b[1;33m,\u001b[0m \u001b[0mdefault\u001b[0m\u001b[1;33m)\u001b[0m\u001b[1;33m:\u001b[0m\u001b[1;33m\u001b[0m\u001b[1;33m\u001b[0m\u001b[0m\n",
      "\u001b[1;31mElementNotInteractableException\u001b[0m: Message: element not interactable\n  (Session info: chrome=86.0.4240.75)\n"
     ]
    }
   ],
   "source": [
    "driver.find_element_by_id('chkForm01').click() # 팝업창 끄기"
   ]
  },
  {
   "cell_type": "code",
   "execution_count": 6,
   "metadata": {},
   "outputs": [],
   "source": [
    "elem = driver.find_element_by_class_name('inp_search')\n",
    "elem.send_keys(search_text)"
   ]
  },
  {
   "cell_type": "code",
   "execution_count": 8,
   "metadata": {},
   "outputs": [],
   "source": [
    "driver.find_element_by_class_name('btn_search2').click()"
   ]
  },
  {
   "cell_type": "code",
   "execution_count": 10,
   "metadata": {},
   "outputs": [],
   "source": [
    "html = driver.page_source"
   ]
  },
  {
   "cell_type": "code",
   "execution_count": 13,
   "metadata": {},
   "outputs": [],
   "source": [
    "soup = bs(html, 'html.parser')"
   ]
  },
  {
   "cell_type": "code",
   "execution_count": 14,
   "metadata": {
    "collapsed": true
   },
   "outputs": [
    {
     "data": {
      "text/plain": [
       "[<ul class=\"list_thumType flnon\"><li class=\"bdr_nor\"><div class=\"photo\"><a href=\"javascript:\" onclick='goDetail(\"304\",\"49674f8a-a77e-4ed1-8db7-bc1dbbf93ad2\")'><img alt=\"[8월 걷기여행길9선] 금강 위에 피어나는 노을, 노을 위에 뜬 달, 충북 영동군 양산팔경금강둘레길\" src=\"https://cdn.visitkorea.or.kr/img/call?cmd=VIEW&amp;id=aa712663-7d4b-4892-a8b5-5675879ccea9\"/></a></div><div class=\"area_txt\"> <div class=\"tit\"> <a href=\"javascript:\" onclick='goDetail(\"304\",\"49674f8a-a77e-4ed1-8db7-bc1dbbf93ad2\")'>[8월 걷기<!--HS-->여행<!--HE-->길9선] 금강 위에 피어나는 노을, 노을 위에 뜬 달, 충북 영동군 양산팔경금강둘레길</a> </div> <p>충청북도 영동군</p> <p class=\"tag\"><span>#걷기여행길</span> </p></div><button class=\"btn_view\" title=\"내용 더보기\" type=\"button\">더보기</button><div class=\"pop_subMenu\"> <ul> <li class=\"btn_far\"><a href=\"javascript:\" onclick='setFavoContent(\"49674f8a-a77e-4ed1-8db7-bc1dbbf93ad2\")'>즐겨찾기</a></li> <li class=\"btn_share\" id=\"49674f8a-a77e-4ed1-8db7-bc1dbbf93ad2\"><a href=\"javascript:\" onclick='getShareInfo(\"%5B8%EC%9B%94%20%EA%B1%B7%EA%B8%B0%3C!HS%3E%EC%97%AC%ED%96%89%3C!HE%3E%EA%B8%B89%EC%84%A0%5D%20%EA%B8%88%EA%B0%95%20%EC%9C%84%EC%97%90%20%ED%94%BC%EC%96%B4%EB%82%98%EB%8A%94%20%EB%85%B8%EC%9D%84%2C%20%EB%85%B8%EC%9D%84%20%EC%9C%84%EC%97%90%20%EB%9C%AC%20%EB%8B%AC%2C%20%EC%B6%A9%EB%B6%81%20%EC%98%81%EB%8F%99%EA%B5%B0%20%EC%96%91%EC%82%B0%ED%8C%94%EA%B2%BD%EA%B8%88%EA%B0%95%EB%91%98%EB%A0%88%EA%B8%B8\",\"aa712663-7d4b-4892-a8b5-5675879ccea9\",\"49674f8a-a77e-4ed1-8db7-bc1dbbf93ad2\",\"304\");'>공유하기</a></li> </ul></div></li><li class=\"bdr_nor\"><div class=\"photo\"><a href=\"javascript:\" onclick='goDetail(\"304\",\"a8080c91-3fbb-4046-8dfb-acb6275b2422\")'><img alt=\"[일주일 살아보기 시즌 2] 은퇴 후 첫 여행, 아내와 단둘이 남해로\" src=\"https://cdn.visitkorea.or.kr/img/call?cmd=VIEW&amp;id=2f1d472e-9195-4cc2-adac-326709266919\"/></a></div><div class=\"area_txt\"> <div class=\"tit\"> <a href=\"javascript:\" onclick='goDetail(\"304\",\"a8080c91-3fbb-4046-8dfb-acb6275b2422\")'>[일주일 살아보기 시즌 2] 은퇴 후 첫 <!--HS-->여행<!--HE-->, 아내와 단둘이 남해로</a> </div> <p>경상남도 남해군</p> <p class=\"tag\"><span>#일주일살아보기여행</span><span>#가족과함께</span><span>#남해여행</span><span>#남해가볼만한곳</span><span>#일주일살아보기_시즌2</span><span>#9월가볼만한곳</span> </p></div><button class=\"btn_view\" title=\"내용 더보기\" type=\"button\">더보기</button><div class=\"pop_subMenu\"> <ul> <li class=\"btn_far\"><a href=\"javascript:\" onclick='setFavoContent(\"a8080c91-3fbb-4046-8dfb-acb6275b2422\")'>즐겨찾기</a></li> <li class=\"btn_share\" id=\"a8080c91-3fbb-4046-8dfb-acb6275b2422\"><a href=\"javascript:\" onclick='getShareInfo(\"%5B%EC%9D%BC%EC%A3%BC%EC%9D%BC%20%EC%82%B4%EC%95%84%EB%B3%B4%EA%B8%B0%20%EC%8B%9C%EC%A6%8C%202%5D%20%EC%9D%80%ED%87%B4%20%ED%9B%84%20%EC%B2%AB%20%3C!HS%3E%EC%97%AC%ED%96%89%3C!HE%3E%2C%20%EC%95%84%EB%82%B4%EC%99%80%20%EB%8B%A8%EB%91%98%EC%9D%B4%20%EB%82%A8%ED%95%B4%EB%A1%9C\",\"2f1d472e-9195-4cc2-adac-326709266919\",\"a8080c91-3fbb-4046-8dfb-acb6275b2422\",\"304\");'>공유하기</a></li> </ul></div></li><li class=\"bdr_nor\"><div class=\"photo\"><a href=\"javascript:\" onclick='goDetail(\"304\",\"f0a23272-3eb8-4eb0-87fb-c82521909c8d\")'><img alt=\"시간 여행 하는 화산 돌멩이를 찾아서, 한탄강지질공원\" src=\"https://cdn.visitkorea.or.kr/img/call?cmd=VIEW&amp;id=59527f22-1e3b-4d21-b9ca-82d82f308f3a\"/></a></div><div class=\"area_txt\"> <div class=\"tit\"> <a href=\"javascript:\" onclick='goDetail(\"304\",\"f0a23272-3eb8-4eb0-87fb-c82521909c8d\")'>시간 <!--HS-->여행<!--HE--> 하는 화산 돌멩이를 찾아서, 한탄강지질공원</a> </div> <p>경기도 </p> <p class=\"tag\"><span>#한탄강지질공원</span><span>#재인폭포</span><span>#고대산자연휴양림</span><span>#당포성</span><span>#임진강</span><span>#주상절리</span><span>#전곡리토층전시관</span><span>#전곡선사박물관</span><span>#산정호수</span><span>#비둘기낭폭포</span><span>#추천가볼만한곳</span><span>#경기도가볼만한곳</span><span>#경기도당일코스</span><span>#경기도1박2일코스</span><span>#포천가볼만한곳</span><span>#연천가볼만한곳</span><span>#가족여행</span><span>#4월추천가볼만한곳</span><span>#2018년4월추천가볼만한곳</span> </p></div><button class=\"btn_view\" title=\"내용 더보기\" type=\"button\">더보기</button><div class=\"pop_subMenu\"> <ul> <li class=\"btn_far\"><a href=\"javascript:\" onclick='setFavoContent(\"f0a23272-3eb8-4eb0-87fb-c82521909c8d\")'>즐겨찾기</a></li> <li class=\"btn_share\" id=\"f0a23272-3eb8-4eb0-87fb-c82521909c8d\"><a href=\"javascript:\" onclick='getShareInfo(\"%EC%8B%9C%EA%B0%84%20%3C!HS%3E%EC%97%AC%ED%96%89%3C!HE%3E%20%ED%95%98%EB%8A%94%20%ED%99%94%EC%82%B0%20%EB%8F%8C%EB%A9%A9%EC%9D%B4%EB%A5%BC%20%EC%B0%BE%EC%95%84%EC%84%9C%2C%20%ED%95%9C%ED%83%84%EA%B0%95%EC%A7%80%EC%A7%88%EA%B3%B5%EC%9B%90\",\"59527f22-1e3b-4d21-b9ca-82d82f308f3a\",\"f0a23272-3eb8-4eb0-87fb-c82521909c8d\",\"304\");'>공유하기</a></li> </ul></div></li><li class=\"bdr_nor\"><div class=\"photo\"><a href=\"javascript:\" onclick='goDetail(\"304\",\"0950c9cb-4792-4a74-bc1f-5e1a87069efc\")'><img alt=\"감각이 살아나는 정선 화암동굴 여행\" src=\"https://cdn.visitkorea.or.kr/img/call?cmd=VIEW&amp;id=4476211a-3da3-4225-b7bc-5c1877346fbb\"/></a></div><div class=\"area_txt\"> <div class=\"tit\"> <a href=\"javascript:\" onclick='goDetail(\"304\",\"0950c9cb-4792-4a74-bc1f-5e1a87069efc\")'>감각이 살아나는 정선 화암동굴 <!--HS-->여행<!--HE--></a> </div> <p>강원도 정선군</p> <p class=\"tag\"><span>#생태관광</span><span>#생태여행코스</span><span>#2020생태테마사업</span><span>#2020생태테마관광지</span><span>#생태테마사업</span><span>#정선화암동굴</span><span>#그림바위미술마을</span><span>#정선향토박물관</span><span>#천포금광촌</span> </p></div><button class=\"btn_view\" title=\"내용 더보기\" type=\"button\">더보기</button><div class=\"pop_subMenu\"> <ul> <li class=\"btn_far\"><a href=\"javascript:\" onclick='setFavoContent(\"0950c9cb-4792-4a74-bc1f-5e1a87069efc\")'>즐겨찾기</a></li> <li class=\"btn_share\" id=\"0950c9cb-4792-4a74-bc1f-5e1a87069efc\"><a href=\"javascript:\" onclick='getShareInfo(\"%EA%B0%90%EA%B0%81%EC%9D%B4%20%EC%82%B4%EC%95%84%EB%82%98%EB%8A%94%20%EC%A0%95%EC%84%A0%20%ED%99%94%EC%95%94%EB%8F%99%EA%B5%B4%20%3C!HS%3E%EC%97%AC%ED%96%89%3C!HE%3E\",\"4476211a-3da3-4225-b7bc-5c1877346fbb\",\"0950c9cb-4792-4a74-bc1f-5e1a87069efc\",\"304\");'>공유하기</a></li> </ul></div></li><li class=\"bdr_nor\"><div class=\"photo\"><a href=\"javascript:\" onclick='goDetail(\"304\",\"2b5e398f-8f96-4798-8b55-8abdaa53345f\")'><img alt=\"봄이 아니어도 친하게 진해. 감성충만 진해여행 코스\" src=\"https://cdn.visitkorea.or.kr/img/call?cmd=VIEW&amp;id=109f746b-d1c6-4277-99e2-bb0fd30107e3\"/></a></div><div class=\"area_txt\"> <div class=\"tit\"> <a href=\"javascript:\" onclick='goDetail(\"304\",\"2b5e398f-8f96-4798-8b55-8abdaa53345f\")'>봄이 아니어도 친하게 진해. 감성충만 진해<!--HS-->여행<!--HE--> 코스</a> </div> <p>경상남도 창원시</p> <p class=\"tag\"><span>#진해여행코스</span><span>#소사동마을</span><span>#진해가볼만한곳</span><span>#창원여행</span><span>#진해여행</span><span>#진해해양공원</span><span>#진해보타닉뮤지엄</span><span>#원해루</span><span>#제황산</span><span>#제황산모노레일</span><span>#진해탑</span><span>#안민고개</span><span>#초여름_더욱_빛나는</span> </p></div><button class=\"btn_view\" title=\"내용 더보기\" type=\"button\">더보기</button><div class=\"pop_subMenu\"> <ul> <li class=\"btn_far\"><a href=\"javascript:\" onclick='setFavoContent(\"2b5e398f-8f96-4798-8b55-8abdaa53345f\")'>즐겨찾기</a></li> <li class=\"btn_share\" id=\"2b5e398f-8f96-4798-8b55-8abdaa53345f\"><a href=\"javascript:\" onclick='getShareInfo(\"%EB%B4%84%EC%9D%B4%20%EC%95%84%EB%8B%88%EC%96%B4%EB%8F%84%20%EC%B9%9C%ED%95%98%EA%B2%8C%20%EC%A7%84%ED%95%B4.%20%EA%B0%90%EC%84%B1%EC%B6%A9%EB%A7%8C%20%EC%A7%84%ED%95%B4%3C!HS%3E%EC%97%AC%ED%96%89%3C!HE%3E%20%EC%BD%94%EC%8A%A4\",\"109f746b-d1c6-4277-99e2-bb0fd30107e3\",\"2b5e398f-8f96-4798-8b55-8abdaa53345f\",\"304\");'>공유하기</a></li> </ul></div></li><li class=\"bdr_nor\"><div class=\"photo\"><a href=\"javascript:\" onclick='goDetail(\"304\",\"f2b00234-14ce-4018-8b07-2fd8836eae81\")'><img alt=\"한국관광공사 추천 5월 걷기여행길, 유네스코 세계문화유산 산사 걷기길\" src=\"https://cdn.visitkorea.or.kr/img/call?cmd=VIEW&amp;id=4d6a523c-7be8-4408-a87c-11cf508bdb78\"/></a></div><div class=\"area_txt\"> <div class=\"tit\"> <a href=\"javascript:\" onclick='goDetail(\"304\",\"f2b00234-14ce-4018-8b07-2fd8836eae81\")'>한국관광공사 추천 5월 걷기<!--HS-->여행<!--HE-->길, 유네스코 세계문화유산 산사 걷기길</a> </div> <p>전국</p> <p class=\"tag\"><span>#걷기여행길</span><span>#5월걷기여행길</span><span>#트레킹코스</span><span>#관광공사추천_5월걷기여행길</span><span>#5월_걷기여행길</span> </p></div><button class=\"btn_view\" title=\"내용 더보기\" type=\"button\">더보기</button><div class=\"pop_subMenu\"> <ul> <li class=\"btn_far\"><a href=\"javascript:\" onclick='setFavoContent(\"f2b00234-14ce-4018-8b07-2fd8836eae81\")'>즐겨찾기</a></li> <li class=\"btn_share\" id=\"f2b00234-14ce-4018-8b07-2fd8836eae81\"><a href=\"javascript:\" onclick='getShareInfo(\"%ED%95%9C%EA%B5%AD%EA%B4%80%EA%B4%91%EA%B3%B5%EC%82%AC%20%EC%B6%94%EC%B2%9C%205%EC%9B%94%20%EA%B1%B7%EA%B8%B0%3C!HS%3E%EC%97%AC%ED%96%89%3C!HE%3E%EA%B8%B8%2C%20%EC%9C%A0%EB%84%A4%EC%8A%A4%EC%BD%94%20%EC%84%B8%EA%B3%84%EB%AC%B8%ED%99%94%EC%9C%A0%EC%82%B0%20%EC%82%B0%EC%82%AC%20%EA%B1%B7%EA%B8%B0%EA%B8%B8\",\"4d6a523c-7be8-4408-a87c-11cf508bdb78\",\"f2b00234-14ce-4018-8b07-2fd8836eae81\",\"304\");'>공유하기</a></li> </ul></div></li><li class=\"bdr_nor\"><div class=\"photo\"><a href=\"javascript:\" onclick='goDetail(\"304\",\"e1ddc475-900b-4828-8cbf-22c5de32b7d6\")'><img alt=\"[지역명사와 함께하는 문화여행] &lt;br&gt;고판화에 미친 사람, 한선학 명사\" src=\"https://cdn.visitkorea.or.kr/img/call?cmd=VIEW&amp;id=a1bbd202-42db-46b8-9b32-241c424c8d2e\"/></a></div><div class=\"area_txt\"> <div class=\"tit\"> <a href=\"javascript:\" onclick='goDetail(\"304\",\"e1ddc475-900b-4828-8cbf-22c5de32b7d6\")'>[지역명사와 함께하는 문화<!--HS-->여행<!--HE-->] <br/>고판화에 미친 사람, 한선학 명사</a> </div> <p>강원도 원주시</p> <p class=\"tag\"><span>#지역명사와_함께하는_문화여행</span><span>#원주</span><span>#한선학명사</span> </p></div><button class=\"btn_view\" title=\"내용 더보기\" type=\"button\">더보기</button><div class=\"pop_subMenu\"> <ul> <li class=\"btn_far\"><a href=\"javascript:\" onclick='setFavoContent(\"e1ddc475-900b-4828-8cbf-22c5de32b7d6\")'>즐겨찾기</a></li> <li class=\"btn_share\" id=\"e1ddc475-900b-4828-8cbf-22c5de32b7d6\"><a href=\"javascript:\" onclick='getShareInfo(\"%5B%EC%A7%80%EC%97%AD%EB%AA%85%EC%82%AC%EC%99%80%20%ED%95%A8%EA%BB%98%ED%95%98%EB%8A%94%20%EB%AC%B8%ED%99%94%3C!HS%3E%EC%97%AC%ED%96%89%3C!HE%3E%5D%20%3Cbr%3E%EA%B3%A0%ED%8C%90%ED%99%94%EC%97%90%20%EB%AF%B8%EC%B9%9C%20%EC%82%AC%EB%9E%8C%2C%20%ED%95%9C%EC%84%A0%ED%95%99%20%EB%AA%85%EC%82%AC\",\"a1bbd202-42db-46b8-9b32-241c424c8d2e\",\"e1ddc475-900b-4828-8cbf-22c5de32b7d6\",\"304\");'>공유하기</a></li> </ul></div></li><li class=\"bdr_nor\"><div class=\"photo\"><a href=\"javascript:\" onclick='goDetail(\"304\",\"fe0c20bd-1e43-411d-8368-043582a79a0b\")'><img alt=\"전어·꽃게·대하 가을 별미 삼총사와 함께한 서해안 가을 여행\" src=\"https://cdn.visitkorea.or.kr/img/call?cmd=VIEW&amp;id=bc872aa0-9c96-4ef1-9a34-2d0d95cfd157\"/></a></div><div class=\"area_txt\"> <div class=\"tit\"> <a href=\"javascript:\" onclick='goDetail(\"304\",\"fe0c20bd-1e43-411d-8368-043582a79a0b\")'>전어·꽃게·대하 가을 별미 삼총사와 함께한 서해안 가을 <!--HS-->여행<!--HE--></a> </div> <p>충청남도 서천군</p> <p class=\"tag\"><span>#공공누리</span><span>#가을축제/행사</span><span>#가을제철먹거리</span><span>#가을제철음식</span><span>#가을가볼만한곳</span><span>#서해안가볼만한곳</span><span>#먹방여행</span><span>#구석구석미식회</span> </p></div><button class=\"btn_view\" title=\"내용 더보기\" type=\"button\">더보기</button><div class=\"pop_subMenu\"> <ul> <li class=\"btn_far\"><a href=\"javascript:\" onclick='setFavoContent(\"fe0c20bd-1e43-411d-8368-043582a79a0b\")'>즐겨찾기</a></li> <li class=\"btn_share\" id=\"fe0c20bd-1e43-411d-8368-043582a79a0b\"><a href=\"javascript:\" onclick='getShareInfo(\"%EC%A0%84%EC%96%B4%C2%B7%EA%BD%83%EA%B2%8C%C2%B7%EB%8C%80%ED%95%98%20%EA%B0%80%EC%9D%84%20%EB%B3%84%EB%AF%B8%20%EC%82%BC%EC%B4%9D%EC%82%AC%EC%99%80%20%ED%95%A8%EA%BB%98%ED%95%9C%20%EC%84%9C%ED%95%B4%EC%95%88%20%EA%B0%80%EC%9D%84%20%3C!HS%3E%EC%97%AC%ED%96%89%3C!HE%3E\",\"bc872aa0-9c96-4ef1-9a34-2d0d95cfd157\",\"fe0c20bd-1e43-411d-8368-043582a79a0b\",\"304\");'>공유하기</a></li> </ul></div></li><li class=\"bdr_nor\"><div class=\"photo\"><a href=\"javascript:\" onclick='goDetail(\"304\",\"1eb88520-d224-4bbe-abcc-50ba04262f25\")'><img alt=\"[인천] 뚜벅이 알뜰여행의 베이스캠프, 인천 '호텔 아띠'\" src=\"https://cdn.visitkorea.or.kr/img/call?cmd=VIEW&amp;id=77d73ec8-21fc-49aa-954e-a420c4b0ef87\"/></a></div><div class=\"area_txt\"> <div class=\"tit\"> <a href=\"javascript:\" onclick='goDetail(\"304\",\"1eb88520-d224-4bbe-abcc-50ba04262f25\")'>[인천] 뚜벅이 알뜰<!--HS-->여행<!--HE-->의 베이스캠프, 인천 '호텔 아띠'</a> </div> <p>인천 중구</p> <p class=\"tag\"><span>#한국관광품질인증</span><span>#여행Q레이터</span><span>#여행Q레이터체험기</span><span>#추천숙박</span><span>#체험기</span><span>#호텔아띠</span><span>#여행자의방</span> </p></div><button class=\"btn_view\" title=\"내용 더보기\" type=\"button\">더보기</button><div class=\"pop_subMenu\"> <ul> <li class=\"btn_far\"><a href=\"javascript:\" onclick='setFavoContent(\"1eb88520-d224-4bbe-abcc-50ba04262f25\")'>즐겨찾기</a></li> <li class=\"btn_share\" id=\"1eb88520-d224-4bbe-abcc-50ba04262f25\"><a href=\"javascript:\" onclick='getShareInfo(\"%5B%EC%9D%B8%EC%B2%9C%5D%20%EB%9A%9C%EB%B2%85%EC%9D%B4%20%EC%95%8C%EB%9C%B0%3C!HS%3E%EC%97%AC%ED%96%89%3C!HE%3E%EC%9D%98%20%EB%B2%A0%EC%9D%B4%EC%8A%A4%EC%BA%A0%ED%94%84%2C%20%EC%9D%B8%EC%B2%9C%20%26%2339%3B%ED%98%B8%ED%85%94%20%EC%95%84%EB%9D%A0%26%2339%3B\",\"77d73ec8-21fc-49aa-954e-a420c4b0ef87\",\"1eb88520-d224-4bbe-abcc-50ba04262f25\",\"304\");'>공유하기</a></li> </ul></div></li><li class=\"bdr_nor\"><div class=\"photo\"><a href=\"javascript:\" onclick='goDetail(\"304\",\"2ca827d3-4d64-4cf6-a2e6-994458e87b9f\")'><img alt=\"가족여행으로 딱! 문경 겨울 여행\" src=\"https://cdn.visitkorea.or.kr/img/call?cmd=VIEW&amp;id=18c216fb-4017-4bb4-819e-c25326d3bdb8\"/></a></div><div class=\"area_txt\"> <div class=\"tit\"> <a href=\"javascript:\" onclick='goDetail(\"304\",\"2ca827d3-4d64-4cf6-a2e6-994458e87b9f\")'>가족<!--HS-->여행<!--HE-->으로 딱! 문경 겨울 <!--HS-->여행<!--HE--></a> </div> <p>경상북도 문경시</p> <p class=\"tag\"><span>#문경여행</span><span>#문경가볼만한곳</span><span>#가족여행</span><span>#세구기매운탕</span><span>#가나다라브루어리</span><span>#고모산성</span><span>#에코랄라</span> </p></div><button class=\"btn_view\" title=\"내용 더보기\" type=\"button\">더보기</button><div class=\"pop_subMenu\"> <ul> <li class=\"btn_far\"><a href=\"javascript:\" onclick='setFavoContent(\"2ca827d3-4d64-4cf6-a2e6-994458e87b9f\")'>즐겨찾기</a></li> <li class=\"btn_share\" id=\"2ca827d3-4d64-4cf6-a2e6-994458e87b9f\"><a href=\"javascript:\" onclick='getShareInfo(\"%EA%B0%80%EC%A1%B1%3C!HS%3E%EC%97%AC%ED%96%89%3C!HE%3E%EC%9C%BC%EB%A1%9C%20%EB%94%B1!%20%EB%AC%B8%EA%B2%BD%20%EA%B2%A8%EC%9A%B8%20%3C!HS%3E%EC%97%AC%ED%96%89%3C!HE%3E\",\"18c216fb-4017-4bb4-819e-c25326d3bdb8\",\"2ca827d3-4d64-4cf6-a2e6-994458e87b9f\",\"304\");'>공유하기</a></li> </ul></div></li></ul>]"
      ]
     },
     "execution_count": 14,
     "metadata": {},
     "output_type": "execute_result"
    }
   ],
   "source": [
    "content_list = soup.select('#contents > div > div.box_leftType1 > ul')\n",
    "content_list"
   ]
  },
  {
   "cell_type": "code",
   "execution_count": 16,
   "metadata": {},
   "outputs": [],
   "source": [
    "lis = content_list[0].select('li')"
   ]
  },
  {
   "cell_type": "code",
   "execution_count": 19,
   "metadata": {
    "collapsed": true
   },
   "outputs": [
    {
     "name": "stdout",
     "output_type": "stream",
     "text": [
      "  [8월 걷기여행길9선] 금강 위에 피어나는 노을, 노을 위에 뜬 달, 충북 영동군 양산팔경금강둘레길  충청북도 영동군 #걷기여행길 더보기  즐겨찾기 공유하기 \n",
      "\n",
      "즐겨찾기\n",
      "\n",
      "공유하기\n",
      "\n",
      "  [일주일 살아보기 시즌 2] 은퇴 후 첫 여행, 아내와 단둘이 남해로  경상남도 남해군 #일주일살아보기여행#가족과함께#남해여행#남해가볼만한곳#일주일살아보기_시즌2#9월가볼만한곳 더보기  즐겨찾기 공유하기 \n",
      "\n",
      "즐겨찾기\n",
      "\n",
      "공유하기\n",
      "\n",
      "  시간 여행 하는 화산 돌멩이를 찾아서, 한탄강지질공원  경기도  #한탄강지질공원#재인폭포#고대산자연휴양림#당포성#임진강#주상절리#전곡리토층전시관#전곡선사박물관#산정호수#비둘기낭폭포#추천가볼만한곳#경기도가볼만한곳#경기도당일코스#경기도1박2일코스#포천가볼만한곳#연천가볼만한곳#가족여행#4월추천가볼만한곳#2018년4월추천가볼만한곳 더보기  즐겨찾기 공유하기 \n",
      "\n",
      "즐겨찾기\n",
      "\n",
      "공유하기\n",
      "\n",
      "  감각이 살아나는 정선 화암동굴 여행  강원도 정선군 #생태관광#생태여행코스#2020생태테마사업#2020생태테마관광지#생태테마사업#정선화암동굴#그림바위미술마을#정선향토박물관#천포금광촌 더보기  즐겨찾기 공유하기 \n",
      "\n",
      "즐겨찾기\n",
      "\n",
      "공유하기\n",
      "\n",
      "  봄이 아니어도 친하게 진해. 감성충만 진해여행 코스  경상남도 창원시 #진해여행코스#소사동마을#진해가볼만한곳#창원여행#진해여행#진해해양공원#진해보타닉뮤지엄#원해루#제황산#제황산모노레일#진해탑#안민고개#초여름_더욱_빛나는 더보기  즐겨찾기 공유하기 \n",
      "\n",
      "즐겨찾기\n",
      "\n",
      "공유하기\n",
      "\n",
      "  한국관광공사 추천 5월 걷기여행길, 유네스코 세계문화유산 산사 걷기길  전국 #걷기여행길#5월걷기여행길#트레킹코스#관광공사추천_5월걷기여행길#5월_걷기여행길 더보기  즐겨찾기 공유하기 \n",
      "\n",
      "즐겨찾기\n",
      "\n",
      "공유하기\n",
      "\n",
      "  [지역명사와 함께하는 문화여행] 고판화에 미친 사람, 한선학 명사  강원도 원주시 #지역명사와_함께하는_문화여행#원주#한선학명사 더보기  즐겨찾기 공유하기 \n",
      "\n",
      "즐겨찾기\n",
      "\n",
      "공유하기\n",
      "\n",
      "  전어·꽃게·대하 가을 별미 삼총사와 함께한 서해안 가을 여행  충청남도 서천군 #공공누리#가을축제/행사#가을제철먹거리#가을제철음식#가을가볼만한곳#서해안가볼만한곳#먹방여행#구석구석미식회 더보기  즐겨찾기 공유하기 \n",
      "\n",
      "즐겨찾기\n",
      "\n",
      "공유하기\n",
      "\n",
      "  [인천] 뚜벅이 알뜰여행의 베이스캠프, 인천 '호텔 아띠'  인천 중구 #한국관광품질인증#여행Q레이터#여행Q레이터체험기#추천숙박#체험기#호텔아띠#여행자의방 더보기  즐겨찾기 공유하기 \n",
      "\n",
      "즐겨찾기\n",
      "\n",
      "공유하기\n",
      "\n",
      "  가족여행으로 딱! 문경 겨울 여행  경상북도 문경시 #문경여행#문경가볼만한곳#가족여행#세구기매운탕#가나다라브루어리#고모산성#에코랄라 더보기  즐겨찾기 공유하기 \n",
      "\n",
      "즐겨찾기\n",
      "\n",
      "공유하기\n",
      "\n"
     ]
    }
   ],
   "source": [
    "for li in lis:\n",
    "    print(li.text)\n",
    "    print('='*30)"
   ]
  },
  {
   "cell_type": "code",
   "execution_count": 21,
   "metadata": {
    "collapsed": true
   },
   "outputs": [
    {
     "name": "stdout",
     "output_type": "stream",
     "text": [
      "  [8월 걷기여행길9선] 금강 위에 피어나는 노을, 노을 위에 뜬 달, 충북 영동군 양산팔경금강둘레길  충청북도 영동군 #걷기여행길 더보기  즐겨찾기 공유하기 \n",
      "==============================\n",
      "  [일주일 살아보기 시즌 2] 은퇴 후 첫 여행, 아내와 단둘이 남해로  경상남도 남해군 #일주일살아보기여행#가족과함께#남해여행#남해가볼만한곳#일주일살아보기_시즌2#9월가볼만한곳 더보기  즐겨찾기 공유하기 \n",
      "==============================\n",
      "  시간 여행 하는 화산 돌멩이를 찾아서, 한탄강지질공원  경기도  #한탄강지질공원#재인폭포#고대산자연휴양림#당포성#임진강#주상절리#전곡리토층전시관#전곡선사박물관#산정호수#비둘기낭폭포#추천가볼만한곳#경기도가볼만한곳#경기도당일코스#경기도1박2일코스#포천가볼만한곳#연천가볼만한곳#가족여행#4월추천가볼만한곳#2018년4월추천가볼만한곳 더보기  즐겨찾기 공유하기 \n",
      "==============================\n",
      "  감각이 살아나는 정선 화암동굴 여행  강원도 정선군 #생태관광#생태여행코스#2020생태테마사업#2020생태테마관광지#생태테마사업#정선화암동굴#그림바위미술마을#정선향토박물관#천포금광촌 더보기  즐겨찾기 공유하기 \n",
      "==============================\n",
      "  봄이 아니어도 친하게 진해. 감성충만 진해여행 코스  경상남도 창원시 #진해여행코스#소사동마을#진해가볼만한곳#창원여행#진해여행#진해해양공원#진해보타닉뮤지엄#원해루#제황산#제황산모노레일#진해탑#안민고개#초여름_더욱_빛나는 더보기  즐겨찾기 공유하기 \n",
      "==============================\n",
      "  한국관광공사 추천 5월 걷기여행길, 유네스코 세계문화유산 산사 걷기길  전국 #걷기여행길#5월걷기여행길#트레킹코스#관광공사추천_5월걷기여행길#5월_걷기여행길 더보기  즐겨찾기 공유하기 \n",
      "==============================\n",
      "  [지역명사와 함께하는 문화여행] 고판화에 미친 사람, 한선학 명사  강원도 원주시 #지역명사와_함께하는_문화여행#원주#한선학명사 더보기  즐겨찾기 공유하기 \n",
      "==============================\n",
      "  전어·꽃게·대하 가을 별미 삼총사와 함께한 서해안 가을 여행  충청남도 서천군 #공공누리#가을축제/행사#가을제철먹거리#가을제철음식#가을가볼만한곳#서해안가볼만한곳#먹방여행#구석구석미식회 더보기  즐겨찾기 공유하기 \n",
      "==============================\n",
      "  [인천] 뚜벅이 알뜰여행의 베이스캠프, 인천 '호텔 아띠'  인천 중구 #한국관광품질인증#여행Q레이터#여행Q레이터체험기#추천숙박#체험기#호텔아띠#여행자의방 더보기  즐겨찾기 공유하기 \n",
      "==============================\n",
      "  가족여행으로 딱! 문경 겨울 여행  경상북도 문경시 #문경여행#문경가볼만한곳#가족여행#세구기매운탕#가나다라브루어리#고모산성#에코랄라 더보기  즐겨찾기 공유하기 \n",
      "==============================\n"
     ]
    }
   ],
   "source": [
    "for i in range(0,len(lis),3):\n",
    "    print(lis[i].text)\n",
    "    print('='*30)"
   ]
  },
  {
   "cell_type": "code",
   "execution_count": 27,
   "metadata": {
    "collapsed": true
   },
   "outputs": [
    {
     "name": "stdout",
     "output_type": "stream",
     "text": [
      "[8월 걷기여행길9선] 금강 위에 피어나는 노을, 노을 위에 뜬 달, 충북 영동군 양산팔경금강둘레길\n",
      "==============================\n",
      "[일주일 살아보기 시즌 2] 은퇴 후 첫 여행, 아내와 단둘이 남해로\n",
      "==============================\n",
      "시간 여행 하는 화산 돌멩이를 찾아서, 한탄강지질공원\n",
      "==============================\n",
      "감각이 살아나는 정선 화암동굴 여행\n",
      "==============================\n",
      "봄이 아니어도 친하게 진해. 감성충만 진해여행 코스\n",
      "==============================\n",
      "한국관광공사 추천 5월 걷기여행길, 유네스코 세계문화유산 산사 걷기길\n",
      "==============================\n",
      "[지역명사와 함께하는 문화여행] 고판화에 미친 사람, 한선학 명사\n",
      "==============================\n",
      "전어·꽃게·대하 가을 별미 삼총사와 함께한 서해안 가을 여행\n",
      "==============================\n",
      "[인천] 뚜벅이 알뜰여행의 베이스캠프, 인천 '호텔 아띠'\n",
      "==============================\n",
      "가족여행으로 딱! 문경 겨울 여행\n",
      "==============================\n"
     ]
    }
   ],
   "source": [
    "for i in range(0,len(lis),3):\n",
    "    print(lis[i].select('div.tit > a')[0].text)\n",
    "    print('='*30)"
   ]
  },
  {
   "cell_type": "code",
   "execution_count": 31,
   "metadata": {
    "collapsed": true
   },
   "outputs": [
    {
     "name": "stdout",
     "output_type": "stream",
     "text": [
      "제목:  [8월 걷기여행길9선] 금강 위에 피어나는 노을, 노을 위에 뜬 달, 충북 영동군 양산팔경금강둘레길\n",
      "지역:  충청북도 영동군\n",
      "지역:  #걷기여행길 \n",
      "==============================\n",
      "제목:  [일주일 살아보기 시즌 2] 은퇴 후 첫 여행, 아내와 단둘이 남해로\n",
      "지역:  경상남도 남해군\n",
      "지역:  #일주일살아보기여행#가족과함께#남해여행#남해가볼만한곳#일주일살아보기_시즌2#9월가볼만한곳 \n",
      "==============================\n",
      "제목:  시간 여행 하는 화산 돌멩이를 찾아서, 한탄강지질공원\n",
      "지역:  경기도 \n",
      "지역:  #한탄강지질공원#재인폭포#고대산자연휴양림#당포성#임진강#주상절리#전곡리토층전시관#전곡선사박물관#산정호수#비둘기낭폭포#추천가볼만한곳#경기도가볼만한곳#경기도당일코스#경기도1박2일코스#포천가볼만한곳#연천가볼만한곳#가족여행#4월추천가볼만한곳#2018년4월추천가볼만한곳 \n",
      "==============================\n",
      "제목:  감각이 살아나는 정선 화암동굴 여행\n",
      "지역:  강원도 정선군\n",
      "지역:  #생태관광#생태여행코스#2020생태테마사업#2020생태테마관광지#생태테마사업#정선화암동굴#그림바위미술마을#정선향토박물관#천포금광촌 \n",
      "==============================\n",
      "제목:  봄이 아니어도 친하게 진해. 감성충만 진해여행 코스\n",
      "지역:  경상남도 창원시\n",
      "지역:  #진해여행코스#소사동마을#진해가볼만한곳#창원여행#진해여행#진해해양공원#진해보타닉뮤지엄#원해루#제황산#제황산모노레일#진해탑#안민고개#초여름_더욱_빛나는 \n",
      "==============================\n",
      "제목:  한국관광공사 추천 5월 걷기여행길, 유네스코 세계문화유산 산사 걷기길\n",
      "지역:  전국\n",
      "지역:  #걷기여행길#5월걷기여행길#트레킹코스#관광공사추천_5월걷기여행길#5월_걷기여행길 \n",
      "==============================\n",
      "제목:  [지역명사와 함께하는 문화여행] 고판화에 미친 사람, 한선학 명사\n",
      "지역:  강원도 원주시\n",
      "지역:  #지역명사와_함께하는_문화여행#원주#한선학명사 \n",
      "==============================\n",
      "제목:  전어·꽃게·대하 가을 별미 삼총사와 함께한 서해안 가을 여행\n",
      "지역:  충청남도 서천군\n",
      "지역:  #공공누리#가을축제/행사#가을제철먹거리#가을제철음식#가을가볼만한곳#서해안가볼만한곳#먹방여행#구석구석미식회 \n",
      "==============================\n",
      "제목:  [인천] 뚜벅이 알뜰여행의 베이스캠프, 인천 '호텔 아띠'\n",
      "지역:  인천 중구\n",
      "지역:  #한국관광품질인증#여행Q레이터#여행Q레이터체험기#추천숙박#체험기#호텔아띠#여행자의방 \n",
      "==============================\n",
      "제목:  가족여행으로 딱! 문경 겨울 여행\n",
      "지역:  경상북도 문경시\n",
      "지역:  #문경여행#문경가볼만한곳#가족여행#세구기매운탕#가나다라브루어리#고모산성#에코랄라 \n",
      "==============================\n"
     ]
    }
   ],
   "source": [
    "for i in range(0,len(lis),3):\n",
    "    print('제목: ', lis[i].select('div.tit > a')[0].text)\n",
    "    print('지역: ', lis[i].select('div.area_txt > p')[0].text)\n",
    "    print('태그: ', lis[i].select('div.area_txt > p.tag')[0].text)\n",
    "    print('='*30)"
   ]
  },
  {
   "cell_type": "code",
   "execution_count": 29,
   "metadata": {},
   "outputs": [],
   "source": [
    "# 검색할 키워드를 입력받은 후, 관광공사 사이트에서 검색 결과의 제목과 지역, 태그 정보를 크롤링하도록 함수 생성"
   ]
  },
  {
   "cell_type": "code",
   "execution_count": 47,
   "metadata": {},
   "outputs": [],
   "source": [
    "def crawl_visitkorea():\n",
    "    search_text = input('크롤링할 키워드 입력: ')\n",
    "    driver = webdriver.Chrome('./chromedriver')\n",
    "    driver.set_window_size(800, 1000)\n",
    "    driver.get('https://korean.visitkorea.or.kr')\n",
    "    time.sleep(3)\n",
    "    driver.find_element_by_id('chkForm01').click()\n",
    "\n",
    "    elem = driver.find_element_by_class_name('inp_search')\n",
    "    elem.send_keys(search_text)\n",
    "    driver.find_element_by_class_name('btn_search2').click()\n",
    "    html = driver.page_source\n",
    "    soup = bs(html, 'html.parser')\n",
    "    content_list = soup.select('#contents > div > div.box_leftType1 > ul')\n",
    "    lis = content_list[0].select('li')\n",
    "\n",
    "    for i in range(0,len(lis),3):\n",
    "        print('제목: ', lis[i].select('div.tit > a')[0].text)\n",
    "        print('지역: ', lis[i].select('div.area_txt > p')[0].text)\n",
    "        print('태그: ', lis[i].select('div.area_txt > p > span')[0].text)\n",
    "        print('='*40)\n",
    "    \n",
    "    time.sleep(3)\n",
    "    driver.quit()"
   ]
  },
  {
   "cell_type": "code",
   "execution_count": 59,
   "metadata": {},
   "outputs": [],
   "source": [
    "def crawl_visitkorea():\n",
    "    search_text = input('크롤링할 키워드 입력: ')\n",
    "    driver = webdriver.Chrome('./chromedriver')\n",
    "    driver.set_window_size(800, 1000)\n",
    "    driver.get('https://korean.visitkorea.or.kr')\n",
    "    time.sleep(3)\n",
    "    driver.find_element_by_id('chkForm01').click()\n",
    "\n",
    "    elem = driver.find_element_by_class_name('inp_search')\n",
    "    elem.send_keys(search_text)\n",
    "    driver.find_element_by_class_name('btn_search2').click()\n",
    "    html = driver.page_source\n",
    "    soup = bs(html, 'html.parser')\n",
    "    content_list = soup.select('#contents > div > div.box_leftType1 > ul')\n",
    "    lis = content_list[0].select('li')\n",
    "\n",
    "    for i in range(0,len(lis),3):\n",
    "        print('제목: ', lis[i].select('div.tit > a')[0].text)\n",
    "        print('지역: ', lis[i].select('div.area_txt > p')[0].text)\n",
    "        print('태그: ', lis[i].select('div.area_txt > p > span')[0].text)\n",
    "        print('='*40)\n",
    "    \n",
    "    title_list = []\n",
    "    area_list = []\n",
    "    tag_list = []\n",
    "    \n",
    "    for i in range(0,len(lis),3):\n",
    "        title_list.append(lis[i].select('div.tit > a')[0].text)\n",
    "        area_list.append(lis[i].select('div.area_txt > p')[0].text)\n",
    "        tag_list.append(lis[i].select('div.area_txt > p > span')[0].text)\n",
    "        \n",
    "    visit_d = {}\n",
    "    visit_d['title'] = title_list\n",
    "    visit_d['area'] = area_list\n",
    "    visit_d['tag'] = tag_list\n",
    "    \n",
    "    with open('visit_{}.txt'.format(search_text), 'w') as f:\n",
    "        for i in range(0,len(lis),3):\n",
    "            f.write((lis[i].select('div.tit > a')[0].text)+'\\n')\n",
    "            f.write((lis[i].select('div.area_txt > p')[0].text)+'\\n')\n",
    "            f.write((lis[i].select('div.area_txt > p > span')[0].text)+'\\n')\n",
    "    \n",
    "    time.sleep(3)\n",
    "    driver.quit()\n",
    "    \n",
    "    return visit_d"
   ]
  },
  {
   "cell_type": "code",
   "execution_count": 60,
   "metadata": {
    "collapsed": true
   },
   "outputs": [
    {
     "name": "stdout",
     "output_type": "stream",
     "text": [
      "크롤링할 키워드 입력: 여행\n",
      "제목:  [8월 걷기여행길9선] 금강 위에 피어나는 노을, 노을 위에 뜬 달, 충북 영동군 양산팔경금강둘레길\n",
      "지역:  충청북도 영동군\n",
      "태그:  #걷기여행길\n",
      "========================================\n",
      "제목:  [일주일 살아보기 시즌 2] 은퇴 후 첫 여행, 아내와 단둘이 남해로\n",
      "지역:  경상남도 남해군\n",
      "태그:  #일주일살아보기여행\n",
      "========================================\n",
      "제목:  시간 여행 하는 화산 돌멩이를 찾아서, 한탄강지질공원\n",
      "지역:  경기도 \n",
      "태그:  #한탄강지질공원\n",
      "========================================\n",
      "제목:  감각이 살아나는 정선 화암동굴 여행\n",
      "지역:  강원도 정선군\n",
      "태그:  #생태관광\n",
      "========================================\n",
      "제목:  봄이 아니어도 친하게 진해. 감성충만 진해여행 코스\n",
      "지역:  경상남도 창원시\n",
      "태그:  #진해여행코스\n",
      "========================================\n",
      "제목:  한국관광공사 추천 5월 걷기여행길, 유네스코 세계문화유산 산사 걷기길\n",
      "지역:  전국\n",
      "태그:  #걷기여행길\n",
      "========================================\n",
      "제목:  [지역명사와 함께하는 문화여행] 고판화에 미친 사람, 한선학 명사\n",
      "지역:  강원도 원주시\n",
      "태그:  #지역명사와_함께하는_문화여행\n",
      "========================================\n",
      "제목:  전어·꽃게·대하 가을 별미 삼총사와 함께한 서해안 가을 여행\n",
      "지역:  충청남도 서천군\n",
      "태그:  #공공누리\n",
      "========================================\n",
      "제목:  [인천] 뚜벅이 알뜰여행의 베이스캠프, 인천 '호텔 아띠'\n",
      "지역:  인천 중구\n",
      "태그:  #한국관광품질인증\n",
      "========================================\n",
      "제목:  가족여행으로 딱! 문경 겨울 여행\n",
      "지역:  경상북도 문경시\n",
      "태그:  #문경여행\n",
      "========================================\n"
     ]
    }
   ],
   "source": [
    "visit_d = crawl_visitkorea()"
   ]
  },
  {
   "cell_type": "code",
   "execution_count": 55,
   "metadata": {
    "collapsed": true
   },
   "outputs": [
    {
     "data": {
      "text/plain": [
       "{'title': ['[8월 걷기여행길9선] 금강 위에 피어나는 노을, 노을 위에 뜬 달, 충북 영동군 양산팔경금강둘레길',\n",
       "  '[일주일 살아보기 시즌 2] 은퇴 후 첫 여행, 아내와 단둘이 남해로',\n",
       "  '시간 여행 하는 화산 돌멩이를 찾아서, 한탄강지질공원',\n",
       "  '감각이 살아나는 정선 화암동굴 여행',\n",
       "  '봄이 아니어도 친하게 진해. 감성충만 진해여행 코스',\n",
       "  '한국관광공사 추천 5월 걷기여행길, 유네스코 세계문화유산 산사 걷기길',\n",
       "  '[지역명사와 함께하는 문화여행] 고판화에 미친 사람, 한선학 명사',\n",
       "  '전어·꽃게·대하 가을 별미 삼총사와 함께한 서해안 가을 여행',\n",
       "  \"[인천] 뚜벅이 알뜰여행의 베이스캠프, 인천 '호텔 아띠'\",\n",
       "  '가족여행으로 딱! 문경 겨울 여행'],\n",
       " 'area': ['충청북도 영동군',\n",
       "  '경상남도 남해군',\n",
       "  '경기도 ',\n",
       "  '강원도 정선군',\n",
       "  '경상남도 창원시',\n",
       "  '전국',\n",
       "  '강원도 원주시',\n",
       "  '충청남도 서천군',\n",
       "  '인천 중구',\n",
       "  '경상북도 문경시'],\n",
       " 'tag': ['#걷기여행길',\n",
       "  '#일주일살아보기여행',\n",
       "  '#한탄강지질공원',\n",
       "  '#생태관광',\n",
       "  '#진해여행코스',\n",
       "  '#걷기여행길',\n",
       "  '#지역명사와_함께하는_문화여행',\n",
       "  '#공공누리',\n",
       "  '#한국관광품질인증',\n",
       "  '#문경여행']}"
      ]
     },
     "execution_count": 55,
     "metadata": {},
     "output_type": "execute_result"
    }
   ],
   "source": [
    "visit_d"
   ]
  },
  {
   "cell_type": "code",
   "execution_count": 56,
   "metadata": {
    "collapsed": true
   },
   "outputs": [
    {
     "data": {
      "text/html": [
       "<div>\n",
       "<style scoped>\n",
       "    .dataframe tbody tr th:only-of-type {\n",
       "        vertical-align: middle;\n",
       "    }\n",
       "\n",
       "    .dataframe tbody tr th {\n",
       "        vertical-align: top;\n",
       "    }\n",
       "\n",
       "    .dataframe thead th {\n",
       "        text-align: right;\n",
       "    }\n",
       "</style>\n",
       "<table border=\"1\" class=\"dataframe\">\n",
       "  <thead>\n",
       "    <tr style=\"text-align: right;\">\n",
       "      <th></th>\n",
       "      <th>title</th>\n",
       "      <th>area</th>\n",
       "      <th>tag</th>\n",
       "    </tr>\n",
       "  </thead>\n",
       "  <tbody>\n",
       "    <tr>\n",
       "      <th>0</th>\n",
       "      <td>[8월 걷기여행길9선] 금강 위에 피어나는 노을, 노을 위에 뜬 달, 충북 영동군 ...</td>\n",
       "      <td>충청북도 영동군</td>\n",
       "      <td>#걷기여행길</td>\n",
       "    </tr>\n",
       "    <tr>\n",
       "      <th>1</th>\n",
       "      <td>[일주일 살아보기 시즌 2] 은퇴 후 첫 여행, 아내와 단둘이 남해로</td>\n",
       "      <td>경상남도 남해군</td>\n",
       "      <td>#일주일살아보기여행</td>\n",
       "    </tr>\n",
       "    <tr>\n",
       "      <th>2</th>\n",
       "      <td>시간 여행 하는 화산 돌멩이를 찾아서, 한탄강지질공원</td>\n",
       "      <td>경기도</td>\n",
       "      <td>#한탄강지질공원</td>\n",
       "    </tr>\n",
       "    <tr>\n",
       "      <th>3</th>\n",
       "      <td>감각이 살아나는 정선 화암동굴 여행</td>\n",
       "      <td>강원도 정선군</td>\n",
       "      <td>#생태관광</td>\n",
       "    </tr>\n",
       "    <tr>\n",
       "      <th>4</th>\n",
       "      <td>봄이 아니어도 친하게 진해. 감성충만 진해여행 코스</td>\n",
       "      <td>경상남도 창원시</td>\n",
       "      <td>#진해여행코스</td>\n",
       "    </tr>\n",
       "    <tr>\n",
       "      <th>5</th>\n",
       "      <td>한국관광공사 추천 5월 걷기여행길, 유네스코 세계문화유산 산사 걷기길</td>\n",
       "      <td>전국</td>\n",
       "      <td>#걷기여행길</td>\n",
       "    </tr>\n",
       "    <tr>\n",
       "      <th>6</th>\n",
       "      <td>[지역명사와 함께하는 문화여행] 고판화에 미친 사람, 한선학 명사</td>\n",
       "      <td>강원도 원주시</td>\n",
       "      <td>#지역명사와_함께하는_문화여행</td>\n",
       "    </tr>\n",
       "    <tr>\n",
       "      <th>7</th>\n",
       "      <td>전어·꽃게·대하 가을 별미 삼총사와 함께한 서해안 가을 여행</td>\n",
       "      <td>충청남도 서천군</td>\n",
       "      <td>#공공누리</td>\n",
       "    </tr>\n",
       "    <tr>\n",
       "      <th>8</th>\n",
       "      <td>[인천] 뚜벅이 알뜰여행의 베이스캠프, 인천 '호텔 아띠'</td>\n",
       "      <td>인천 중구</td>\n",
       "      <td>#한국관광품질인증</td>\n",
       "    </tr>\n",
       "    <tr>\n",
       "      <th>9</th>\n",
       "      <td>가족여행으로 딱! 문경 겨울 여행</td>\n",
       "      <td>경상북도 문경시</td>\n",
       "      <td>#문경여행</td>\n",
       "    </tr>\n",
       "  </tbody>\n",
       "</table>\n",
       "</div>"
      ],
      "text/plain": [
       "                                               title      area  \\\n",
       "0  [8월 걷기여행길9선] 금강 위에 피어나는 노을, 노을 위에 뜬 달, 충북 영동군 ...  충청북도 영동군   \n",
       "1             [일주일 살아보기 시즌 2] 은퇴 후 첫 여행, 아내와 단둘이 남해로  경상남도 남해군   \n",
       "2                      시간 여행 하는 화산 돌멩이를 찾아서, 한탄강지질공원      경기도    \n",
       "3                                감각이 살아나는 정선 화암동굴 여행   강원도 정선군   \n",
       "4                       봄이 아니어도 친하게 진해. 감성충만 진해여행 코스  경상남도 창원시   \n",
       "5             한국관광공사 추천 5월 걷기여행길, 유네스코 세계문화유산 산사 걷기길        전국   \n",
       "6               [지역명사와 함께하는 문화여행] 고판화에 미친 사람, 한선학 명사   강원도 원주시   \n",
       "7                  전어·꽃게·대하 가을 별미 삼총사와 함께한 서해안 가을 여행  충청남도 서천군   \n",
       "8                   [인천] 뚜벅이 알뜰여행의 베이스캠프, 인천 '호텔 아띠'     인천 중구   \n",
       "9                                 가족여행으로 딱! 문경 겨울 여행  경상북도 문경시   \n",
       "\n",
       "                tag  \n",
       "0            #걷기여행길  \n",
       "1        #일주일살아보기여행  \n",
       "2          #한탄강지질공원  \n",
       "3             #생태관광  \n",
       "4           #진해여행코스  \n",
       "5            #걷기여행길  \n",
       "6  #지역명사와_함께하는_문화여행  \n",
       "7             #공공누리  \n",
       "8         #한국관광품질인증  \n",
       "9             #문경여행  "
      ]
     },
     "execution_count": 56,
     "metadata": {},
     "output_type": "execute_result"
    }
   ],
   "source": [
    "import pandas as pd\n",
    "pd.DataFrame(visit_d)"
   ]
  },
  {
   "cell_type": "code",
   "execution_count": null,
   "metadata": {},
   "outputs": [],
   "source": []
  }
 ],
 "metadata": {
  "kernelspec": {
   "display_name": "Python 3",
   "language": "python",
   "name": "python3"
  },
  "language_info": {
   "codemirror_mode": {
    "name": "ipython",
    "version": 3
   },
   "file_extension": ".py",
   "mimetype": "text/x-python",
   "name": "python",
   "nbconvert_exporter": "python",
   "pygments_lexer": "ipython3",
   "version": "3.8.3"
  }
 },
 "nbformat": 4,
 "nbformat_minor": 4
}
