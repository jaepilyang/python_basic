{
 "cells": [
  {
   "cell_type": "code",
   "execution_count": 1,
   "metadata": {},
   "outputs": [],
   "source": [
    "# 천단위 구분자 찍기 코드\n",
    "# 임의의 수를 입력받은 후 천단위 구분자 ','를 찍어서 출력하는 코드\n",
    "# => 1321465647 => 1,321,465,647\n",
    "# => 21458 => 21,458"
   ]
  },
  {
   "cell_type": "code",
   "execution_count": 73,
   "metadata": {},
   "outputs": [
    {
     "name": "stdout",
     "output_type": "stream",
     "text": [
      "숫자를 입력하시오: 123456\n",
      "456\n",
      "['123', ',', '456']\n",
      "['', ',', '123', ',', '456']\n"
     ]
    }
   ],
   "source": [
    "list1=[]\n",
    "a = input('숫자를 입력하시오: ')\n",
    "print(a[-3:])\n",
    "for i in range(0, int(len(a)/3)+1):\n",
    "    if i == 0:\n",
    "        list1.append(a[-3:])\n",
    "        list1.insert(0,',')\n",
    "    elif i<int(len(a)/3):\n",
    "        list1.insert(0, a[(i+1)*-3:i*-3])\n",
    "        print(list1)\n",
    "        list1.insert(0,',')\n",
    "    else:\n",
    "        list1.insert(0, a[(i+1)*-3:i*-3])\n",
    "\n",
    "print(list1)\n",
    "# new_num=''\n",
    "# for i in range(int(len(a)/3)+1,0,-1):\n",
    "#     new_num += list1[i]\n",
    "    \n",
    "# print(new_num)"
   ]
  },
  {
   "cell_type": "code",
   "execution_count": null,
   "metadata": {},
   "outputs": [],
   "source": [
    "def thousand_separator(): \n",
    "    num = input('길이가 5 이상인 임의의 양의 정수를 입력해주세요.')\n",
    "    num[::-1]\n",
    "\n",
    "    new_num = ''\n",
    "\n",
    "    for i, n in enumerate(num[::-1]):\n",
    "        if (i%3 == 0) & (i != len(num)) & (i != 0):\n",
    "            new_num += ','+n\n",
    "        else:\n",
    "            new_num += n\n",
    "\n",
    "    return new_num[::-1]       "
   ]
  },
  {
   "cell_type": "code",
   "execution_count": null,
   "metadata": {},
   "outputs": [],
   "source": []
  },
  {
   "cell_type": "code",
   "execution_count": 49,
   "metadata": {},
   "outputs": [],
   "source": [
    "#\n",
    "url = '''http://news.naver.com/main/read.nhn?mode=LSD&mid=shm&sid1=105&oid= 028&aid=003'''\n",
    "\n",
    "# D = {'mode': 'LSD', 'mid': 'shm', 'sid1':105, 'oid': '028', 'aid'='003'}"
   ]
  },
  {
   "cell_type": "code",
   "execution_count": null,
   "metadata": {},
   "outputs": [],
   "source": [
    "d = {}\n",
    "for i in url.split('?')[1].split('&'):\n",
    "    k, v = i.split('=')\n",
    "    d[k] = v\n",
    "d"
   ]
  },
  {
   "cell_type": "code",
   "execution_count": null,
   "metadata": {},
   "outputs": [],
   "source": []
  },
  {
   "cell_type": "code",
   "execution_count": 63,
   "metadata": {},
   "outputs": [
    {
     "name": "stdout",
     "output_type": "stream",
     "text": [
      "{'k': 24, 'a': 12, '가': 12}\n"
     ]
    }
   ],
   "source": [
    "# 'text.txt'을 열어서 각각의 문자가 몇 개 들어있는지 dict로 저장\n",
    "d = {'k':23, 'a': 12, '가': 12}\n",
    "d['k']=d['k']+1\n",
    "print(d)"
   ]
  },
  {
   "cell_type": "code",
   "execution_count": 70,
   "metadata": {
    "collapsed": true
   },
   "outputs": [
    {
     "name": "stdout",
     "output_type": "stream",
     "text": [
      "{'우': 17, '리': 31, '가': 11, '자': 8, '주': 9, '걸': 6, '었': 8, '던': 6, '이': 12, '길': 7, '거': 7, '에': 9, '만': 6, '약': 3, '마': 3, '치': 3, '면': 4, '그': 4, '냥': 4, '모': 3, '른': 3, '척': 3, '해': 7, '줘': 8, '요': 6, '둘': 4, '나': 8, '지': 6, '않': 3, '게': 4, '교': 4, '통': 8, '을': 6, '정': 3, '심': 1, '하': 1, '싸': 1, '웠': 1, '눈': 1, '불': 2, '키': 1, '고': 8, '서': 4, '동': 1, '차': 1, '빵': 2, '너': 4, '빨': 1, '라': 3, '난': 2, '늦': 1, '싶': 2, '은': 2, '데': 3, '넌': 1, '멀': 2, '있': 3, '어': 8, '저': 2, '먼': 1, '산': 1, '바': 1, '다': 3, '로': 2, '갈': 3, '했': 2, '광': 1, '먹': 2, '무': 2, '엇': 2, '려': 1, '도': 6, '렸': 1, '의': 3, '소': 1, '내': 3, '비': 1, '는': 1, '대': 2, '간': 2, '죽': 1, '와': 1, '사': 2, '엔': 1, '보': 3, '험': 1, '같': 2, '것': 2, '없': 2, '잖': 1, '아': 3, '안': 1, '상': 2, '갓': 1, '퇴': 1, '근': 1, '시': 1, '닌': 1, '(': 2, '꽉': 1, '막': 1, '혀': 1, ')': 2, '앞': 1, '뒤': 1, '황': 1, '니': 1, '히': 1, '답': 1, '올': 1, '구': 1, '토': 1, '옆': 1, '린': 1, 'I': 1, 'd': 1, 'o': 6, 'n': 5, \"'\": 1, 't': 8, 'f': 2, 'e': 8, 'l': 2, 'i': 3, ',': 3, 'y': 2, 'h': 3, 'a': 2, 's': 4, 'p': 1, 'g': 1, 'Y': 1, 'u': 1, 'b': 1, 'r': 2, 'c': 1}\n"
     ]
    }
   ],
   "source": [
    "f = open('poem.txt', 'r')\n",
    "text = f.read()\n",
    "text1 = {}\n",
    "for line in text:\n",
    "    if (line==' ') or (line == '\\n'): \n",
    "        continue\n",
    "    elif line in text1:\n",
    "        text1[line]=text1[line]+1\n",
    "    else:\n",
    "        text1[line]=1\n",
    "print(text1)"
   ]
  },
  {
   "cell_type": "code",
   "execution_count": 81,
   "metadata": {},
   "outputs": [],
   "source": [
    "# 텍스트 파일을 열어서 특정 단어가 몇 개 존재하는지 출력.\n",
    "# 단, count를 사용하지 않는다.\n",
    "import re"
   ]
  },
  {
   "cell_type": "code",
   "execution_count": 99,
   "metadata": {},
   "outputs": [
    {
     "name": "stdout",
     "output_type": "stream",
     "text": [
      "단어를 입력하시오: 교통\n",
      "1\n",
      "2\n",
      "3\n",
      "4\n",
      "4\n"
     ]
    }
   ],
   "source": [
    "count = 0\n",
    "\n",
    "f = open('poem.txt', 'r')\n",
    "text = f.read()\n",
    "f.close()\n",
    "w = input('단어를 입력하시오: ')\n",
    "idx = text.find(w)\n",
    "\n",
    "while idx !=-1:\n",
    "    count += 1\n",
    "    idx = text.find(w, idx+1)\n",
    "    print(count)\n",
    "# return count\n",
    "\n",
    "print(count)"
   ]
  },
  {
   "cell_type": "code",
   "execution_count": 87,
   "metadata": {},
   "outputs": [
    {
     "data": {
      "text/plain": [
       "'자바은 재미있습니다?'"
      ]
     },
     "execution_count": 87,
     "metadata": {},
     "output_type": "execute_result"
    }
   ],
   "source": [
    "# 문자열에서 텍스트를 수정, 삭제, 추가가 안 됨\n",
    "\n",
    "text = '파이썬은 재미있습니다?'\n",
    "text.replace('파이썬', '자바')"
   ]
  },
  {
   "cell_type": "code",
   "execution_count": 88,
   "metadata": {},
   "outputs": [],
   "source": [
    "# 텍스트 파일에서 특정 단어를 다른 단어로 수정해서 새로운\n",
    "# 문서파일로 저장하는 코드를 작성하시오"
   ]
  },
  {
   "cell_type": "code",
   "execution_count": 91,
   "metadata": {},
   "outputs": [
    {
     "name": "stdout",
     "output_type": "stream",
     "text": [
      "바꿀 단어를 입력하시오: 문신\n",
      "새로운 단어를 입력하시오: 불주사\n"
     ]
    }
   ],
   "source": [
    "# file = text.txt\n",
    "f = open('time_diff.txt', 'r')\n",
    "text = f.read()\n",
    "f.close()\n",
    "old_world = input('바꿀 단어를 입력하시오: ')\n",
    "new_world = input('새로운 단어를 입력하시오: ')\n",
    "\n",
    "f = open('new_time_diff.txt', 'w')\n",
    "f.write(text.replace(old_world, new_world))\n",
    "f.close()"
   ]
  },
  {
   "cell_type": "code",
   "execution_count": 91,
   "metadata": {},
   "outputs": [
    {
     "name": "stdout",
     "output_type": "stream",
     "text": [
      "바꿀 단어를 입력하시오: 문신\n",
      "새로운 단어를 입력하시오: 불주사\n"
     ]
    }
   ],
   "source": [
    "# file = text.txt\n",
    "old_world = input('바꿀 단어를 입력하시오: ')\n",
    "new_world = input('새로운 단어를 입력하시오: ')\n",
    "\n",
    "with open('time_diff.txt', 'r') as f:\n",
    "    with open('time_diff_new.txt', 'w') as h:\n",
    "        data = f.read()\n",
    "        data1 = data.replace(old_world, new_world)\n",
    "        h.write(data1)\n",
    "        \n",
    "with open('time_diff_new.txt', 'r') as f:\n",
    "    data = f.read()\n",
    "    print(data)"
   ]
  },
  {
   "cell_type": "code",
   "execution_count": null,
   "metadata": {},
   "outputs": [],
   "source": []
  }
 ],
 "metadata": {
  "kernelspec": {
   "display_name": "Python 3",
   "language": "python",
   "name": "python3"
  },
  "language_info": {
   "codemirror_mode": {
    "name": "ipython",
    "version": 3
   },
   "file_extension": ".py",
   "mimetype": "text/x-python",
   "name": "python",
   "nbconvert_exporter": "python",
   "pygments_lexer": "ipython3",
   "version": "3.8.3"
  }
 },
 "nbformat": 4,
 "nbformat_minor": 4
}
