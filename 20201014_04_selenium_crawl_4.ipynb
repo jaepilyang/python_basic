{
 "cells": [
  {
   "cell_type": "code",
   "execution_count": 1,
   "metadata": {},
   "outputs": [
    {
     "name": "stdout",
     "output_type": "stream",
     "text": [
      "다운로드할 사이트주소 입력: http://marketdata.krx.co.kr/mdi#document=040301\n",
      "파일을 저장할 폴더를 입력하시오: ./file_down\n",
      "입력하신 폴더를 생성했습니다.\n"
     ]
    }
   ],
   "source": [
    "from bs4 import BeautifulSoup as bs\n",
    "from selenium import webdriver\n",
    "\n",
    "import time\n",
    "import os\n",
    "\n",
    "target_url = input('다운로드할 사이트주소 입력: ')\n",
    "target_dir = input('파일을 저장할 폴더를 입력하시오: ')\n",
    "\n",
    "if os.path.isdir(target_dir):\n",
    "    print('입력하신 폴더에 저장하겠습니다.')\n",
    "else:\n",
    "    os.mkdir(target_dir)\n",
    "    print('입력하신 폴더를 생성했습니다.')"
   ]
  },
  {
   "cell_type": "code",
   "execution_count": 2,
   "metadata": {},
   "outputs": [],
   "source": [
    "# http://marketdata.krx.co.kr/mdi#document=040301"
   ]
  },
  {
   "cell_type": "code",
   "execution_count": 3,
   "metadata": {},
   "outputs": [],
   "source": [
    "driver = webdriver.Chrome('./chromedriver')\n",
    "driver.set_window_size(800,900)\n",
    "driver.get(target_url)"
   ]
  },
  {
   "cell_type": "code",
   "execution_count": 6,
   "metadata": {},
   "outputs": [],
   "source": [
    "driver.find_element_by_id('gubun1a87ff679a2f3e71d9181a67b7542122c').click()\n",
    "driver.find_element_by_id('btnidc81e728d9d4c2f636f067f89cc14862c').click()\n",
    "driver.find_element_by_xpath('//*[@id=\"e4da3b7fbbce2345d7772b0674a318d5\"]/button[4]').click()"
   ]
  },
  {
   "cell_type": "code",
   "execution_count": null,
   "metadata": {},
   "outputs": [],
   "source": []
  }
 ],
 "metadata": {
  "kernelspec": {
   "display_name": "Python 3",
   "language": "python",
   "name": "python3"
  },
  "language_info": {
   "codemirror_mode": {
    "name": "ipython",
    "version": 3
   },
   "file_extension": ".py",
   "mimetype": "text/x-python",
   "name": "python",
   "nbconvert_exporter": "python",
   "pygments_lexer": "ipython3",
   "version": "3.8.3"
  }
 },
 "nbformat": 4,
 "nbformat_minor": 4
}
