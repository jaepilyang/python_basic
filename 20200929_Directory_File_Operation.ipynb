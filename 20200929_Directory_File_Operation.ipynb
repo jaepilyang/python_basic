{
 "cells": [
  {
   "cell_type": "code",
   "execution_count": null,
   "metadata": {},
   "outputs": [],
   "source": [
    "!dir"
   ]
  },
  {
   "cell_type": "code",
   "execution_count": 7,
   "metadata": {},
   "outputs": [
    {
     "data": {
      "text/plain": [
       "307"
      ]
     },
     "execution_count": 7,
     "metadata": {},
     "output_type": "execute_result"
    }
   ],
   "source": [
    "from os.path import getsize #os안의 papth에 있는 getsize 함수 가져오겠다.\n",
    "getsize('time_diff.txt')"
   ]
  },
  {
   "cell_type": "code",
   "execution_count": 3,
   "metadata": {},
   "outputs": [],
   "source": [
    "from os import remove\n",
    "# remove('time_diff.txt')"
   ]
  },
  {
   "cell_type": "code",
   "execution_count": null,
   "metadata": {},
   "outputs": [],
   "source": [
    "import os\n",
    "os.listdir()"
   ]
  },
  {
   "cell_type": "code",
   "execution_count": 6,
   "metadata": {},
   "outputs": [
    {
     "data": {
      "text/plain": [
       "'D:\\\\Bigdata\\\\python'"
      ]
     },
     "execution_count": 6,
     "metadata": {},
     "output_type": "execute_result"
    }
   ],
   "source": [
    "os.getcwd()"
   ]
  },
  {
   "cell_type": "code",
   "execution_count": 8,
   "metadata": {},
   "outputs": [],
   "source": [
    "os.mkdir('test_dir')"
   ]
  },
  {
   "cell_type": "code",
   "execution_count": 14,
   "metadata": {},
   "outputs": [
    {
     "name": "stdout",
     "output_type": "stream",
     "text": [
      "ban.txt file size:  22\n",
      "poem.txt file size:  1007\n"
     ]
    }
   ],
   "source": [
    "from os.path import getsize\n",
    "file1='ban.txt'\n",
    "file2='poem.txt'\n",
    "\n",
    "file_size1=getsize(file1)\n",
    "file_size2=getsize(file2)\n",
    "\n",
    "print('{} file size: '.format(file1), file_size1)\n",
    "print('{} file size: '.format(file2), file_size2)"
   ]
  },
  {
   "cell_type": "code",
   "execution_count": 21,
   "metadata": {},
   "outputs": [
    {
     "name": "stdout",
     "output_type": "stream",
     "text": [
      "삭제할 파일을 입력하시오: memo.txt\n",
      "memo.txt really remove this file? (y/n)y\n"
     ]
    },
    {
     "ename": "FileNotFoundError",
     "evalue": "[WinError 2] 지정된 파일을 찾을 수 없습니다: 'memo.txt'",
     "output_type": "error",
     "traceback": [
      "\u001b[1;31m---------------------------------------------------------------------------\u001b[0m",
      "\u001b[1;31mFileNotFoundError\u001b[0m                         Traceback (most recent call last)",
      "\u001b[1;32m<ipython-input-21-9a61acffe803>\u001b[0m in \u001b[0;36m<module>\u001b[1;34m\u001b[0m\n\u001b[0;32m      6\u001b[0m \u001b[1;33m\u001b[0m\u001b[0m\n\u001b[0;32m      7\u001b[0m \u001b[1;32mif\u001b[0m \u001b[0mk\u001b[0m\u001b[1;33m==\u001b[0m\u001b[1;34m'y'\u001b[0m\u001b[1;33m:\u001b[0m\u001b[1;33m\u001b[0m\u001b[1;33m\u001b[0m\u001b[0m\n\u001b[1;32m----> 8\u001b[1;33m     \u001b[0mremove\u001b[0m\u001b[1;33m(\u001b[0m\u001b[0mtarget_file\u001b[0m\u001b[1;33m)\u001b[0m\u001b[1;33m\u001b[0m\u001b[1;33m\u001b[0m\u001b[0m\n\u001b[0m\u001b[0;32m      9\u001b[0m     \u001b[0mprint\u001b[0m\u001b[1;33m(\u001b[0m\u001b[1;34m'{} file removed'\u001b[0m\u001b[1;33m.\u001b[0m\u001b[0mformat\u001b[0m\u001b[1;33m(\u001b[0m\u001b[0mtarget_file\u001b[0m\u001b[1;33m)\u001b[0m\u001b[1;33m)\u001b[0m\u001b[1;33m\u001b[0m\u001b[1;33m\u001b[0m\u001b[0m\n\u001b[0;32m     10\u001b[0m \u001b[1;33m\u001b[0m\u001b[0m\n",
      "\u001b[1;31mFileNotFoundError\u001b[0m: [WinError 2] 지정된 파일을 찾을 수 없습니다: 'memo.txt'"
     ]
    }
   ],
   "source": [
    "from os import remove\n",
    "\n",
    "target_file=input('삭제할 파일을 입력하시오: ')\n",
    "\n",
    "k=input('{} really remove this file? (y/n)'.format(target_file))\n",
    "\n",
    "if k=='y':\n",
    "    remove(target_file)\n",
    "    print('{} file removed'.format(target_file))\n",
    "   "
   ]
  },
  {
   "cell_type": "code",
   "execution_count": 25,
   "metadata": {},
   "outputs": [
    {
     "name": "stdout",
     "output_type": "stream",
     "text": [
      "삭제할 파일을 입력하시오: memo.txt\n",
      "memo.txt really remove this file? (y/n)y\n",
      "에러메시지:  [WinError 2] 지정된 파일을 찾을 수 없습니다: 'memo.txt'\n"
     ]
    }
   ],
   "source": [
    "from os import remove\n",
    "\n",
    "target_file=input('삭제할 파일을 입력하시오: ')\n",
    "\n",
    "k=input('{} really remove this file? (y/n)'.format(target_file))\n",
    "\n",
    "try:\n",
    "    k=='y'\n",
    "    remove(target_file)\n",
    "except Exception as e:\n",
    "    print('에러메시지: ',e)\n",
    "else:\n",
    "    print('{} file removed'.format(target_file))\n",
    "   "
   ]
  },
  {
   "cell_type": "code",
   "execution_count": 29,
   "metadata": {},
   "outputs": [
    {
     "name": "stdout",
     "output_type": "stream",
     "text": [
      "이름을 바꾸고자 하는 파일을 입력하세요: file.txt\n",
      "새로운 파일명을 입력하시오: 뽀로로.txt\n",
      "file.txt really rename this file? (y/n)y\n",
      "file.txt file renamed\n"
     ]
    }
   ],
   "source": [
    "from os import rename\n",
    "\n",
    "target_file=input('이름을 바꾸고자 하는 파일을 입력하세요: ')\n",
    "new_target_file=input('새로운 파일명을 입력하시오: ')\n",
    "\n",
    "k=input('{} really rename this file? (y/n)'.format(target_file))\n",
    "\n",
    "try:\n",
    "    if k=='y':\n",
    "        rename(target_file, new_target_file)\n",
    "except Exception as e:\n",
    "    print('에러메시지: ',e)\n",
    "else:\n",
    "    print('{} file renamed'.format(target_file))\n",
    "   "
   ]
  },
  {
   "cell_type": "code",
   "execution_count": 30,
   "metadata": {},
   "outputs": [
    {
     "name": "stdout",
     "output_type": "stream",
     "text": [
      " D 드라이브의 볼륨: 새 볼륨\n",
      " 볼륨 일련 번호: 8A45-2B88\n",
      "\n",
      " D:\\Bigdata\\python 디렉터리\n",
      "\n",
      "2020-09-29  오후 02:40    <DIR>          .\n",
      "2020-09-29  오후 02:40    <DIR>          ..\n",
      "2020-09-29  오후 02:15    <DIR>          .ipynb_checkpoints\n",
      "2020-09-17  오후 06:52            18,895 20200917_python_datatype_1.ipynb\n",
      "2020-09-21  오전 10:47            34,293 20200918_python_datatype_2_sequential.ipynb\n",
      "2020-09-18  오후 02:13            14,537 20200918_python_operation.ipynb\n",
      "2020-09-22  오전 10:43             9,711 20200921_IF.ipynb\n",
      "2020-09-22  오후 06:38            37,773 20200921_python_datatype_3_sequential_tuple_set_dictionary.ipynb\n",
      "2020-09-22  오후 05:24            26,991 20200922_python_for.ipynb\n",
      "2020-09-23  오후 06:40            87,463 20200923_python_file.ipynb\n",
      "2020-09-25  오후 12:27            75,067 20200924_python_function.ipynb\n",
      "2020-09-25  오후 06:15            38,880 20200925_python_class.ipynb\n",
      "2020-09-29  오후 02:38             9,104 20200929_Directory_File_Operation.ipynb\n",
      "2020-09-29  오후 02:14            18,310 20200929_python_Exception.ipynb\n",
      "2020-09-23  오후 02:15                22 ban.txt\n",
      "2020-09-23  오후 02:15                93 ban_student.txt\n",
      "2020-09-23  오후 12:50                30 data.txt\n",
      "2020-09-29  오후 12:44            21,286 Exception.ipynb\n",
      "2020-09-23  오후 12:32                59 newfile.txt\n",
      "2020-09-23  오후 04:23             1,007 poem.txt\n",
      "2020-09-23  오후 12:46                18 score.txt\n",
      "2020-09-23  오후 02:15            16,339 stockcode.txt\n",
      "2020-09-23  오후 04:15            16,339 stockcode_copy.txt\n",
      "2020-09-23  오후 03:42                25 stock_history.txt\n",
      "2020-09-23  오후 06:33                12 subject.txt\n",
      "2020-09-29  오후 02:21    <DIR>          test_dir\n",
      "2020-09-23  오후 02:51               603 time difference.txt\n",
      "2020-09-23  오후 06:35               307 time_diff.txt\n",
      "2020-09-29  오후 02:15             3,280 Untitled.ipynb\n",
      "2020-09-29  오후 02:05                11 뽀로로.txt\n",
      "              26개 파일             430,455 바이트\n",
      "               4개 디렉터리  744,008,151,040 바이트 남음\n"
     ]
    }
   ],
   "source": [
    "!dir"
   ]
  },
  {
   "cell_type": "code",
   "execution_count": 34,
   "metadata": {},
   "outputs": [
    {
     "data": {
      "text/plain": [
       "['.ipynb_checkpoints',\n",
       " '1_bigdata_ml_deeplearning.pptx',\n",
       " '2장 변수, 자료형(1), 주석.pptx',\n",
       " '3장 입출력문과 연산자.pptx',\n",
       " '4장 자료형(2).pptx',\n",
       " '5장 조건문.pptx',\n",
       " '6장 반복문.pptx',\n",
       " '7장 함수.pptx',\n",
       " '8장 클래스와 객체지향 프로그래밍.pptx',\n",
       " 'python']"
      ]
     },
     "execution_count": 34,
     "metadata": {},
     "output_type": "execute_result"
    }
   ],
   "source": [
    "import os\n",
    "\n",
    "pwd = os.getcwd()\n",
    "os.listdir(pwd)\n",
    "\n",
    "path = 'D:\\Bigdata'\n",
    "os.listdir(path)"
   ]
  },
  {
   "cell_type": "code",
   "execution_count": 42,
   "metadata": {},
   "outputs": [
    {
     "name": "stdout",
     "output_type": "stream",
     "text": [
      "D:\\Bigdata\\python\n",
      "\n",
      "D:\\Bigdata\n",
      "\n",
      "D:\\Bigdata\\python\n"
     ]
    }
   ],
   "source": [
    "import os\n",
    "pdir = os.getcwd()\n",
    "print(pdir)\n",
    "\n",
    "print()\n",
    "\n",
    "path='D:\\Bigdata'\n",
    "os.chdir(path)\n",
    "print(os.getcwd())\n",
    "\n",
    "print()\n",
    "\n",
    "pth='D:\\Bigdata\\python'\n",
    "os.chdir(pth)\n",
    "print(os.getcwd())"
   ]
  },
  {
   "cell_type": "code",
   "execution_count": null,
   "metadata": {},
   "outputs": [],
   "source": []
  }
 ],
 "metadata": {
  "kernelspec": {
   "display_name": "Python 3",
   "language": "python",
   "name": "python3"
  },
  "language_info": {
   "codemirror_mode": {
    "name": "ipython",
    "version": 3
   },
   "file_extension": ".py",
   "mimetype": "text/x-python",
   "name": "python",
   "nbconvert_exporter": "python",
   "pygments_lexer": "ipython3",
   "version": "3.8.3"
  }
 },
 "nbformat": 4,
 "nbformat_minor": 4
}
