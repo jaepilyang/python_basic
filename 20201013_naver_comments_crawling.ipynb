{
 "cells": [
  {
   "cell_type": "code",
   "execution_count": 2,
   "metadata": {},
   "outputs": [],
   "source": [
    "import requests\n",
    "from bs4 import BeautifulSoup as bs\n",
    "from selenium import webdriver\n",
    "from selenium.webdriver.common.keys import Keys"
   ]
  },
  {
   "cell_type": "code",
   "execution_count": 3,
   "metadata": {},
   "outputs": [],
   "source": [
    "url = 'https://news.naver.com/main/ranking/read.nhn?mid=etc&sid1=111&rankingType=popular_day&oid=001&aid=0011940300&date=20201013&type=1&rankingSeq=4&rankingSectionId=100'"
   ]
  },
  {
   "cell_type": "code",
   "execution_count": 4,
   "metadata": {},
   "outputs": [],
   "source": [
    "driver = webdriver.Chrome('./chromedriver')"
   ]
  },
  {
   "cell_type": "code",
   "execution_count": 5,
   "metadata": {},
   "outputs": [],
   "source": [
    "driver.get(url)"
   ]
  },
  {
   "cell_type": "code",
   "execution_count": 6,
   "metadata": {},
   "outputs": [],
   "source": [
    "html = driver.page_source\n",
    "soup = bs(html, 'html.parser')"
   ]
  },
  {
   "cell_type": "code",
   "execution_count": 7,
   "metadata": {},
   "outputs": [],
   "source": [
    "tags = soup.select('ul.u_cbox_list')"
   ]
  },
  {
   "cell_type": "code",
   "execution_count": 12,
   "metadata": {},
   "outputs": [],
   "source": [
    "lis = tags[0].find_all('li')"
   ]
  },
  {
   "cell_type": "code",
   "execution_count": 19,
   "metadata": {},
   "outputs": [
    {
     "data": {
      "text/plain": [
       "'sher****'"
      ]
     },
     "execution_count": 19,
     "metadata": {},
     "output_type": "execute_result"
    }
   ],
   "source": [
    "user_id = lis[0].select('span.u_cbox_nick')[0].text\n",
    "user_id"
   ]
  },
  {
   "cell_type": "code",
   "execution_count": 20,
   "metadata": {},
   "outputs": [
    {
     "data": {
      "text/plain": [
       "'2020.10.13. 14:53:41'"
      ]
     },
     "execution_count": 20,
     "metadata": {},
     "output_type": "execute_result"
    }
   ],
   "source": [
    "date = lis[0].select('span.u_cbox_date')[0].text"
   ]
  },
  {
   "cell_type": "code",
   "execution_count": 21,
   "metadata": {},
   "outputs": [
    {
     "data": {
      "text/plain": [
       "'세금 피하려고 한국 오려는 거잖아.애국심이 아니라'"
      ]
     },
     "execution_count": 21,
     "metadata": {},
     "output_type": "execute_result"
    }
   ],
   "source": [
    "comment = lis[0].select('span.u_cbox_contents')[0].text"
   ]
  },
  {
   "cell_type": "code",
   "execution_count": 22,
   "metadata": {},
   "outputs": [
    {
     "data": {
      "text/plain": [
       "'294'"
      ]
     },
     "execution_count": 22,
     "metadata": {},
     "output_type": "execute_result"
    }
   ],
   "source": [
    "like = lis[0].select('em.u_cbox_cnt_recomm')[0].text"
   ]
  },
  {
   "cell_type": "code",
   "execution_count": 23,
   "metadata": {},
   "outputs": [
    {
     "data": {
      "text/plain": [
       "'13'"
      ]
     },
     "execution_count": 23,
     "metadata": {},
     "output_type": "execute_result"
    }
   ],
   "source": [
    "dislike = lis[0].select('em.u_cbox_cnt_unrecomm')[0].text"
   ]
  },
  {
   "cell_type": "code",
   "execution_count": 25,
   "metadata": {},
   "outputs": [
    {
     "name": "stdout",
     "output_type": "stream",
     "text": [
      "sher****\n",
      "2020.10.13. 14:53:41\n",
      "세금 피하려고 한국 오려는 거잖아.애국심이 아니라\n",
      "294\n",
      "13\n",
      "==============================\n",
      "elle****\n",
      "2020.10.13. 14:52:49\n",
      "관광으로 와도 법무부에서 입국심사시에 막는다. 절대로 올 수 없다. 대한민국 병무청, 주LA영사 둘 다 멋지다!\n",
      "160\n",
      "10\n",
      "==============================\n",
      "ysse****\n",
      "2020.10.13. 14:53:37\n",
      "무슨 목적이든 입국은 절대 금지되어야 한다\n",
      "123\n",
      "6\n",
      "==============================\n",
      "sing****\n",
      "2020.10.13. 14:52:32\n",
      "조국을 버린 놈이 돈벌이를 위해 쳐 들어오시겠다?\n",
      "86\n",
      "3\n",
      "==============================\n",
      "kimf****\n",
      "2020.10.13. 14:49:15\n",
      "\"연예인으로서 한 약속을 지키지 못했을 뿐인데\" 이 한마디로 이미 충분한 듯.\n",
      "93\n",
      "13\n",
      "==============================\n",
      "xkia****\n",
      "2020.10.13. 15:29:50\n",
      "그때 일이 생생합니다.본인은 대한민국사람 아니라 미국인이라던.ㅜㅜ\n",
      "31\n",
      "1\n",
      "==============================\n",
      "phot****\n",
      "2020.10.13. 15:31:17\n",
      "병무청장이 법무부장관 국방부장관 보다 낫다.\n",
      "25\n",
      "4\n",
      "==============================\n",
      "mari****\n",
      "2020.10.13. 14:56:43\n",
      "이렇게 논란거리를 만드는 것만으로 충분한 피해를 입고있다. 걍 니 나라 미쿡에서 계속 살다가 뼈를 묻길 원한다.\n",
      "22\n",
      "1\n",
      "==============================\n",
      "kksh****\n",
      "2020.10.13. 14:53:09\n",
      "제발~스티브유 사진좀 보여주지마세요~제발~\n",
      "21\n",
      "3\n",
      "==============================\n",
      "yadd****\n",
      "2020.10.13. 14:57:44\n",
      "유승준이 아니라.....미스터 유... 우리나라 사람이 아니라 미국인이다\n",
      "19\n",
      "2\n",
      "==============================\n"
     ]
    }
   ],
   "source": [
    "for li in lis:\n",
    "    user_id = li.select('span.u_cbox_nick')[0].text\n",
    "    date = li.select('span.u_cbox_date')[0].text\n",
    "    comment = li.select('span.u_cbox_contents')[0].text\n",
    "    like = li.select('em.u_cbox_cnt_recomm')[0].text\n",
    "    dislike = li.select('em.u_cbox_cnt_unrecomm')[0].text\n",
    "    \n",
    "    print(user_id)\n",
    "    print(date)\n",
    "    print(comment)\n",
    "    print(like)\n",
    "    print(dislike)\n",
    "    print('='*30)"
   ]
  },
  {
   "cell_type": "code",
   "execution_count": null,
   "metadata": {},
   "outputs": [],
   "source": []
  }
 ],
 "metadata": {
  "kernelspec": {
   "display_name": "Python 3",
   "language": "python",
   "name": "python3"
  },
  "language_info": {
   "codemirror_mode": {
    "name": "ipython",
    "version": 3
   },
   "file_extension": ".py",
   "mimetype": "text/x-python",
   "name": "python",
   "nbconvert_exporter": "python",
   "pygments_lexer": "ipython3",
   "version": "3.8.3"
  }
 },
 "nbformat": 4,
 "nbformat_minor": 4
}
