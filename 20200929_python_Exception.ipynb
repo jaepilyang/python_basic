{
 "cells": [
  {
   "cell_type": "markdown",
   "metadata": {},
   "source": [
    "## Exception "
   ]
  },
  {
   "cell_type": "code",
   "execution_count": 1,
   "metadata": {},
   "outputs": [
    {
     "name": "stdout",
     "output_type": "stream",
     "text": [
      "안녕하세요\n"
     ]
    },
    {
     "ename": "NameError",
     "evalue": "name 'param' is not defined",
     "output_type": "error",
     "traceback": [
      "\u001b[1;31m---------------------------------------------------------------------------\u001b[0m",
      "\u001b[1;31mNameError\u001b[0m                                 Traceback (most recent call last)",
      "\u001b[1;32m<ipython-input-1-39051f2f5833>\u001b[0m in \u001b[0;36m<module>\u001b[1;34m\u001b[0m\n\u001b[0;32m      1\u001b[0m \u001b[0mprint\u001b[0m\u001b[1;33m(\u001b[0m\u001b[1;34m'안녕하세요'\u001b[0m\u001b[1;33m)\u001b[0m\u001b[1;33m\u001b[0m\u001b[1;33m\u001b[0m\u001b[0m\n\u001b[1;32m----> 2\u001b[1;33m \u001b[0mprint\u001b[0m\u001b[1;33m(\u001b[0m\u001b[0mparam\u001b[0m\u001b[1;33m)\u001b[0m\u001b[1;33m\u001b[0m\u001b[1;33m\u001b[0m\u001b[0m\n\u001b[0m\u001b[0;32m      3\u001b[0m \u001b[0mprint\u001b[0m\u001b[1;33m(\u001b[0m\u001b[1;34m'hello python'\u001b[0m\u001b[1;33m)\u001b[0m\u001b[1;33m\u001b[0m\u001b[1;33m\u001b[0m\u001b[0m\n",
      "\u001b[1;31mNameError\u001b[0m: name 'param' is not defined"
     ]
    }
   ],
   "source": [
    "print('안녕하세요')\n",
    "print(param)\n",
    "print('hello python')"
   ]
  },
  {
   "cell_type": "code",
   "execution_count": 2,
   "metadata": {},
   "outputs": [
    {
     "name": "stdout",
     "output_type": "stream",
     "text": [
      "안녕하세요\n",
      "예외가 발생했습니다.\n"
     ]
    }
   ],
   "source": [
    "try:\n",
    "    print('안녕하세요')\n",
    "    print(param)\n",
    "except:\n",
    "    print('예외가 발생했습니다.') # 예외 시 실행"
   ]
  },
  {
   "cell_type": "code",
   "execution_count": 4,
   "metadata": {},
   "outputs": [
    {
     "name": "stdout",
     "output_type": "stream",
     "text": [
      "안녕하세요\n",
      "예외가 발생했습니다.\n",
      "hello world\n"
     ]
    }
   ],
   "source": [
    "try:\n",
    "    print('안녕하세요')\n",
    "    print(param)\n",
    "except:\n",
    "    print('예외가 발생했습니다.')\n",
    "else:\n",
    "    print('예외가 발생하지 않았습니다.') # 예외가 발생하지 않았을시에 실행\n",
    "print('hello world')"
   ]
  },
  {
   "cell_type": "code",
   "execution_count": 5,
   "metadata": {},
   "outputs": [
    {
     "name": "stdout",
     "output_type": "stream",
     "text": [
      "안녕하세요\n",
      "예외가 발생했습니다.\n",
      "예외가 발생하지 않았습니다.\n",
      "hello world\n"
     ]
    }
   ],
   "source": [
    "try:\n",
    "    print('안녕하세요')\n",
    "    print(param)\n",
    "except:\n",
    "    print('예외가 발생했습니다.')\n",
    "finally:\n",
    "    print('예외가 발생하지 않았습니다.') #예외 여부에 상관없이 무조건 실행\n",
    "print('hello world')"
   ]
  },
  {
   "cell_type": "code",
   "execution_count": 6,
   "metadata": {},
   "outputs": [
    {
     "name": "stdout",
     "output_type": "stream",
     "text": [
      "name 'param' is not defined\n"
     ]
    }
   ],
   "source": [
    "try:\n",
    "    print(param)\n",
    "except Exception as e:\n",
    "    print(e)"
   ]
  },
  {
   "cell_type": "code",
   "execution_count": 8,
   "metadata": {},
   "outputs": [
    {
     "name": "stdout",
     "output_type": "stream",
     "text": [
      "name 'a' is not defined\n",
      "hello world\n"
     ]
    }
   ],
   "source": [
    "try:\n",
    "    c=a/b\n",
    "except Exception as e: # 에러 메시지를 기록할 수 있음\n",
    "    print(e)\n",
    "finally:\n",
    "    print('hello world')"
   ]
  },
  {
   "cell_type": "code",
   "execution_count": 9,
   "metadata": {},
   "outputs": [
    {
     "name": "stdout",
     "output_type": "stream",
     "text": [
      "division by zero\n"
     ]
    }
   ],
   "source": [
    "a=1\n",
    "b=0\n",
    "\n",
    "try:\n",
    "    c=a/b\n",
    "except Exception as e:\n",
    "    print(e)"
   ]
  },
  {
   "cell_type": "code",
   "execution_count": 11,
   "metadata": {},
   "outputs": [
    {
     "name": "stdout",
     "output_type": "stream",
     "text": [
      "hello\n",
      "division by zero\n",
      "hello python\n"
     ]
    }
   ],
   "source": [
    "a = 5\n",
    "b = 0\n",
    "L = ('hello')\n",
    "print('hello')\n",
    "\n",
    "try:\n",
    "    c=a/b\n",
    "except Exception as e:\n",
    "        print(e)\n",
    "        \n",
    "print('hello python')"
   ]
  },
  {
   "cell_type": "code",
   "execution_count": 12,
   "metadata": {},
   "outputs": [
    {
     "name": "stdout",
     "output_type": "stream",
     "text": [
      "hello\n"
     ]
    },
    {
     "ename": "ZeroDivisionError",
     "evalue": "division by zero",
     "output_type": "error",
     "traceback": [
      "\u001b[1;31m---------------------------------------------------------------------------\u001b[0m",
      "\u001b[1;31mZeroDivisionError\u001b[0m                         Traceback (most recent call last)",
      "\u001b[1;32m<ipython-input-12-b14b7f8a4434>\u001b[0m in \u001b[0;36m<module>\u001b[1;34m\u001b[0m\n\u001b[0;32m      4\u001b[0m \u001b[0mprint\u001b[0m\u001b[1;33m(\u001b[0m\u001b[1;34m'hello'\u001b[0m\u001b[1;33m)\u001b[0m\u001b[1;33m\u001b[0m\u001b[1;33m\u001b[0m\u001b[0m\n\u001b[0;32m      5\u001b[0m \u001b[1;33m\u001b[0m\u001b[0m\n\u001b[1;32m----> 6\u001b[1;33m \u001b[0mc\u001b[0m\u001b[1;33m=\u001b[0m\u001b[0ma\u001b[0m\u001b[1;33m/\u001b[0m\u001b[0mb\u001b[0m\u001b[1;33m\u001b[0m\u001b[1;33m\u001b[0m\u001b[0m\n\u001b[0m\u001b[0;32m      7\u001b[0m \u001b[1;33m\u001b[0m\u001b[0m\n\u001b[0;32m      8\u001b[0m \u001b[0mprint\u001b[0m\u001b[1;33m(\u001b[0m\u001b[1;34m'hello python'\u001b[0m\u001b[1;33m)\u001b[0m\u001b[1;33m\u001b[0m\u001b[1;33m\u001b[0m\u001b[0m\n",
      "\u001b[1;31mZeroDivisionError\u001b[0m: division by zero"
     ]
    }
   ],
   "source": [
    "a = 5\n",
    "b = 0\n",
    "L = ('hello')\n",
    "print('hello')\n",
    "\n",
    "c=a/b\n",
    "        \n",
    "print('hello python')"
   ]
  },
  {
   "cell_type": "code",
   "execution_count": 14,
   "metadata": {},
   "outputs": [
    {
     "name": "stdout",
     "output_type": "stream",
     "text": [
      "hello\n",
      "error message:  list index out of range\n",
      "hello python\n"
     ]
    }
   ],
   "source": [
    "a = 5\n",
    "b = 0\n",
    "L = [1,2,3]\n",
    "print('hello')\n",
    "\n",
    "try:\n",
    "    print(L[3])\n",
    "except Exception as e:\n",
    "    print('error message: ',e)\n",
    "        \n",
    "print('hello python')"
   ]
  },
  {
   "cell_type": "code",
   "execution_count": 16,
   "metadata": {},
   "outputs": [
    {
     "name": "stdout",
     "output_type": "stream",
     "text": [
      "1\n",
      "2\n"
     ]
    },
    {
     "ename": "KeyboardInterrupt",
     "evalue": "",
     "output_type": "error",
     "traceback": [
      "\u001b[1;31m---------------------------------------------------------------------------\u001b[0m",
      "\u001b[1;31mKeyboardInterrupt\u001b[0m                         Traceback (most recent call last)",
      "\u001b[1;32m<ipython-input-16-f0d2c16537b0>\u001b[0m in \u001b[0;36m<module>\u001b[1;34m\u001b[0m\n\u001b[0;32m      6\u001b[0m         \u001b[0mprint\u001b[0m\u001b[1;33m(\u001b[0m\u001b[0mcount\u001b[0m\u001b[1;33m)\u001b[0m\u001b[1;33m\u001b[0m\u001b[1;33m\u001b[0m\u001b[0m\n\u001b[0;32m      7\u001b[0m         \u001b[0mcount\u001b[0m\u001b[1;33m+=\u001b[0m\u001b[1;36m1\u001b[0m\u001b[1;33m\u001b[0m\u001b[1;33m\u001b[0m\u001b[0m\n\u001b[1;32m----> 8\u001b[1;33m         \u001b[0mtime\u001b[0m\u001b[1;33m.\u001b[0m\u001b[0msleep\u001b[0m\u001b[1;33m(\u001b[0m\u001b[1;36m2\u001b[0m\u001b[1;33m)\u001b[0m\u001b[1;33m\u001b[0m\u001b[1;33m\u001b[0m\u001b[0m\n\u001b[0m\u001b[0;32m      9\u001b[0m \u001b[1;31m# except Keyboardinterrupt:\u001b[0m\u001b[1;33m\u001b[0m\u001b[1;33m\u001b[0m\u001b[1;33m\u001b[0m\u001b[0m\n\u001b[0;32m     10\u001b[0m \u001b[1;31m#     print('사용자에 의해 중단되었습니다.')\u001b[0m\u001b[1;33m\u001b[0m\u001b[1;33m\u001b[0m\u001b[1;33m\u001b[0m\u001b[0m\n",
      "\u001b[1;31mKeyboardInterrupt\u001b[0m: "
     ]
    }
   ],
   "source": [
    "import time\n",
    "count = 1\n",
    "\n",
    "try:\n",
    "    while True:\n",
    "        print(count)\n",
    "        count+=1\n",
    "        time.sleep(2)\n",
    "# except Keyboardinterrupt:\n",
    "#     print('사용자에 의해 중단되었습니다.')\n",
    "except: #Exception as e: # 모든 에러메시지를 받겠다.\n",
    "    print('error message: ',e)\n",
    "    \n",
    "print('hello python')"
   ]
  },
  {
   "cell_type": "code",
   "execution_count": 18,
   "metadata": {},
   "outputs": [
    {
     "name": "stdout",
     "output_type": "stream",
     "text": [
      "1\n",
      "2\n",
      "사용자에 의해 중단되었습니다.\n",
      "hello python\n"
     ]
    }
   ],
   "source": [
    "import time\n",
    "count = 1\n",
    "\n",
    "try:\n",
    "    while True:\n",
    "        print(count)\n",
    "        count+=1\n",
    "        time.sleep(2)\n",
    "except KeyboardInterrupt: # 키보드인터럽트에 의한 에러만 받겠다.\n",
    "    print('사용자에 의해 중단되었습니다.')\n",
    "    \n",
    "print('hello python')"
   ]
  },
  {
   "cell_type": "code",
   "execution_count": 19,
   "metadata": {},
   "outputs": [
    {
     "name": "stdout",
     "output_type": "stream",
     "text": [
      "cannot divide by zero!!\n",
      "hello python\n"
     ]
    }
   ],
   "source": [
    "# 각각의 발생가능한 error에 대해 다른 예외처리도 가능...\n",
    "\n",
    "a = 5\n",
    "b = 0\n",
    "L = [1,2,3]\n",
    "\n",
    "try:\n",
    "    c=a/b\n",
    "    print(x)\n",
    "    print(L[3])\n",
    "except ZeroDivisionError:\n",
    "    print('cannot divide by zero!!')\n",
    "except NameError:\n",
    "    print('no variable named X')\n",
    "except IndexError:\n",
    "    print('out of indexing in list')\n",
    "else:\n",
    "    print('no error')\n",
    "\n",
    "print('hello python')"
   ]
  },
  {
   "cell_type": "code",
   "execution_count": 20,
   "metadata": {},
   "outputs": [
    {
     "name": "stdout",
     "output_type": "stream",
     "text": [
      "no variable named X\n",
      "hello python\n"
     ]
    }
   ],
   "source": [
    "# 각각의 발생가능한 error에 대해 다른 예외처리도 가능...\n",
    "\n",
    "a = 5\n",
    "b = 1\n",
    "L = [1,2,3]\n",
    "\n",
    "try:\n",
    "    c=a/b\n",
    "    print(x)\n",
    "    print(L[3])\n",
    "except ZeroDivisionError:\n",
    "    print('cannot divide by zero!!')\n",
    "except NameError:\n",
    "    print('no variable named X')\n",
    "except IndexError:\n",
    "    print('out of indexing in list')\n",
    "else:\n",
    "    print('no error')\n",
    "\n",
    "print('hello python')"
   ]
  },
  {
   "cell_type": "code",
   "execution_count": 21,
   "metadata": {},
   "outputs": [
    {
     "name": "stdout",
     "output_type": "stream",
     "text": [
      "100\n",
      "out of indexing in list\n",
      "hello python\n"
     ]
    }
   ],
   "source": [
    "# 각각의 발생가능한 error에 대해 다른 예외처리도 가능...\n",
    "\n",
    "a = 5\n",
    "b = 1\n",
    "L = [1,2,3]\n",
    "x=100\n",
    "\n",
    "try:\n",
    "    c=a/b\n",
    "    print(x)\n",
    "    print(L[3])\n",
    "except ZeroDivisionError:\n",
    "    print('cannot divide by zero!!')\n",
    "except NameError:\n",
    "    print('no variable named X')\n",
    "except IndexError:\n",
    "    print('out of indexing in list')\n",
    "else:\n",
    "    print('no error')\n",
    "\n",
    "print('hello python')"
   ]
  },
  {
   "cell_type": "code",
   "execution_count": 23,
   "metadata": {},
   "outputs": [
    {
     "name": "stdout",
     "output_type": "stream",
     "text": [
      "100\n",
      "3\n",
      "no error\n",
      "finally part\n",
      "hello python\n"
     ]
    }
   ],
   "source": [
    "# 각각의 발생가능한 error에 대해 다른 예외처리도 가능...\n",
    "\n",
    "a = 5\n",
    "b = 1\n",
    "L = [1,2,3]\n",
    "x=100\n",
    "\n",
    "try:\n",
    "    c=a/b\n",
    "    print(x)\n",
    "    print(L[2])\n",
    "except ZeroDivisionError:\n",
    "    print('cannot divide by zero!!')\n",
    "except NameError:\n",
    "    print('no variable named X')\n",
    "except IndexError:\n",
    "    print('out of indexing in list')\n",
    "else:\n",
    "    print('no error')\n",
    "\n",
    "finally:\n",
    "    print('finally part')\n",
    "    \n",
    "print('hello python')"
   ]
  },
  {
   "cell_type": "code",
   "execution_count": 23,
   "metadata": {},
   "outputs": [
    {
     "name": "stdout",
     "output_type": "stream",
     "text": [
      "100\n",
      "3\n",
      "no error\n",
      "finally part\n",
      "hello python\n"
     ]
    }
   ],
   "source": [
    "# 각각의 발생가능한 error에 대해 다른 예외처리도 가능...\n",
    "\n",
    "a = 5\n",
    "b = 1\n",
    "L = [1,2,3]\n",
    "x=100\n",
    "\n",
    "try:\n",
    "    c=a/b\n",
    "    print(x)\n",
    "    print(L[2])\n",
    "except ZeroDivisionError:\n",
    "    print('cannot divide by zero!!')\n",
    "except NameError:\n",
    "    print('no variable named X')\n",
    "except IndexError:\n",
    "    print('out of indexing in list')\n",
    "else:\n",
    "    print('no error')\n",
    "\n",
    "finally:\n",
    "    print('finally part')\n",
    "    \n",
    "print('hello python')"
   ]
  },
  {
   "cell_type": "code",
   "execution_count": 28,
   "metadata": {},
   "outputs": [
    {
     "name": "stdout",
     "output_type": "stream",
     "text": [
      "임의의 정수를 입력하세요: 2\n",
      "5.0\n",
      "hello world\n"
     ]
    }
   ],
   "source": [
    "num=int(input('임의의 정수를 입력하세요: '))\n",
    "\n",
    "try:\n",
    "    result = 10/num\n",
    "except:\n",
    "    print('0이 아닌 정수를 입력하시오')\n",
    "else:\n",
    "    print(result)\n",
    "\n",
    "print('hello world')"
   ]
  },
  {
   "cell_type": "code",
   "execution_count": 31,
   "metadata": {},
   "outputs": [
    {
     "name": "stdout",
     "output_type": "stream",
     "text": [
      "임의의 정수를 입력하세요: 5\n",
      "2.0\n",
      "hello world\n"
     ]
    }
   ],
   "source": [
    "num=int(input('임의의 정수를 입력하세요: '))\n",
    "\n",
    "try:\n",
    "    result = 10/num\n",
    "except ZeroDivisionError: # 0이었을 때만 에러 예외\n",
    "    print('0이 아닌 정수를 입력하시오')\n",
    "else:\n",
    "    print(result)\n",
    "\n",
    "print('hello world')"
   ]
  },
  {
   "cell_type": "code",
   "execution_count": 34,
   "metadata": {},
   "outputs": [
    {
     "name": "stdout",
     "output_type": "stream",
     "text": [
      "임의의 정수를 입력하세요: number\n",
      "숫자를 입력하시오.\n",
      "hello world\n"
     ]
    }
   ],
   "source": [
    "num=input('임의의 정수를 입력하세요: ')\n",
    "\n",
    "try:\n",
    "    result = 10/int(num)\n",
    "except ZeroDivisionError: \n",
    "    print('0이 아닌 정수를 입력하시오')\n",
    "except ValueError:\n",
    "    print('숫자를 입력하시오.')\n",
    "else:\n",
    "    print(result)\n",
    "\n",
    "print('hello world')"
   ]
  },
  {
   "cell_type": "code",
   "execution_count": 40,
   "metadata": {},
   "outputs": [
    {
     "name": "stdout",
     "output_type": "stream",
     "text": [
      "[Errno 2] No such file or directory: 'nofile'\n",
      "에러?\n"
     ]
    }
   ],
   "source": [
    "def openfile():\n",
    "    f = open('nofile')\n",
    "    line=f.read()\n",
    "    print(line)\n",
    "    f.close()\n",
    "try:    \n",
    "    openfile()\n",
    "except OSError as e: # 시스템 에러란 뜻\n",
    "    print(e)\n",
    "    \n",
    "print('에러?')\n",
    "# 함수 실행 시 발생할 오류를 예외처리하시오"
   ]
  },
  {
   "cell_type": "code",
   "execution_count": 37,
   "metadata": {},
   "outputs": [
    {
     "name": "stdout",
     "output_type": "stream",
     "text": [
      "대상이 존재하지 않습니다.\n"
     ]
    }
   ],
   "source": [
    "def openfile():\n",
    "    try:\n",
    "        f = open('nofile')\n",
    "    except:\n",
    "        print('대상이 존재하지 않습니다.')\n",
    "    else:\n",
    "        line=f.read()\n",
    "        print(line)\n",
    "        f.close()\n",
    "    \n",
    "openfile()\n",
    "# 함수 실행 시 발생할 오류를 예외처리하시오"
   ]
  },
  {
   "cell_type": "code",
   "execution_count": 47,
   "metadata": {},
   "outputs": [],
   "source": [
    "def writefile():\n",
    "    f = open('file.txt','w')\n",
    "    try:\n",
    "        f.write('hello world')\n",
    "    except:\n",
    "        print('oops!')\n",
    "    finally:\n",
    "        f.close()\n",
    "        return 'file.txt'"
   ]
  },
  {
   "cell_type": "code",
   "execution_count": 48,
   "metadata": {},
   "outputs": [
    {
     "data": {
      "text/plain": [
       "'file.txt'"
      ]
     },
     "execution_count": 48,
     "metadata": {},
     "output_type": "execute_result"
    }
   ],
   "source": [
    "file = writefile()\n",
    "file"
   ]
  },
  {
   "cell_type": "code",
   "execution_count": 49,
   "metadata": {},
   "outputs": [],
   "source": [
    "def readfile(file):\n",
    "    try:\n",
    "        f=open(file, 'r')\n",
    "    except Exception as e:\n",
    "        print(e)\n",
    "    else:\n",
    "        text=f.read()\n",
    "        print(text)\n",
    "        f.close()\n",
    "    finally:\n",
    "        print('file reading is over!!')"
   ]
  },
  {
   "cell_type": "code",
   "execution_count": 51,
   "metadata": {},
   "outputs": [
    {
     "name": "stdout",
     "output_type": "stream",
     "text": [
      "hello world\n",
      "file reading is over!!\n"
     ]
    }
   ],
   "source": [
    "file='file.txt'\n",
    "readfile(file)"
   ]
  },
  {
   "cell_type": "code",
   "execution_count": 52,
   "metadata": {},
   "outputs": [
    {
     "name": "stdout",
     "output_type": "stream",
     "text": [
      "[Errno 2] No such file or directory: 'file1.txt'\n",
      "file reading is over!!\n"
     ]
    }
   ],
   "source": [
    "file='file1.txt'\n",
    "readfile(file)"
   ]
  },
  {
   "cell_type": "code",
   "execution_count": null,
   "metadata": {},
   "outputs": [],
   "source": []
  }
 ],
 "metadata": {
  "kernelspec": {
   "display_name": "Python 3",
   "language": "python",
   "name": "python3"
  },
  "language_info": {
   "codemirror_mode": {
    "name": "ipython",
    "version": 3
   },
   "file_extension": ".py",
   "mimetype": "text/x-python",
   "name": "python",
   "nbconvert_exporter": "python",
   "pygments_lexer": "ipython3",
   "version": "3.8.3"
  }
 },
 "nbformat": 4,
 "nbformat_minor": 4
}
